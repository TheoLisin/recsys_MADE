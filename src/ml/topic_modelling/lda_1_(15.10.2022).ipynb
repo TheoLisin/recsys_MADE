{
 "cells": [
  {
   "cell_type": "code",
   "execution_count": 1,
   "metadata": {},
   "outputs": [],
   "source": [
    "import pandas as pd\n",
    "import json\n",
    "import numpy as np\n",
    "import seaborn as sns\n",
    "from matplotlib import pyplot as plt\n",
    "\n",
    "from pyspark import SparkConf, SparkContext\n",
    "from pyspark.sql import SparkSession\n",
    "from pyspark.sql.functions import udf, col, transform\n",
    "from pyspark.sql.types import BooleanType, IntegerType, ArrayType, StringType"
   ]
  },
  {
   "cell_type": "code",
   "execution_count": 2,
   "metadata": {},
   "outputs": [
    {
     "name": "stderr",
     "output_type": "stream",
     "text": [
      "[nltk_data] Downloading package wordnet to /home/denis/nltk_data...\n",
      "[nltk_data]   Package wordnet is already up-to-date!\n"
     ]
    },
    {
     "data": {
      "text/plain": [
       "True"
      ]
     },
     "execution_count": 2,
     "metadata": {},
     "output_type": "execute_result"
    }
   ],
   "source": [
    "import gensim\n",
    "from gensim.corpora import Dictionary\n",
    "from gensim.models import LdaModel, CoherenceModel\n",
    "from gensim.parsing.preprocessing import STOPWORDS\n",
    "from gensim import corpora, models\n",
    "from nltk.stem import WordNetLemmatizer, SnowballStemmer\n",
    "import nltk\n",
    "from nltk.stem.porter import *\n",
    "nltk.download('wordnet')"
   ]
  },
  {
   "cell_type": "code",
   "execution_count": 3,
   "metadata": {},
   "outputs": [],
   "source": [
    "spark = SparkSession \\\n",
    "        .builder \\\n",
    "        .master('local[*]') \\\n",
    "        .appName(\"PySpark for dblpv13\") \\\n",
    "        .config(\"spark.driver.memory\", \"18g\") \\\n",
    "        .config(\"spark.executor.memory\", \"18g\") \\\n",
    "        .config(\"spark.driver.maxResultSize\", \"9g\") \\\n",
    "        .getOrCreate()"
   ]
  },
  {
   "cell_type": "code",
   "execution_count": 4,
   "metadata": {},
   "outputs": [],
   "source": [
    "tt = spark.read.parquet(\"results/data.parquet\")"
   ]
  },
  {
   "cell_type": "code",
   "execution_count": 5,
   "metadata": {},
   "outputs": [],
   "source": [
    "test = tt.sample(withReplacement=False, fraction=0.10, seed=117)\n",
    "# test = tt"
   ]
  },
  {
   "cell_type": "code",
   "execution_count": 6,
   "metadata": {},
   "outputs": [],
   "source": [
    "df = test.filter('old_id is not null and old_id != \"\"') \\\n",
    "        .filter('abstract is not null and abstract != \"\"') \\\n",
    "        .select(['old_id', 'title', 'abstract']).toPandas()"
   ]
  },
  {
   "cell_type": "code",
   "execution_count": 7,
   "metadata": {},
   "outputs": [],
   "source": [
    "spark.stop()"
   ]
  },
  {
   "cell_type": "code",
   "execution_count": 8,
   "metadata": {},
   "outputs": [
    {
     "name": "stdout",
     "output_type": "stream",
     "text": [
      "<class 'pandas.core.frame.DataFrame'>\n",
      "RangeIndex: 386884 entries, 0 to 386883\n",
      "Data columns (total 3 columns):\n",
      " #   Column    Non-Null Count   Dtype \n",
      "---  ------    --------------   ----- \n",
      " 0   old_id    386884 non-null  object\n",
      " 1   title     386884 non-null  object\n",
      " 2   abstract  386884 non-null  object\n",
      "dtypes: object(3)\n",
      "memory usage: 8.9+ MB\n"
     ]
    },
    {
     "name": "stderr",
     "output_type": "stream",
     "text": [
      "/home/denis/anaconda3/lib/python3.7/site-packages/ipykernel_launcher.py:1: FutureWarning: null_counts is deprecated. Use show_counts instead\n",
      "  \"\"\"Entry point for launching an IPython kernel.\n"
     ]
    }
   ],
   "source": [
    "df.info(verbose=True, null_counts=True)"
   ]
  },
  {
   "cell_type": "code",
   "execution_count": 9,
   "metadata": {},
   "outputs": [
    {
     "data": {
      "text/html": [
       "<div>\n",
       "<style scoped>\n",
       "    .dataframe tbody tr th:only-of-type {\n",
       "        vertical-align: middle;\n",
       "    }\n",
       "\n",
       "    .dataframe tbody tr th {\n",
       "        vertical-align: top;\n",
       "    }\n",
       "\n",
       "    .dataframe thead th {\n",
       "        text-align: right;\n",
       "    }\n",
       "</style>\n",
       "<table border=\"1\" class=\"dataframe\">\n",
       "  <thead>\n",
       "    <tr style=\"text-align: right;\">\n",
       "      <th></th>\n",
       "      <th>old_id</th>\n",
       "      <th>title</th>\n",
       "      <th>abstract</th>\n",
       "    </tr>\n",
       "  </thead>\n",
       "  <tbody>\n",
       "    <tr>\n",
       "      <th>0</th>\n",
       "      <td>556fa0e92401b4b38c237451</td>\n",
       "      <td>Wire-Speed Differential SOAP Encoding</td>\n",
       "      <td>The use of SOAP based communication protocol i...</td>\n",
       "    </tr>\n",
       "    <tr>\n",
       "      <th>1</th>\n",
       "      <td>556fa5702401b4b38c23759d</td>\n",
       "      <td>Fusion of multitemporal and multiresolution re...</td>\n",
       "      <td>In this paper, we propose a novel method to fu...</td>\n",
       "    </tr>\n",
       "    <tr>\n",
       "      <th>2</th>\n",
       "      <td>556fa5822401b4b38c2375a3</td>\n",
       "      <td>Narrowband power line communications for mediu...</td>\n",
       "      <td>The aim of the paper is to show how narrowband...</td>\n",
       "    </tr>\n",
       "    <tr>\n",
       "      <th>3</th>\n",
       "      <td>556fa5b52401b4b38c2375b1</td>\n",
       "      <td>CMRR improvement for multichannel integrated r...</td>\n",
       "      <td>This paper presents Common Mode Rejection Rati...</td>\n",
       "    </tr>\n",
       "    <tr>\n",
       "      <th>4</th>\n",
       "      <td>556fa5dd2401b4b38c2375bb</td>\n",
       "      <td>Decongestion and vector difference based wavel...</td>\n",
       "      <td>Wavelength switching networks are circuit swit...</td>\n",
       "    </tr>\n",
       "    <tr>\n",
       "      <th>...</th>\n",
       "      <td>...</td>\n",
       "      <td>...</td>\n",
       "      <td>...</td>\n",
       "    </tr>\n",
       "    <tr>\n",
       "      <th>386879</th>\n",
       "      <td>607ead5fe4510cd7c8577020</td>\n",
       "      <td>Improved Monte Carlo Estimation of the Fisher ...</td>\n",
       "      <td>The Fisher information matrix provides a way t...</td>\n",
       "    </tr>\n",
       "    <tr>\n",
       "      <th>386880</th>\n",
       "      <td>607ead5fe4510cd7c8577025</td>\n",
       "      <td>On Stability of Automatic Generation Control</td>\n",
       "      <td>Automatic generation control (AGC) is one of t...</td>\n",
       "    </tr>\n",
       "    <tr>\n",
       "      <th>386881</th>\n",
       "      <td>607ead5fe4510cd7c857702b</td>\n",
       "      <td>An Improved Interest Point Detection Approach ...</td>\n",
       "      <td>Practical applications such as image registrat...</td>\n",
       "    </tr>\n",
       "    <tr>\n",
       "      <th>386882</th>\n",
       "      <td>60813dee91e011bce6b8ae64</td>\n",
       "      <td>Identify, Align, and Integrate: Matching Knowl...</td>\n",
       "      <td>Integrating external knowledge into commonse...</td>\n",
       "    </tr>\n",
       "    <tr>\n",
       "      <th>386883</th>\n",
       "      <td>60815a84e4510cd7c8660828</td>\n",
       "      <td>High Performance and Energy Efficient Integer ...</td>\n",
       "      <td>We present a multi-threaded implementation of ...</td>\n",
       "    </tr>\n",
       "  </tbody>\n",
       "</table>\n",
       "<p>386884 rows × 3 columns</p>\n",
       "</div>"
      ],
      "text/plain": [
       "                          old_id  \\\n",
       "0       556fa0e92401b4b38c237451   \n",
       "1       556fa5702401b4b38c23759d   \n",
       "2       556fa5822401b4b38c2375a3   \n",
       "3       556fa5b52401b4b38c2375b1   \n",
       "4       556fa5dd2401b4b38c2375bb   \n",
       "...                          ...   \n",
       "386879  607ead5fe4510cd7c8577020   \n",
       "386880  607ead5fe4510cd7c8577025   \n",
       "386881  607ead5fe4510cd7c857702b   \n",
       "386882  60813dee91e011bce6b8ae64   \n",
       "386883  60815a84e4510cd7c8660828   \n",
       "\n",
       "                                                    title  \\\n",
       "0                   Wire-Speed Differential SOAP Encoding   \n",
       "1       Fusion of multitemporal and multiresolution re...   \n",
       "2       Narrowband power line communications for mediu...   \n",
       "3       CMRR improvement for multichannel integrated r...   \n",
       "4       Decongestion and vector difference based wavel...   \n",
       "...                                                   ...   \n",
       "386879  Improved Monte Carlo Estimation of the Fisher ...   \n",
       "386880       On Stability of Automatic Generation Control   \n",
       "386881  An Improved Interest Point Detection Approach ...   \n",
       "386882  Identify, Align, and Integrate: Matching Knowl...   \n",
       "386883  High Performance and Energy Efficient Integer ...   \n",
       "\n",
       "                                                 abstract  \n",
       "0       The use of SOAP based communication protocol i...  \n",
       "1       In this paper, we propose a novel method to fu...  \n",
       "2       The aim of the paper is to show how narrowband...  \n",
       "3       This paper presents Common Mode Rejection Rati...  \n",
       "4       Wavelength switching networks are circuit swit...  \n",
       "...                                                   ...  \n",
       "386879  The Fisher information matrix provides a way t...  \n",
       "386880  Automatic generation control (AGC) is one of t...  \n",
       "386881  Practical applications such as image registrat...  \n",
       "386882    Integrating external knowledge into commonse...  \n",
       "386883  We present a multi-threaded implementation of ...  \n",
       "\n",
       "[386884 rows x 3 columns]"
      ]
     },
     "execution_count": 9,
     "metadata": {},
     "output_type": "execute_result"
    }
   ],
   "source": [
    "df"
   ]
  },
  {
   "cell_type": "code",
   "execution_count": 10,
   "metadata": {},
   "outputs": [],
   "source": [
    "# df.to_csv('results/part_data.csv', index=False, sep=';')"
   ]
  },
  {
   "cell_type": "markdown",
   "metadata": {},
   "source": [
    "### Text"
   ]
  },
  {
   "cell_type": "code",
   "execution_count": 10,
   "metadata": {},
   "outputs": [],
   "source": [
    "stemmer = SnowballStemmer(language='english')\n",
    "def lemmatize_stemming(text):\n",
    "    return stemmer.stem(WordNetLemmatizer().lemmatize(text, pos='v'))\n",
    "#     return WordNetLemmatizer().lemmatize(text, pos='v')\n",
    "\n",
    "def preprocess(text):\n",
    "    result = []\n",
    "    for token in gensim.utils.simple_preprocess(text):\n",
    "        if token not in gensim.parsing.preprocessing.STOPWORDS and len(token) > 3:\n",
    "            result.append(lemmatize_stemming(token))\n",
    "    return result"
   ]
  },
  {
   "cell_type": "code",
   "execution_count": 11,
   "metadata": {},
   "outputs": [
    {
     "name": "stdout",
     "output_type": "stream",
     "text": [
      "In this paper, we propose a novel method to fuse multidate, multiresolution, and multiband remote sensing imagery for multitemporal classification purposes. The proposed method is based on an explicit hierarchical graph-based model that is sufficiently flexible to deal with multisource coregistered time series of images collected at different spatial resolutions. An especially novel element of the proposed approach is the use of multiple quad-trees in cascade, each associated with an image acquired at a different date, with the aim to characterize the temporal correlations associated with distinct images in an input time series. Experimental results are shown with multitemporal and multiresolution Pléiades data1.\n",
      "===\n",
      "paper propos novel method fuse multid multiresolut multiband remot sens imageri multitempor classif purpos propos method base explicit hierarch graph base model suffici flexibl deal multisourc coregist time seri imag collect differ spatial resolut especi novel element propos approach multipl quad tree cascad associ imag acquir differ date character tempor correl associ distinct imag input time seri experiment result show multitempor multiresolut iad data\n"
     ]
    }
   ],
   "source": [
    "row = df.iloc[1]\n",
    "print(row['abstract'])\n",
    "print('===')\n",
    "print(' '.join(preprocess(row['abstract'])))"
   ]
  },
  {
   "cell_type": "code",
   "execution_count": 12,
   "metadata": {},
   "outputs": [],
   "source": [
    "df = df[['title', 'abstract']]"
   ]
  },
  {
   "cell_type": "code",
   "execution_count": 13,
   "metadata": {},
   "outputs": [],
   "source": [
    "import warnings\n",
    "import multiprocessing\n",
    "from contextlib import closing\n",
    "warnings.filterwarnings(\"ignore\")"
   ]
  },
  {
   "cell_type": "code",
   "execution_count": 14,
   "metadata": {},
   "outputs": [
    {
     "name": "stdout",
     "output_type": "stream",
     "text": [
      "CPU times: user 6.05 s, sys: 1.4 s, total: 7.45 s\n",
      "Wall time: 1min 3s\n"
     ]
    }
   ],
   "source": [
    "%%time\n",
    "\n",
    "with closing(multiprocessing.Pool(16)) as pool:\n",
    "    ready_corpus = pool.map(preprocess, df['title'] + ' ' + df['abstract'])"
   ]
  },
  {
   "cell_type": "code",
   "execution_count": 16,
   "metadata": {},
   "outputs": [],
   "source": [
    "# %%time\n",
    "\n",
    "# import gc\n",
    "\n",
    "# n = 50000\n",
    "# ready_corpus = []\n",
    "\n",
    "# for i in range(100):\n",
    "#     temp = pd.read_csv('results/all_data.csv', sep=';', header=None, skiprows=i*50000 + 1, nrows=50000)\n",
    "#     with closing(multiprocessing.Pool(16)) as pool:\n",
    "#         temp_ready_corpus = pool.map(preprocess, temp[1].apply(str) + ' ' + temp[2].apply(str))\n",
    "#         ready_corpus.extend(temp_ready_corpus)\n",
    "#         print(len(temp_ready_corpus), len(ready_corpus))\n",
    "\n",
    "# # for i in range(100):\n",
    "# #     temp = df[0:n].copy(deep=True)\n",
    "# #     df = df[n:]\n",
    "# #     with closing(multiprocessing.Pool(16)) as pool:\n",
    "# #         temp_ready_corpus = pool.map(preprocess, temp['title'] + ' ' + temp['abstract'])\n",
    "# #         ready_corpus += temp_ready_corpus\n",
    "# #         print(i, (i+1)*n, len(temp_ready_corpus), len(ready_corpus))\n",
    "# #         gc.collect()"
   ]
  },
  {
   "cell_type": "code",
   "execution_count": 15,
   "metadata": {},
   "outputs": [],
   "source": [
    "df = None"
   ]
  },
  {
   "cell_type": "code",
   "execution_count": 16,
   "metadata": {},
   "outputs": [
    {
     "data": {
      "text/plain": [
       "386884"
      ]
     },
     "execution_count": 16,
     "metadata": {},
     "output_type": "execute_result"
    }
   ],
   "source": [
    "len(ready_corpus)"
   ]
  },
  {
   "cell_type": "code",
   "execution_count": 17,
   "metadata": {},
   "outputs": [],
   "source": [
    "dictionary = gensim.corpora.Dictionary(ready_corpus)"
   ]
  },
  {
   "cell_type": "code",
   "execution_count": 18,
   "metadata": {},
   "outputs": [
    {
     "data": {
      "text/plain": [
       "215202"
      ]
     },
     "execution_count": 18,
     "metadata": {},
     "output_type": "execute_result"
    }
   ],
   "source": [
    "len(dictionary)"
   ]
  },
  {
   "cell_type": "code",
   "execution_count": 19,
   "metadata": {},
   "outputs": [
    {
     "data": {
      "text/plain": [
       "10000"
      ]
     },
     "execution_count": 19,
     "metadata": {},
     "output_type": "execute_result"
    }
   ],
   "source": [
    "dictionary.filter_extremes(no_below=30, no_above=0.4, keep_n=10000)\n",
    "len(dictionary)"
   ]
  },
  {
   "cell_type": "code",
   "execution_count": 20,
   "metadata": {},
   "outputs": [
    {
     "name": "stdout",
     "output_type": "stream",
     "text": [
      "CPU times: user 10.1 s, sys: 2.37 s, total: 12.4 s\n",
      "Wall time: 12.6 s\n"
     ]
    }
   ],
   "source": [
    "%%time\n",
    "\n",
    "with closing(multiprocessing.Pool(16)) as pool:\n",
    "    bow_corpus = pool.map(dictionary.doc2bow, ready_corpus)"
   ]
  },
  {
   "cell_type": "code",
   "execution_count": 21,
   "metadata": {},
   "outputs": [
    {
     "data": {
      "text/plain": [
       "386884"
      ]
     },
     "execution_count": 21,
     "metadata": {},
     "output_type": "execute_result"
    }
   ],
   "source": [
    "len(bow_corpus)"
   ]
  },
  {
   "cell_type": "code",
   "execution_count": 22,
   "metadata": {},
   "outputs": [
    {
     "name": "stdout",
     "output_type": "stream",
     "text": [
      "CPU times: user 2.74 s, sys: 6.92 ms, total: 2.75 s\n",
      "Wall time: 2.75 s\n"
     ]
    }
   ],
   "source": [
    "%%time\n",
    "\n",
    "tfidf = models.TfidfModel(bow_corpus)\n",
    "corpus_tfidf = tfidf[bow_corpus]"
   ]
  },
  {
   "cell_type": "code",
   "execution_count": 25,
   "metadata": {},
   "outputs": [
    {
     "name": "stdout",
     "output_type": "stream",
     "text": [
      "CPU times: user 1min 10s, sys: 8.35 s, total: 1min 18s\n",
      "Wall time: 1min 8s\n"
     ]
    }
   ],
   "source": [
    "%%time\n",
    "\n",
    "lda_model = gensim.models.LdaMulticore(\n",
    "    bow_corpus,\n",
    "    num_topics=10,\n",
    "    id2word=dictionary,\n",
    "    passes=5,\n",
    "    iterations=10,\n",
    "    workers=8\n",
    ")"
   ]
  },
  {
   "cell_type": "code",
   "execution_count": 26,
   "metadata": {},
   "outputs": [
    {
     "name": "stdout",
     "output_type": "stream",
     "text": [
      "Topic: 0 \n",
      "Words: 0.019*\"user\" + 0.016*\"data\" + 0.014*\"servic\" + 0.012*\"inform\" + 0.010*\"manag\" + 0.009*\"applic\" + 0.008*\"provid\" + 0.008*\"develop\" + 0.008*\"social\" + 0.007*\"model\"\n",
      "Topic: 1 \n",
      "Words: 0.040*\"model\" + 0.012*\"system\" + 0.010*\"agent\" + 0.009*\"approach\" + 0.009*\"robot\" + 0.009*\"program\" + 0.009*\"control\" + 0.008*\"process\" + 0.008*\"logic\" + 0.008*\"languag\"\n",
      "Topic: 2 \n",
      "Words: 0.036*\"problem\" + 0.032*\"algorithm\" + 0.026*\"optim\" + 0.018*\"graph\" + 0.012*\"time\" + 0.010*\"number\" + 0.010*\"result\" + 0.010*\"comput\" + 0.009*\"solut\" + 0.008*\"solv\"\n",
      "Topic: 3 \n",
      "Words: 0.024*\"method\" + 0.015*\"estim\" + 0.013*\"control\" + 0.012*\"propos\" + 0.011*\"model\" + 0.011*\"linear\" + 0.010*\"time\" + 0.009*\"function\" + 0.009*\"paramet\" + 0.009*\"error\"\n",
      "Topic: 4 \n",
      "Words: 0.024*\"imag\" + 0.012*\"method\" + 0.010*\"propos\" + 0.008*\"detect\" + 0.008*\"motion\" + 0.008*\"result\" + 0.007*\"track\" + 0.007*\"signal\" + 0.007*\"estim\" + 0.007*\"algorithm\"\n",
      "Topic: 5 \n",
      "Words: 0.013*\"test\" + 0.010*\"power\" + 0.009*\"model\" + 0.009*\"design\" + 0.008*\"control\" + 0.007*\"simul\" + 0.007*\"high\" + 0.007*\"result\" + 0.007*\"time\" + 0.007*\"studi\"\n",
      "Topic: 6 \n",
      "Words: 0.022*\"algorithm\" + 0.018*\"cluster\" + 0.017*\"secur\" + 0.016*\"propos\" + 0.014*\"fuzzi\" + 0.013*\"attack\" + 0.013*\"scheme\" + 0.012*\"memori\" + 0.011*\"data\" + 0.009*\"effici\"\n",
      "Topic: 7 \n",
      "Words: 0.011*\"research\" + 0.011*\"learn\" + 0.010*\"studi\" + 0.009*\"develop\" + 0.009*\"design\" + 0.008*\"softwar\" + 0.007*\"student\" + 0.006*\"inform\" + 0.006*\"experi\" + 0.006*\"result\"\n",
      "Topic: 8 \n",
      "Words: 0.025*\"data\" + 0.021*\"method\" + 0.019*\"model\" + 0.017*\"featur\" + 0.016*\"learn\" + 0.015*\"propos\" + 0.014*\"imag\" + 0.012*\"network\" + 0.011*\"predict\" + 0.010*\"approach\"\n",
      "Topic: 9 \n",
      "Words: 0.040*\"network\" + 0.015*\"perform\" + 0.014*\"propos\" + 0.011*\"channel\" + 0.011*\"energi\" + 0.010*\"communic\" + 0.009*\"power\" + 0.009*\"time\" + 0.009*\"wireless\" + 0.008*\"effici\"\n"
     ]
    }
   ],
   "source": [
    "for idx, topic in lda_model.print_topics(-1):\n",
    "    print('Topic: {} \\nWords: {}'.format(idx, topic))"
   ]
  },
  {
   "cell_type": "code",
   "execution_count": null,
   "metadata": {},
   "outputs": [],
   "source": [
    "%%time\n",
    "\n",
    "lda_model_2 = gensim.models.LdaMulticore(\n",
    "    corpus_tfidf,\n",
    "    num_topics=10,\n",
    "    id2word=dictionary,\n",
    "    passes=5,\n",
    "    iterations=10,\n",
    "    workers=8\n",
    ")"
   ]
  },
  {
   "cell_type": "code",
   "execution_count": null,
   "metadata": {},
   "outputs": [],
   "source": [
    "for idx, topic in lda_model_2.print_topics(-1):\n",
    "    print('Topic: {} \\nWords: {}'.format(idx, topic))"
   ]
  },
  {
   "cell_type": "code",
   "execution_count": 27,
   "metadata": {},
   "outputs": [],
   "source": [
    "coherence_model_lda = CoherenceModel(model=lda_model, texts=ready_corpus,\n",
    "                                     dictionary=dictionary,\n",
    "#                                      coherence='c_v',\n",
    "                                     coherence='u_mass',\n",
    "                                    processes=8)"
   ]
  },
  {
   "cell_type": "code",
   "execution_count": 28,
   "metadata": {},
   "outputs": [],
   "source": [
    "coherence_lda = coherence_model_lda.get_coherence()"
   ]
  },
  {
   "cell_type": "code",
   "execution_count": 29,
   "metadata": {},
   "outputs": [
    {
     "name": "stdout",
     "output_type": "stream",
     "text": [
      "Coherence Score: -1.9913886876018942\n"
     ]
    }
   ],
   "source": [
    "print(f'Coherence Score: {coherence_lda}')"
   ]
  },
  {
   "cell_type": "code",
   "execution_count": 30,
   "metadata": {},
   "outputs": [],
   "source": [
    "def compute_coherence_values(corpus, ready_corpus, dictionary, k, a, b):\n",
    "    lda_model = gensim.models.LdaMulticore(corpus=corpus,\n",
    "                                           id2word=dictionary,\n",
    "                                           num_topics=k, \n",
    "                                           random_state=100,\n",
    "#                                            chunksize=100,\n",
    "                                           passes=3,\n",
    "                                           iterations=50,\n",
    "                                           chunksize = 5000,\n",
    "                                           alpha=a,\n",
    "                                           eta=b,\n",
    "                                           workers=16)\n",
    "    \n",
    "    coherence_model_lda = CoherenceModel(model=lda_model,\n",
    "#                                          texts=ready_corpus,\n",
    "                                         corpus=corpus,\n",
    "                                         dictionary=dictionary,\n",
    "#                                          coherence='c_v',\n",
    "                                         coherence='u_mass',\n",
    "                                        processes=8)\n",
    "    return coherence_model_lda.get_coherence()"
   ]
  },
  {
   "cell_type": "code",
   "execution_count": null,
   "metadata": {},
   "outputs": [
    {
     "data": {
      "application/vnd.jupyter.widget-view+json": {
       "model_id": "9f61502a87234a618794aa5c35440b19",
       "version_major": 2,
       "version_minor": 0
      },
      "text/plain": [
       "  0%|          | 0/4 [00:00<?, ?it/s]"
      ]
     },
     "metadata": {},
     "output_type": "display_data"
    }
   ],
   "source": [
    "import numpy as np\n",
    "from tqdm import tqdm_notebook\n",
    "grid = {}\n",
    "grid['Validation_Set'] = {}\n",
    "# Topics range\n",
    "min_topics = 2\n",
    "max_topics = 20\n",
    "step_size = 1\n",
    "# topics_range = list(range(min_topics, max_topics, step_size))\n",
    "# topics_range.extend(list(range(23, 45, 3)))\n",
    "topics_range = [4, 7, 8, 9]\n",
    "\n",
    "# Alpha parameter\n",
    "# alpha = list(np.arange(0.01, 1, 0.5))\n",
    "# alpha.append('symmetric')\n",
    "alpha = []\n",
    "alpha.append('asymmetric')\n",
    "# alpha = ['auto',]\n",
    "\n",
    "# Beta parameter\n",
    "# beta = list(np.arange(0.01, 1, 0.5))\n",
    "beta = ['auto',]\n",
    "# beta.append(None)\n",
    "# beta = ['auto',]\n",
    "\n",
    "# Validation sets\n",
    "num_of_docs = len(bow_corpus)\n",
    "corpus_sets = [# gensim.utils.ClippedCorpus(corpus, num_of_docs*0.25), \n",
    "               # gensim.utils.ClippedCorpus(corpus, num_of_docs*0.5), \n",
    "#                gensim.utils.ClippedCorpus(corpus, num_of_docs*0.75), \n",
    "               corpus_tfidf]\n",
    "corpus_title = ['75% Corpus', '100% Corpus']\n",
    "\n",
    "model_results = {'Validation_Set': [],\n",
    "                 'Topics': [],\n",
    "                 'Alpha': [],\n",
    "                 'Beta': [],\n",
    "                 'Coherence': []\n",
    "                }\n",
    "\n",
    "# Can take a long time to run\n",
    "if 1 == 1:\n",
    "    pbar = tqdm_notebook(total=len(corpus_sets) * len(topics_range) * len(alpha) * len(beta))\n",
    "    \n",
    "    # iterate through validation corpuses\n",
    "    for i in range(len(corpus_sets)):\n",
    "        # iterate through number of topics\n",
    "        for k in topics_range:\n",
    "            # iterate through alpha values\n",
    "            for a in alpha:\n",
    "                # iterare through beta values\n",
    "                for b in beta:\n",
    "                    # get the coherence score for the given parameters\n",
    "                    cv = compute_coherence_values(corpus=corpus_sets[i], ready_corpus=ready_corpus,\n",
    "                                                  dictionary=dictionary, \n",
    "                                                  k=k, a=a, b=b)\n",
    "                    # Save the model results\n",
    "                    model_results['Validation_Set'].append(corpus_title[i])\n",
    "                    model_results['Topics'].append(k)\n",
    "                    model_results['Alpha'].append(a)\n",
    "                    model_results['Beta'].append(b)\n",
    "                    model_results['Coherence'].append(cv)\n",
    "                    \n",
    "                    pbar.update(1)\n",
    "                    pd.DataFrame(model_results).to_csv('results/lda_tuning_results.csv', index=False, sep=';')\n",
    "    \n",
    "    pd.DataFrame(model_results).to_csv('results/lda_tuning_results.csv', index=False, sep=';')\n",
    "    pbar.close()"
   ]
  },
  {
   "cell_type": "markdown",
   "metadata": {},
   "source": [
    "### Check results                       "
   ]
  },
  {
   "cell_type": "code",
   "execution_count": 25,
   "metadata": {},
   "outputs": [],
   "source": [
    "import pandas as pd\n",
    "import json\n",
    "import numpy as np\n",
    "import seaborn as sns\n",
    "from matplotlib import pyplot as plt\n",
    "\n",
    "%matplotlib inline"
   ]
  },
  {
   "cell_type": "code",
   "execution_count": 26,
   "metadata": {},
   "outputs": [],
   "source": [
    "res = pd.read_csv('results/lda_tuning_results_10_big.csv', sep=';')"
   ]
  },
  {
   "cell_type": "code",
   "execution_count": 27,
   "metadata": {},
   "outputs": [
    {
     "data": {
      "text/html": [
       "<div>\n",
       "<style scoped>\n",
       "    .dataframe tbody tr th:only-of-type {\n",
       "        vertical-align: middle;\n",
       "    }\n",
       "\n",
       "    .dataframe tbody tr th {\n",
       "        vertical-align: top;\n",
       "    }\n",
       "\n",
       "    .dataframe thead th {\n",
       "        text-align: right;\n",
       "    }\n",
       "</style>\n",
       "<table border=\"1\" class=\"dataframe\">\n",
       "  <thead>\n",
       "    <tr style=\"text-align: right;\">\n",
       "      <th></th>\n",
       "      <th>Validation_Set</th>\n",
       "      <th>Topics</th>\n",
       "      <th>Alpha</th>\n",
       "      <th>Beta</th>\n",
       "      <th>Coherence</th>\n",
       "    </tr>\n",
       "  </thead>\n",
       "  <tbody>\n",
       "    <tr>\n",
       "      <th>0</th>\n",
       "      <td>75% Corpus</td>\n",
       "      <td>2</td>\n",
       "      <td>0.01</td>\n",
       "      <td>NaN</td>\n",
       "      <td>-1.696129</td>\n",
       "    </tr>\n",
       "    <tr>\n",
       "      <th>1</th>\n",
       "      <td>75% Corpus</td>\n",
       "      <td>2</td>\n",
       "      <td>0.51</td>\n",
       "      <td>NaN</td>\n",
       "      <td>-1.784050</td>\n",
       "    </tr>\n",
       "    <tr>\n",
       "      <th>2</th>\n",
       "      <td>75% Corpus</td>\n",
       "      <td>2</td>\n",
       "      <td>asymmetric</td>\n",
       "      <td>NaN</td>\n",
       "      <td>-1.985348</td>\n",
       "    </tr>\n",
       "    <tr>\n",
       "      <th>3</th>\n",
       "      <td>75% Corpus</td>\n",
       "      <td>3</td>\n",
       "      <td>0.01</td>\n",
       "      <td>NaN</td>\n",
       "      <td>-1.812634</td>\n",
       "    </tr>\n",
       "    <tr>\n",
       "      <th>4</th>\n",
       "      <td>75% Corpus</td>\n",
       "      <td>3</td>\n",
       "      <td>0.51</td>\n",
       "      <td>NaN</td>\n",
       "      <td>-1.932094</td>\n",
       "    </tr>\n",
       "    <tr>\n",
       "      <th>5</th>\n",
       "      <td>75% Corpus</td>\n",
       "      <td>3</td>\n",
       "      <td>asymmetric</td>\n",
       "      <td>NaN</td>\n",
       "      <td>-4.606767</td>\n",
       "    </tr>\n",
       "    <tr>\n",
       "      <th>6</th>\n",
       "      <td>75% Corpus</td>\n",
       "      <td>4</td>\n",
       "      <td>0.01</td>\n",
       "      <td>NaN</td>\n",
       "      <td>-2.054624</td>\n",
       "    </tr>\n",
       "    <tr>\n",
       "      <th>7</th>\n",
       "      <td>75% Corpus</td>\n",
       "      <td>4</td>\n",
       "      <td>0.51</td>\n",
       "      <td>NaN</td>\n",
       "      <td>-2.030367</td>\n",
       "    </tr>\n",
       "    <tr>\n",
       "      <th>8</th>\n",
       "      <td>75% Corpus</td>\n",
       "      <td>4</td>\n",
       "      <td>asymmetric</td>\n",
       "      <td>NaN</td>\n",
       "      <td>-7.202950</td>\n",
       "    </tr>\n",
       "    <tr>\n",
       "      <th>9</th>\n",
       "      <td>75% Corpus</td>\n",
       "      <td>5</td>\n",
       "      <td>0.01</td>\n",
       "      <td>NaN</td>\n",
       "      <td>-1.923031</td>\n",
       "    </tr>\n",
       "    <tr>\n",
       "      <th>10</th>\n",
       "      <td>75% Corpus</td>\n",
       "      <td>5</td>\n",
       "      <td>0.51</td>\n",
       "      <td>NaN</td>\n",
       "      <td>-1.929304</td>\n",
       "    </tr>\n",
       "    <tr>\n",
       "      <th>11</th>\n",
       "      <td>75% Corpus</td>\n",
       "      <td>5</td>\n",
       "      <td>asymmetric</td>\n",
       "      <td>NaN</td>\n",
       "      <td>-6.515765</td>\n",
       "    </tr>\n",
       "    <tr>\n",
       "      <th>12</th>\n",
       "      <td>75% Corpus</td>\n",
       "      <td>6</td>\n",
       "      <td>0.01</td>\n",
       "      <td>NaN</td>\n",
       "      <td>-1.989341</td>\n",
       "    </tr>\n",
       "    <tr>\n",
       "      <th>13</th>\n",
       "      <td>75% Corpus</td>\n",
       "      <td>6</td>\n",
       "      <td>0.51</td>\n",
       "      <td>NaN</td>\n",
       "      <td>-1.928868</td>\n",
       "    </tr>\n",
       "    <tr>\n",
       "      <th>14</th>\n",
       "      <td>75% Corpus</td>\n",
       "      <td>6</td>\n",
       "      <td>asymmetric</td>\n",
       "      <td>NaN</td>\n",
       "      <td>-9.470158</td>\n",
       "    </tr>\n",
       "    <tr>\n",
       "      <th>15</th>\n",
       "      <td>75% Corpus</td>\n",
       "      <td>7</td>\n",
       "      <td>0.01</td>\n",
       "      <td>NaN</td>\n",
       "      <td>-2.073629</td>\n",
       "    </tr>\n",
       "    <tr>\n",
       "      <th>16</th>\n",
       "      <td>75% Corpus</td>\n",
       "      <td>7</td>\n",
       "      <td>0.51</td>\n",
       "      <td>NaN</td>\n",
       "      <td>-1.862565</td>\n",
       "    </tr>\n",
       "    <tr>\n",
       "      <th>17</th>\n",
       "      <td>75% Corpus</td>\n",
       "      <td>7</td>\n",
       "      <td>asymmetric</td>\n",
       "      <td>NaN</td>\n",
       "      <td>-6.565895</td>\n",
       "    </tr>\n",
       "    <tr>\n",
       "      <th>18</th>\n",
       "      <td>75% Corpus</td>\n",
       "      <td>8</td>\n",
       "      <td>0.01</td>\n",
       "      <td>NaN</td>\n",
       "      <td>-2.053859</td>\n",
       "    </tr>\n",
       "    <tr>\n",
       "      <th>19</th>\n",
       "      <td>75% Corpus</td>\n",
       "      <td>8</td>\n",
       "      <td>0.51</td>\n",
       "      <td>NaN</td>\n",
       "      <td>-1.865270</td>\n",
       "    </tr>\n",
       "    <tr>\n",
       "      <th>20</th>\n",
       "      <td>75% Corpus</td>\n",
       "      <td>8</td>\n",
       "      <td>asymmetric</td>\n",
       "      <td>NaN</td>\n",
       "      <td>-7.371811</td>\n",
       "    </tr>\n",
       "    <tr>\n",
       "      <th>21</th>\n",
       "      <td>75% Corpus</td>\n",
       "      <td>9</td>\n",
       "      <td>0.01</td>\n",
       "      <td>NaN</td>\n",
       "      <td>-2.016311</td>\n",
       "    </tr>\n",
       "    <tr>\n",
       "      <th>22</th>\n",
       "      <td>75% Corpus</td>\n",
       "      <td>9</td>\n",
       "      <td>0.51</td>\n",
       "      <td>NaN</td>\n",
       "      <td>-1.835662</td>\n",
       "    </tr>\n",
       "    <tr>\n",
       "      <th>23</th>\n",
       "      <td>75% Corpus</td>\n",
       "      <td>9</td>\n",
       "      <td>asymmetric</td>\n",
       "      <td>NaN</td>\n",
       "      <td>-5.814178</td>\n",
       "    </tr>\n",
       "    <tr>\n",
       "      <th>24</th>\n",
       "      <td>75% Corpus</td>\n",
       "      <td>10</td>\n",
       "      <td>0.01</td>\n",
       "      <td>NaN</td>\n",
       "      <td>-2.067985</td>\n",
       "    </tr>\n",
       "    <tr>\n",
       "      <th>25</th>\n",
       "      <td>75% Corpus</td>\n",
       "      <td>10</td>\n",
       "      <td>0.51</td>\n",
       "      <td>NaN</td>\n",
       "      <td>-1.792069</td>\n",
       "    </tr>\n",
       "    <tr>\n",
       "      <th>26</th>\n",
       "      <td>75% Corpus</td>\n",
       "      <td>10</td>\n",
       "      <td>asymmetric</td>\n",
       "      <td>NaN</td>\n",
       "      <td>-4.713313</td>\n",
       "    </tr>\n",
       "    <tr>\n",
       "      <th>27</th>\n",
       "      <td>75% Corpus</td>\n",
       "      <td>11</td>\n",
       "      <td>0.01</td>\n",
       "      <td>NaN</td>\n",
       "      <td>-2.048216</td>\n",
       "    </tr>\n",
       "    <tr>\n",
       "      <th>28</th>\n",
       "      <td>75% Corpus</td>\n",
       "      <td>11</td>\n",
       "      <td>0.51</td>\n",
       "      <td>NaN</td>\n",
       "      <td>-1.737555</td>\n",
       "    </tr>\n",
       "    <tr>\n",
       "      <th>29</th>\n",
       "      <td>75% Corpus</td>\n",
       "      <td>11</td>\n",
       "      <td>asymmetric</td>\n",
       "      <td>NaN</td>\n",
       "      <td>-5.382199</td>\n",
       "    </tr>\n",
       "    <tr>\n",
       "      <th>30</th>\n",
       "      <td>75% Corpus</td>\n",
       "      <td>12</td>\n",
       "      <td>0.01</td>\n",
       "      <td>NaN</td>\n",
       "      <td>-2.027913</td>\n",
       "    </tr>\n",
       "    <tr>\n",
       "      <th>31</th>\n",
       "      <td>75% Corpus</td>\n",
       "      <td>12</td>\n",
       "      <td>0.51</td>\n",
       "      <td>NaN</td>\n",
       "      <td>-1.709808</td>\n",
       "    </tr>\n",
       "    <tr>\n",
       "      <th>32</th>\n",
       "      <td>75% Corpus</td>\n",
       "      <td>12</td>\n",
       "      <td>asymmetric</td>\n",
       "      <td>NaN</td>\n",
       "      <td>-5.412787</td>\n",
       "    </tr>\n",
       "    <tr>\n",
       "      <th>33</th>\n",
       "      <td>75% Corpus</td>\n",
       "      <td>13</td>\n",
       "      <td>0.01</td>\n",
       "      <td>NaN</td>\n",
       "      <td>-2.020539</td>\n",
       "    </tr>\n",
       "    <tr>\n",
       "      <th>34</th>\n",
       "      <td>75% Corpus</td>\n",
       "      <td>13</td>\n",
       "      <td>0.51</td>\n",
       "      <td>NaN</td>\n",
       "      <td>-1.689183</td>\n",
       "    </tr>\n",
       "    <tr>\n",
       "      <th>35</th>\n",
       "      <td>75% Corpus</td>\n",
       "      <td>13</td>\n",
       "      <td>asymmetric</td>\n",
       "      <td>NaN</td>\n",
       "      <td>-4.456954</td>\n",
       "    </tr>\n",
       "    <tr>\n",
       "      <th>36</th>\n",
       "      <td>75% Corpus</td>\n",
       "      <td>14</td>\n",
       "      <td>0.01</td>\n",
       "      <td>NaN</td>\n",
       "      <td>-2.014757</td>\n",
       "    </tr>\n",
       "    <tr>\n",
       "      <th>37</th>\n",
       "      <td>75% Corpus</td>\n",
       "      <td>14</td>\n",
       "      <td>0.51</td>\n",
       "      <td>NaN</td>\n",
       "      <td>-1.657054</td>\n",
       "    </tr>\n",
       "    <tr>\n",
       "      <th>38</th>\n",
       "      <td>75% Corpus</td>\n",
       "      <td>14</td>\n",
       "      <td>asymmetric</td>\n",
       "      <td>NaN</td>\n",
       "      <td>-5.238739</td>\n",
       "    </tr>\n",
       "    <tr>\n",
       "      <th>39</th>\n",
       "      <td>75% Corpus</td>\n",
       "      <td>15</td>\n",
       "      <td>0.01</td>\n",
       "      <td>NaN</td>\n",
       "      <td>-2.044865</td>\n",
       "    </tr>\n",
       "    <tr>\n",
       "      <th>40</th>\n",
       "      <td>75% Corpus</td>\n",
       "      <td>15</td>\n",
       "      <td>0.51</td>\n",
       "      <td>NaN</td>\n",
       "      <td>-1.632644</td>\n",
       "    </tr>\n",
       "    <tr>\n",
       "      <th>41</th>\n",
       "      <td>75% Corpus</td>\n",
       "      <td>15</td>\n",
       "      <td>asymmetric</td>\n",
       "      <td>NaN</td>\n",
       "      <td>-3.702869</td>\n",
       "    </tr>\n",
       "    <tr>\n",
       "      <th>42</th>\n",
       "      <td>75% Corpus</td>\n",
       "      <td>16</td>\n",
       "      <td>0.01</td>\n",
       "      <td>NaN</td>\n",
       "      <td>-2.053546</td>\n",
       "    </tr>\n",
       "    <tr>\n",
       "      <th>43</th>\n",
       "      <td>75% Corpus</td>\n",
       "      <td>16</td>\n",
       "      <td>0.51</td>\n",
       "      <td>NaN</td>\n",
       "      <td>-1.630119</td>\n",
       "    </tr>\n",
       "    <tr>\n",
       "      <th>44</th>\n",
       "      <td>75% Corpus</td>\n",
       "      <td>16</td>\n",
       "      <td>asymmetric</td>\n",
       "      <td>NaN</td>\n",
       "      <td>-5.482560</td>\n",
       "    </tr>\n",
       "  </tbody>\n",
       "</table>\n",
       "</div>"
      ],
      "text/plain": [
       "   Validation_Set  Topics       Alpha  Beta  Coherence\n",
       "0      75% Corpus       2        0.01   NaN  -1.696129\n",
       "1      75% Corpus       2        0.51   NaN  -1.784050\n",
       "2      75% Corpus       2  asymmetric   NaN  -1.985348\n",
       "3      75% Corpus       3        0.01   NaN  -1.812634\n",
       "4      75% Corpus       3        0.51   NaN  -1.932094\n",
       "5      75% Corpus       3  asymmetric   NaN  -4.606767\n",
       "6      75% Corpus       4        0.01   NaN  -2.054624\n",
       "7      75% Corpus       4        0.51   NaN  -2.030367\n",
       "8      75% Corpus       4  asymmetric   NaN  -7.202950\n",
       "9      75% Corpus       5        0.01   NaN  -1.923031\n",
       "10     75% Corpus       5        0.51   NaN  -1.929304\n",
       "11     75% Corpus       5  asymmetric   NaN  -6.515765\n",
       "12     75% Corpus       6        0.01   NaN  -1.989341\n",
       "13     75% Corpus       6        0.51   NaN  -1.928868\n",
       "14     75% Corpus       6  asymmetric   NaN  -9.470158\n",
       "15     75% Corpus       7        0.01   NaN  -2.073629\n",
       "16     75% Corpus       7        0.51   NaN  -1.862565\n",
       "17     75% Corpus       7  asymmetric   NaN  -6.565895\n",
       "18     75% Corpus       8        0.01   NaN  -2.053859\n",
       "19     75% Corpus       8        0.51   NaN  -1.865270\n",
       "20     75% Corpus       8  asymmetric   NaN  -7.371811\n",
       "21     75% Corpus       9        0.01   NaN  -2.016311\n",
       "22     75% Corpus       9        0.51   NaN  -1.835662\n",
       "23     75% Corpus       9  asymmetric   NaN  -5.814178\n",
       "24     75% Corpus      10        0.01   NaN  -2.067985\n",
       "25     75% Corpus      10        0.51   NaN  -1.792069\n",
       "26     75% Corpus      10  asymmetric   NaN  -4.713313\n",
       "27     75% Corpus      11        0.01   NaN  -2.048216\n",
       "28     75% Corpus      11        0.51   NaN  -1.737555\n",
       "29     75% Corpus      11  asymmetric   NaN  -5.382199\n",
       "30     75% Corpus      12        0.01   NaN  -2.027913\n",
       "31     75% Corpus      12        0.51   NaN  -1.709808\n",
       "32     75% Corpus      12  asymmetric   NaN  -5.412787\n",
       "33     75% Corpus      13        0.01   NaN  -2.020539\n",
       "34     75% Corpus      13        0.51   NaN  -1.689183\n",
       "35     75% Corpus      13  asymmetric   NaN  -4.456954\n",
       "36     75% Corpus      14        0.01   NaN  -2.014757\n",
       "37     75% Corpus      14        0.51   NaN  -1.657054\n",
       "38     75% Corpus      14  asymmetric   NaN  -5.238739\n",
       "39     75% Corpus      15        0.01   NaN  -2.044865\n",
       "40     75% Corpus      15        0.51   NaN  -1.632644\n",
       "41     75% Corpus      15  asymmetric   NaN  -3.702869\n",
       "42     75% Corpus      16        0.01   NaN  -2.053546\n",
       "43     75% Corpus      16        0.51   NaN  -1.630119\n",
       "44     75% Corpus      16  asymmetric   NaN  -5.482560"
      ]
     },
     "execution_count": 27,
     "metadata": {},
     "output_type": "execute_result"
    }
   ],
   "source": [
    "res"
   ]
  },
  {
   "cell_type": "code",
   "execution_count": 28,
   "metadata": {},
   "outputs": [
    {
     "data": {
      "text/html": [
       "<div>\n",
       "<style scoped>\n",
       "    .dataframe tbody tr th:only-of-type {\n",
       "        vertical-align: middle;\n",
       "    }\n",
       "\n",
       "    .dataframe tbody tr th {\n",
       "        vertical-align: top;\n",
       "    }\n",
       "\n",
       "    .dataframe thead th {\n",
       "        text-align: right;\n",
       "    }\n",
       "</style>\n",
       "<table border=\"1\" class=\"dataframe\">\n",
       "  <thead>\n",
       "    <tr style=\"text-align: right;\">\n",
       "      <th></th>\n",
       "      <th>Validation_Set</th>\n",
       "      <th>Topics</th>\n",
       "      <th>Alpha</th>\n",
       "      <th>Beta</th>\n",
       "      <th>Coherence</th>\n",
       "    </tr>\n",
       "  </thead>\n",
       "  <tbody>\n",
       "    <tr>\n",
       "      <th>2</th>\n",
       "      <td>75% Corpus</td>\n",
       "      <td>2</td>\n",
       "      <td>asymmetric</td>\n",
       "      <td>NaN</td>\n",
       "      <td>-1.985348</td>\n",
       "    </tr>\n",
       "    <tr>\n",
       "      <th>5</th>\n",
       "      <td>75% Corpus</td>\n",
       "      <td>3</td>\n",
       "      <td>asymmetric</td>\n",
       "      <td>NaN</td>\n",
       "      <td>-4.606767</td>\n",
       "    </tr>\n",
       "    <tr>\n",
       "      <th>8</th>\n",
       "      <td>75% Corpus</td>\n",
       "      <td>4</td>\n",
       "      <td>asymmetric</td>\n",
       "      <td>NaN</td>\n",
       "      <td>-7.202950</td>\n",
       "    </tr>\n",
       "    <tr>\n",
       "      <th>11</th>\n",
       "      <td>75% Corpus</td>\n",
       "      <td>5</td>\n",
       "      <td>asymmetric</td>\n",
       "      <td>NaN</td>\n",
       "      <td>-6.515765</td>\n",
       "    </tr>\n",
       "    <tr>\n",
       "      <th>14</th>\n",
       "      <td>75% Corpus</td>\n",
       "      <td>6</td>\n",
       "      <td>asymmetric</td>\n",
       "      <td>NaN</td>\n",
       "      <td>-9.470158</td>\n",
       "    </tr>\n",
       "    <tr>\n",
       "      <th>17</th>\n",
       "      <td>75% Corpus</td>\n",
       "      <td>7</td>\n",
       "      <td>asymmetric</td>\n",
       "      <td>NaN</td>\n",
       "      <td>-6.565895</td>\n",
       "    </tr>\n",
       "    <tr>\n",
       "      <th>20</th>\n",
       "      <td>75% Corpus</td>\n",
       "      <td>8</td>\n",
       "      <td>asymmetric</td>\n",
       "      <td>NaN</td>\n",
       "      <td>-7.371811</td>\n",
       "    </tr>\n",
       "    <tr>\n",
       "      <th>23</th>\n",
       "      <td>75% Corpus</td>\n",
       "      <td>9</td>\n",
       "      <td>asymmetric</td>\n",
       "      <td>NaN</td>\n",
       "      <td>-5.814178</td>\n",
       "    </tr>\n",
       "    <tr>\n",
       "      <th>26</th>\n",
       "      <td>75% Corpus</td>\n",
       "      <td>10</td>\n",
       "      <td>asymmetric</td>\n",
       "      <td>NaN</td>\n",
       "      <td>-4.713313</td>\n",
       "    </tr>\n",
       "    <tr>\n",
       "      <th>29</th>\n",
       "      <td>75% Corpus</td>\n",
       "      <td>11</td>\n",
       "      <td>asymmetric</td>\n",
       "      <td>NaN</td>\n",
       "      <td>-5.382199</td>\n",
       "    </tr>\n",
       "    <tr>\n",
       "      <th>32</th>\n",
       "      <td>75% Corpus</td>\n",
       "      <td>12</td>\n",
       "      <td>asymmetric</td>\n",
       "      <td>NaN</td>\n",
       "      <td>-5.412787</td>\n",
       "    </tr>\n",
       "    <tr>\n",
       "      <th>35</th>\n",
       "      <td>75% Corpus</td>\n",
       "      <td>13</td>\n",
       "      <td>asymmetric</td>\n",
       "      <td>NaN</td>\n",
       "      <td>-4.456954</td>\n",
       "    </tr>\n",
       "    <tr>\n",
       "      <th>38</th>\n",
       "      <td>75% Corpus</td>\n",
       "      <td>14</td>\n",
       "      <td>asymmetric</td>\n",
       "      <td>NaN</td>\n",
       "      <td>-5.238739</td>\n",
       "    </tr>\n",
       "    <tr>\n",
       "      <th>41</th>\n",
       "      <td>75% Corpus</td>\n",
       "      <td>15</td>\n",
       "      <td>asymmetric</td>\n",
       "      <td>NaN</td>\n",
       "      <td>-3.702869</td>\n",
       "    </tr>\n",
       "    <tr>\n",
       "      <th>44</th>\n",
       "      <td>75% Corpus</td>\n",
       "      <td>16</td>\n",
       "      <td>asymmetric</td>\n",
       "      <td>NaN</td>\n",
       "      <td>-5.482560</td>\n",
       "    </tr>\n",
       "  </tbody>\n",
       "</table>\n",
       "</div>"
      ],
      "text/plain": [
       "   Validation_Set  Topics       Alpha  Beta  Coherence\n",
       "2      75% Corpus       2  asymmetric   NaN  -1.985348\n",
       "5      75% Corpus       3  asymmetric   NaN  -4.606767\n",
       "8      75% Corpus       4  asymmetric   NaN  -7.202950\n",
       "11     75% Corpus       5  asymmetric   NaN  -6.515765\n",
       "14     75% Corpus       6  asymmetric   NaN  -9.470158\n",
       "17     75% Corpus       7  asymmetric   NaN  -6.565895\n",
       "20     75% Corpus       8  asymmetric   NaN  -7.371811\n",
       "23     75% Corpus       9  asymmetric   NaN  -5.814178\n",
       "26     75% Corpus      10  asymmetric   NaN  -4.713313\n",
       "29     75% Corpus      11  asymmetric   NaN  -5.382199\n",
       "32     75% Corpus      12  asymmetric   NaN  -5.412787\n",
       "35     75% Corpus      13  asymmetric   NaN  -4.456954\n",
       "38     75% Corpus      14  asymmetric   NaN  -5.238739\n",
       "41     75% Corpus      15  asymmetric   NaN  -3.702869\n",
       "44     75% Corpus      16  asymmetric   NaN  -5.482560"
      ]
     },
     "execution_count": 28,
     "metadata": {},
     "output_type": "execute_result"
    }
   ],
   "source": [
    "res_b = res[res['Alpha'] == 'asymmetric']\n",
    "res_b"
   ]
  },
  {
   "cell_type": "code",
   "execution_count": 29,
   "metadata": {},
   "outputs": [
    {
     "data": {
      "text/plain": [
       "[<matplotlib.lines.Line2D at 0x7fef630054d0>]"
      ]
     },
     "execution_count": 29,
     "metadata": {},
     "output_type": "execute_result"
    },
    {
     "data": {
      "image/png": "[encoded data removed]",
      "text/plain": [
       "<Figure size 432x288 with 1 Axes>"
      ]
     },
     "metadata": {
      "needs_background": "light"
     },
     "output_type": "display_data"
    }
   ],
   "source": [
    "plt.plot(res_b['Topics'], res_b['Coherence'])"
   ]
  },
  {
   "cell_type": "markdown",
   "metadata": {},
   "source": [
    "#### ^ проблема (6-топиков - мало, \"глазами\" разбиение на большое количество тем смотрится лучше) видимо в текстах на других языках (не английский)"
   ]
  },
  {
   "cell_type": "code",
   "execution_count": 23,
   "metadata": {},
   "outputs": [],
   "source": [
    "import gc"
   ]
  },
  {
   "cell_type": "code",
   "execution_count": 24,
   "metadata": {},
   "outputs": [
    {
     "data": {
      "text/plain": [
       "80"
      ]
     },
     "execution_count": 24,
     "metadata": {},
     "output_type": "execute_result"
    }
   ],
   "source": [
    "bow_corpus = None\n",
    "df = None\n",
    "\n",
    "gc.collect()"
   ]
  },
  {
   "cell_type": "code",
   "execution_count": 25,
   "metadata": {},
   "outputs": [
    {
     "data": {
      "text/plain": [
       "-5.057877065305198"
      ]
     },
     "execution_count": 25,
     "metadata": {},
     "output_type": "execute_result"
    }
   ],
   "source": [
    "lda_model = gensim.models.LdaMulticore(corpus=corpus_tfidf,\n",
    "                                       id2word=dictionary,\n",
    "                                       num_topics=20, \n",
    "                                       random_state=100,\n",
    "                                       passes=3,\n",
    "                                       iterations=50,\n",
    "                                       chunksize = 5000,\n",
    "                                       alpha='asymmetric',\n",
    "                                       eta=None,\n",
    "                                       workers=16)\n",
    "\n",
    "coherence_model_lda = CoherenceModel(model=lda_model,\n",
    "                                     corpus=corpus_tfidf,\n",
    "                                     dictionary=dictionary,\n",
    "                                     coherence='u_mass',\n",
    "                                    processes=8)\n",
    "coh = coherence_model_lda.get_coherence()\n",
    "coh"
   ]
  },
  {
   "cell_type": "code",
   "execution_count": 27,
   "metadata": {},
   "outputs": [],
   "source": [
    "from gensim.test.utils import datapath\n",
    "\n",
    "dict_path = 'results/lda_model/model_dict'\n",
    "dictionary.save(dict_path)\n",
    "\n",
    "model_file = datapath(\"/home/denis/dshibitov/courses/made/project_1/results/lda_model/model\")\n",
    "lda_model.save(model_file)"
   ]
  },
  {
   "cell_type": "code",
   "execution_count": 40,
   "metadata": {},
   "outputs": [
    {
     "data": {
      "text/html": [
       "<div>\n",
       "<style scoped>\n",
       "    .dataframe tbody tr th:only-of-type {\n",
       "        vertical-align: middle;\n",
       "    }\n",
       "\n",
       "    .dataframe tbody tr th {\n",
       "        vertical-align: top;\n",
       "    }\n",
       "\n",
       "    .dataframe thead th {\n",
       "        text-align: right;\n",
       "    }\n",
       "</style>\n",
       "<table border=\"1\" class=\"dataframe\">\n",
       "  <thead>\n",
       "    <tr style=\"text-align: right;\">\n",
       "      <th></th>\n",
       "      <th>topic</th>\n",
       "      <th>words</th>\n",
       "    </tr>\n",
       "  </thead>\n",
       "  <tbody>\n",
       "    <tr>\n",
       "      <th>0</th>\n",
       "      <td>0.0</td>\n",
       "      <td>network model algorithm control method data ti...</td>\n",
       "    </tr>\n",
       "    <tr>\n",
       "      <th>1</th>\n",
       "      <td>1.0</td>\n",
       "      <td>servic user data model learn network manag inf...</td>\n",
       "    </tr>\n",
       "    <tr>\n",
       "      <th>2</th>\n",
       "      <td>2.0</td>\n",
       "      <td>imag graph method algorithm featur estim segme...</td>\n",
       "    </tr>\n",
       "    <tr>\n",
       "      <th>3</th>\n",
       "      <td>3.0</td>\n",
       "      <td>vote ein hypergraph werden wird mirna voter ob...</td>\n",
       "    </tr>\n",
       "    <tr>\n",
       "      <th>4</th>\n",
       "      <td>4.0</td>\n",
       "      <td>diabet handoff weld cathet dedupl wifi graphen...</td>\n",
       "    </tr>\n",
       "    <tr>\n",
       "      <th>5</th>\n",
       "      <td>5.0</td>\n",
       "      <td>subdivis rendezv persona keyfram xpath spray l...</td>\n",
       "    </tr>\n",
       "  </tbody>\n",
       "</table>\n",
       "</div>"
      ],
      "text/plain": [
       "   topic                                              words\n",
       "0    0.0  network model algorithm control method data ti...\n",
       "1    1.0  servic user data model learn network manag inf...\n",
       "2    2.0  imag graph method algorithm featur estim segme...\n",
       "3    3.0  vote ein hypergraph werden wird mirna voter ob...\n",
       "4    4.0  diabet handoff weld cathet dedupl wifi graphen...\n",
       "5    5.0  subdivis rendezv persona keyfram xpath spray l..."
      ]
     },
     "execution_count": 40,
     "metadata": {},
     "output_type": "execute_result"
    }
   ],
   "source": [
    "words_6 = pd.DataFrame()\n",
    "\n",
    "for i in range(6):\n",
    "    words = [dictionary[x[0]] for x in lda_model.get_topic_terms(i, topn=30)]\n",
    "#     print([dictionary[x[0]] for x in lda_model.get_topic_terms(i, topn=30)])\n",
    "    words_6 = words_6.append({'topic': i, 'words': ' '.join(words)}, ignore_index=True)\n",
    "\n",
    "    words_6.to_csv('results/words_6.csv', index=False, sep=';')\n",
    "words_6"
   ]
  },
  {
   "cell_type": "code",
   "execution_count": 43,
   "metadata": {},
   "outputs": [
    {
     "name": "stdout",
     "output_type": "stream",
     "text": [
      "network model algorithm control method data time problem optim perform propos system design power approach simul scheme function process comput detect channel analysi result estim applic present techniqu imag high\n",
      "=====\n",
      "servic user data model learn network manag inform develop system agent research design softwar mobil game applic technolog social process resourc secur languag knowledg environ interact approach provid support cloud\n",
      "=====\n",
      "imag graph method algorithm featur estim segment classif learn object problem propos detect recognit data point model color local edg cluster filter train function dataset nois sampl space label reconstruct\n",
      "=====\n",
      "vote ein hypergraph werden wird mirna voter obfusc elect einer sich durch jam phish zusammenfassung sind rung kutta crowdsens auch jammer nicht dieser beitrag oder dass dies einem einen spinal\n",
      "=====\n",
      "diabet handoff weld cathet dedupl wifi graphen harq seam retinopathi zigbe firewal ablat insulin toeplitz chat urllc comic vandermond resiz compand canal tridiagon subnet carv tele telecar epon runoff patient\n",
      "=====\n",
      "subdivis rendezv persona keyfram xpath spray lightn dive camouflag hellman diffi imageclef fibrosi archimedean scatteromet dial sculptur weblog femtocel gist conjectur detour subcub nomad paint diver sich synerget breakdown unternehmen\n",
      "=====\n"
     ]
    }
   ],
   "source": [
    "for i in range(6):\n",
    "    print(words_6.iloc[i]['words'])\n",
    "    print('=====')"
   ]
  },
  {
   "cell_type": "code",
   "execution_count": 46,
   "metadata": {},
   "outputs": [
    {
     "data": {
      "text/html": [
       "<div>\n",
       "<style scoped>\n",
       "    .dataframe tbody tr th:only-of-type {\n",
       "        vertical-align: middle;\n",
       "    }\n",
       "\n",
       "    .dataframe tbody tr th {\n",
       "        vertical-align: top;\n",
       "    }\n",
       "\n",
       "    .dataframe thead th {\n",
       "        text-align: right;\n",
       "    }\n",
       "</style>\n",
       "<table border=\"1\" class=\"dataframe\">\n",
       "  <thead>\n",
       "    <tr style=\"text-align: right;\">\n",
       "      <th></th>\n",
       "      <th>topic</th>\n",
       "      <th>words</th>\n",
       "    </tr>\n",
       "  </thead>\n",
       "  <tbody>\n",
       "    <tr>\n",
       "      <th>0</th>\n",
       "      <td>0.0</td>\n",
       "      <td>model network algorithm design data time metho...</td>\n",
       "    </tr>\n",
       "    <tr>\n",
       "      <th>1</th>\n",
       "      <td>1.0</td>\n",
       "      <td>model logic languag program fuzzi problem algo...</td>\n",
       "    </tr>\n",
       "    <tr>\n",
       "      <th>2</th>\n",
       "      <td>2.0</td>\n",
       "      <td>imag method featur learn data algorithm model ...</td>\n",
       "    </tr>\n",
       "    <tr>\n",
       "      <th>3</th>\n",
       "      <td>3.0</td>\n",
       "      <td>student learn social research user inform data...</td>\n",
       "    </tr>\n",
       "    <tr>\n",
       "      <th>4</th>\n",
       "      <td>4.0</td>\n",
       "      <td>network traffic mobil wireless servic packet d...</td>\n",
       "    </tr>\n",
       "    <tr>\n",
       "      <th>5</th>\n",
       "      <td>5.0</td>\n",
       "      <td>network resourc servic cloud data schedul appl...</td>\n",
       "    </tr>\n",
       "    <tr>\n",
       "      <th>6</th>\n",
       "      <td>6.0</td>\n",
       "      <td>imag robot motion camera human method track ob...</td>\n",
       "    </tr>\n",
       "    <tr>\n",
       "      <th>7</th>\n",
       "      <td>7.0</td>\n",
       "      <td>graph problem algorithm optim solut approxim s...</td>\n",
       "    </tr>\n",
       "    <tr>\n",
       "      <th>8</th>\n",
       "      <td>8.0</td>\n",
       "      <td>channel cod interfer relay antenna scheme mimo...</td>\n",
       "    </tr>\n",
       "    <tr>\n",
       "      <th>9</th>\n",
       "      <td>9.0</td>\n",
       "      <td>control stabil nonlinear system delay linear e...</td>\n",
       "    </tr>\n",
       "    <tr>\n",
       "      <th>10</th>\n",
       "      <td>10.0</td>\n",
       "      <td>vehicl safeti model system formal softwar veri...</td>\n",
       "    </tr>\n",
       "    <tr>\n",
       "      <th>11</th>\n",
       "      <td>11.0</td>\n",
       "      <td>sensor network energi rout nod wireless node p...</td>\n",
       "    </tr>\n",
       "    <tr>\n",
       "      <th>12</th>\n",
       "      <td>12.0</td>\n",
       "      <td>servic secur softwar user manag busi cloud mod...</td>\n",
       "    </tr>\n",
       "    <tr>\n",
       "      <th>13</th>\n",
       "      <td>13.0</td>\n",
       "      <td>protein gene genom sequenc biolog drug molecul...</td>\n",
       "    </tr>\n",
       "    <tr>\n",
       "      <th>14</th>\n",
       "      <td>14.0</td>\n",
       "      <td>encrypt secur authent signatur attack scheme b...</td>\n",
       "    </tr>\n",
       "    <tr>\n",
       "      <th>15</th>\n",
       "      <td>15.0</td>\n",
       "      <td>food precondition matroid quot submodular sate...</td>\n",
       "    </tr>\n",
       "    <tr>\n",
       "      <th>16</th>\n",
       "      <td>16.0</td>\n",
       "      <td>speech watermark compress cod imag video speak...</td>\n",
       "    </tr>\n",
       "    <tr>\n",
       "      <th>17</th>\n",
       "      <td>17.0</td>\n",
       "      <td>ein werden wird crack liver underlay zusammenf...</td>\n",
       "    </tr>\n",
       "    <tr>\n",
       "      <th>18</th>\n",
       "      <td>18.0</td>\n",
       "      <td>lane clone adder paint splice platoon firefli ...</td>\n",
       "    </tr>\n",
       "    <tr>\n",
       "      <th>19</th>\n",
       "      <td>19.0</td>\n",
       "      <td>epidem poset motif infect peptid rumor moea co...</td>\n",
       "    </tr>\n",
       "  </tbody>\n",
       "</table>\n",
       "</div>"
      ],
      "text/plain": [
       "    topic                                              words\n",
       "0     0.0  model network algorithm design data time metho...\n",
       "1     1.0  model logic languag program fuzzi problem algo...\n",
       "2     2.0  imag method featur learn data algorithm model ...\n",
       "3     3.0  student learn social research user inform data...\n",
       "4     4.0  network traffic mobil wireless servic packet d...\n",
       "5     5.0  network resourc servic cloud data schedul appl...\n",
       "6     6.0  imag robot motion camera human method track ob...\n",
       "7     7.0  graph problem algorithm optim solut approxim s...\n",
       "8     8.0  channel cod interfer relay antenna scheme mimo...\n",
       "9     9.0  control stabil nonlinear system delay linear e...\n",
       "10   10.0  vehicl safeti model system formal softwar veri...\n",
       "11   11.0  sensor network energi rout nod wireless node p...\n",
       "12   12.0  servic secur softwar user manag busi cloud mod...\n",
       "13   13.0  protein gene genom sequenc biolog drug molecul...\n",
       "14   14.0  encrypt secur authent signatur attack scheme b...\n",
       "15   15.0  food precondition matroid quot submodular sate...\n",
       "16   16.0  speech watermark compress cod imag video speak...\n",
       "17   17.0  ein werden wird crack liver underlay zusammenf...\n",
       "18   18.0  lane clone adder paint splice platoon firefli ...\n",
       "19   19.0  epidem poset motif infect peptid rumor moea co..."
      ]
     },
     "execution_count": 46,
     "metadata": {},
     "output_type": "execute_result"
    }
   ],
   "source": [
    "words_20 = pd.DataFrame()\n",
    "\n",
    "for i in range(20):\n",
    "    words = [dictionary[x[0]] for x in lda_model.get_topic_terms(i, topn=30)]\n",
    "#     print([dictionary[x[0]] for x in lda_model.get_topic_terms(i, topn=30)])\n",
    "    words_20 = words_20.append({'topic': i, 'words': ' '.join(words)}, ignore_index=True)\n",
    "\n",
    "    words_20.to_csv('results/words_20.csv', index=False, sep=';')\n",
    "words_20"
   ]
  },
  {
   "cell_type": "code",
   "execution_count": 47,
   "metadata": {},
   "outputs": [
    {
     "name": "stdout",
     "output_type": "stream",
     "text": [
      "model network algorithm design data time method control process perform circuit system power simul comput propos applic test implement approach optim function present problem imag analysi high techniqu architectur parallel\n",
      "=====\n",
      "model logic languag program fuzzi problem algorithm agent system control semant method time approach function data rule theori type network optim comput order object structur learn relat process general inform\n",
      "=====\n",
      "imag method featur learn data algorithm model classif estim propos detect train network cluster recognit neural segment approach sampl dataset classifi object problem perform function extract accuraci label measur deep\n",
      "=====\n",
      "student learn social research user inform data knowledg educ develop model technolog studi design interact game project languag process ontolog system support cours tool scienc experi softwar document approach onlin\n",
      "=====\n",
      "network traffic mobil wireless servic packet data protocol energi control power communic time video devic rout model perform applic sensor design manag propos simul system stream algorithm architectur high monitor\n",
      "=====\n",
      "network resourc servic cloud data schedul applic user comput cach distribut energi perform mobil server price manag model optim time alloc memori system cost polici access algorithm control share virtual\n",
      "=====\n",
      "imag robot motion camera human method track object detect segment visual brain sensor patient model estim surfac featur control measur video shape bodi movement activ recognit interact propos scene hand\n",
      "=====\n",
      "graph problem algorithm optim solut approxim solv polynomi number edg bound method function tree search time equat vertic linear comput converg general prove vertex schedul path bind constraint give point\n",
      "=====\n",
      "channel cod interfer relay antenna scheme mimo signal receiv power transmiss network decod frequenc rate wireless multipl communic user spectrum radio fade error perform estim transmit alloc optim ofdm nois\n",
      "=====\n",
      "control stabil nonlinear system delay linear equat time dynam disturb method state switch feedback condit design optim model lyapunov output fault paramet fuzzi problem function adapt robust discret numer propos\n",
      "=====\n",
      "vehicl safeti model system formal softwar verif cyber test design control develop specif languag driver vanet tool time patient road vehicular drive petri approach health program process analysi applic simul\n",
      "=====\n",
      "sensor network energi rout nod wireless node protocol cluster mobil algorithm consumpt attack wsns data packet lifetim communic power effici scheme batteri propos transmiss simul path topolog delay distribut coverag\n",
      "=====\n",
      "servic secur softwar user manag busi cloud model develop data applic system process privaci architectur technolog inform design network smart mobil environ framework product trust devic support attack provid integr\n",
      "=====\n",
      "protein gene genom sequenc biolog drug molecular predict data pathway structur cancer cell express diseas interact molecul databas microarray align bind regulatori ligand bioinformat dock phenotyp network analysi compound transcript\n",
      "=====\n",
      "encrypt secur authent signatur attack scheme biometr protocol secret cipher cryptographi cryptograph password vote cach key bandit ciphertext regret proxi decrypt certif homomorph messag ellipt public hash round curv ident\n",
      "=====\n",
      "food precondition matroid quot submodular satellit smoke precondit textil treewidth schur rendezv krylov wetland flip retinopathi diabet pebbl nutrit chirp superlinear earth orbit diet nanotub modi rainfal flop gmres erlang\n",
      "=====\n",
      "speech watermark compress cod imag video speaker wavelet recognit quantize audio transform encod acoust frame filter distort signal block emb qualiti fingerprint decod jpeg nois scheme rate method propos cnns\n",
      "=====\n",
      "ein werden wird crack liver underlay zusammenfassung einer sparql sind auch nicht dass metamodel methyl dieser oder debt kroneck depot biomass hysteresi checkpoint subgroup memrist fuzzi welch backscatt ablat unwrap\n",
      "=====\n",
      "lane clone adder paint splice platoon firefli photo aerosol simplex capsul road vortex fractal python warranti geospati wavelength toll quasilinear exon touchscreen latin curat hypertext vortic femto vehicl ebook codon\n",
      "=====\n",
      "epidem poset motif infect peptid rumor moea coalgebra tournament riccati friendship outbreak forbid diseas spread rake functor sing hedon subpopul utilitarian antichain ribosom meme homophili curl lookahead furnac wakeup postal\n",
      "=====\n"
     ]
    }
   ],
   "source": [
    "for i in range(20):\n",
    "    print(words_20.iloc[i]['words'])\n",
    "    print('=====')"
   ]
  },
  {
   "cell_type": "code",
   "execution_count": null,
   "metadata": {},
   "outputs": [],
   "source": []
  }
 ],
 "metadata": {
  "kernelspec": {
   "display_name": "Python 3",
   "language": "python",
   "name": "python3"
  },
  "language_info": {
   "codemirror_mode": {
    "name": "ipython",
    "version": 3
   },
   "file_extension": ".py",
   "mimetype": "text/x-python",
   "name": "python",
   "nbconvert_exporter": "python",
   "pygments_lexer": "ipython3",
   "version": "3.7.9"
  }
 },
 "nbformat": 4,
 "nbformat_minor": 4
}
