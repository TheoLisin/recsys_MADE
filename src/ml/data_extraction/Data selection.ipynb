{
 "cells": [
  {
   "cell_type": "markdown",
   "id": "059b408f",
   "metadata": {},
   "source": [
    "**Цель этого ноутбука - получить датасет размером ~1м строк для дальнейшей работы и обучению моделей для рекомендательных систем (500к для трейна, 200к для валидации, 300к для теста).**"
   ]
  },
  {
   "cell_type": "code",
   "execution_count": 1,
   "id": "24cfb0ae",
   "metadata": {},
   "outputs": [],
   "source": [
    "import pandas as pd"
   ]
  },
  {
   "cell_type": "code",
   "execution_count": 2,
   "id": "363d7abc",
   "metadata": {},
   "outputs": [],
   "source": [
    "from pyspark.sql import SparkSession\n",
    "from pyspark.sql import functions as f"
   ]
  },
  {
   "cell_type": "code",
   "execution_count": 3,
   "id": "ea3dc892",
   "metadata": {},
   "outputs": [],
   "source": [
    "spark = SparkSession.builder \\\n",
    "        .master('local[*]') \\\n",
    "        .appName(\"Data extractor\") \\\n",
    "        .config(\"spark.executor.memory\", \"8g\") \\\n",
    "        .config(\"spark.driver.memory\", \"6g\") \\\n",
    "        .getOrCreate()"
   ]
  },
  {
   "cell_type": "code",
   "execution_count": 4,
   "id": "4478c753",
   "metadata": {},
   "outputs": [],
   "source": [
    "DATA_PATH = '../../../notebooks/MADE/data.parquet'"
   ]
  },
  {
   "cell_type": "code",
   "execution_count": 5,
   "id": "ec40b1a3",
   "metadata": {},
   "outputs": [],
   "source": [
    "spark_df = spark.read.parquet(DATA_PATH)"
   ]
  },
  {
   "cell_type": "code",
   "execution_count": 6,
   "id": "df3dfb81",
   "metadata": {},
   "outputs": [
    {
     "name": "stdout",
     "output_type": "stream",
     "text": [
      "root\n",
      " |-- old_id: string (nullable = true)\n",
      " |-- title: string (nullable = true)\n",
      " |-- abstract: string (nullable = true)\n",
      " |-- has_doi: boolean (nullable = true)\n",
      " |-- issn: string (nullable = true)\n",
      " |-- isbn: string (nullable = true)\n",
      " |-- article_len: integer (nullable = true)\n",
      " |-- n_citation: double (nullable = true)\n",
      " |-- lang: string (nullable = true)\n",
      " |-- year: double (nullable = true)\n",
      " |-- keywords: array (nullable = true)\n",
      " |    |-- element: string (containsNull = true)\n",
      " |-- references: array (nullable = true)\n",
      " |    |-- element: string (containsNull = true)\n",
      " |-- fos: array (nullable = true)\n",
      " |    |-- element: string (containsNull = true)\n",
      " |-- authors: array (nullable = true)\n",
      " |    |-- element: struct (containsNull = true)\n",
      " |    |    |-- email: string (nullable = true)\n",
      " |    |    |-- gid: string (nullable = true)\n",
      " |    |    |-- name: string (nullable = true)\n",
      " |    |    |-- org: string (nullable = true)\n",
      " |    |    |-- orgid: string (nullable = true)\n",
      " |    |    |-- sid: string (nullable = true)\n",
      " |    |    |-- old_id: string (nullable = true)\n",
      " |    |    |-- orgs_count: integer (nullable = true)\n",
      " |-- venue: struct (nullable = true)\n",
      " |    |-- name_d: string (nullable = true)\n",
      " |    |-- raw: string (nullable = true)\n",
      " |    |-- sid: string (nullable = true)\n",
      " |    |-- type: long (nullable = true)\n",
      " |    |-- old_id: string (nullable = true)\n",
      "\n"
     ]
    }
   ],
   "source": [
    "spark_df.printSchema()"
   ]
  },
  {
   "cell_type": "markdown",
   "id": "6a7d06b3",
   "metadata": {},
   "source": [
    "Выбросим элементы, содержащие мусорные значения в следующих полях:\n",
    "- `abstract` - пустые значения мешают обучать модели для `Topic Modelling` (может возникнуть необходимость получить новые топики)\n",
    "- `year` - это поле нужно для поиска в `Engineering`-части, пустые поля приводят к невозможности найти нужную статью\n",
    "- `n_citation` - это поле также нужно для `Engineering`-части, обоснуем тем же аргументом, что и выше\n",
    "- `authors` - это поле нужно будет для моделей рекомендательных систем. Чистых пустых полей здесь в любом случае немного, но удалим хотя бы явно пустые\n",
    "- `title` - это лицо статьи, а класть туда `abstract` может быть не очень хорошо, т.к. по нему сходу может быть непонятно, о чём статья. Помимо мусорных значений, которые были обнаружены для `abstract`, в `title` также много названий `Foreword`, их следует убрать"
   ]
  },
  {
   "cell_type": "code",
   "execution_count": 6,
   "id": "5479ee68",
   "metadata": {},
   "outputs": [],
   "source": [
    "clean_df = spark_df.na.drop(subset=['abstract', 'year', 'n_citation', 'authors', 'title'])"
   ]
  },
  {
   "cell_type": "code",
   "execution_count": 8,
   "id": "b4d6a06a",
   "metadata": {},
   "outputs": [
    {
     "data": {
      "text/plain": [
       "4390731"
      ]
     },
     "execution_count": 8,
     "metadata": {},
     "output_type": "execute_result"
    }
   ],
   "source": [
    "clean_df.count()"
   ]
  },
  {
   "cell_type": "markdown",
   "id": "e7995112",
   "metadata": {},
   "source": [
    "Отлично! Убранные мусорные значения уменьшили размер датасета на ~1м. \n",
    "\n",
    "Но все ли мусорные значения убраны? **Нет!** На самом деле в `abstract` куда больше мусорных значений, что мы выясняли на протяжении первых 2 спринтов. Уберём остальные."
   ]
  },
  {
   "cell_type": "code",
   "execution_count": 7,
   "id": "ea089d8e",
   "metadata": {},
   "outputs": [],
   "source": [
    "regex_pattern = '|'.join([\"no abstract\", \"abstract not\", \"without abstract\", \"no ref\"])\n",
    "clean_df = clean_df.where(\n",
    "        ~(f.lower(f.trim(clean_df.abstract)).isin(['', '\\xa0', '\\xa0\\xa0', 'N/A', 'none', 'none.'])) &\n",
    "        ~(f.lower(clean_df.abstract).rlike(regex_pattern))\n",
    ")"
   ]
  },
  {
   "cell_type": "code",
   "execution_count": 12,
   "id": "54b90a11",
   "metadata": {},
   "outputs": [
    {
     "data": {
      "text/plain": [
       "3549336"
      ]
     },
     "execution_count": 12,
     "metadata": {},
     "output_type": "execute_result"
    }
   ],
   "source": [
    "clean_df.count()"
   ]
  },
  {
   "cell_type": "markdown",
   "id": "df07455b",
   "metadata": {},
   "source": [
    "Казалось бы, таких значений ведь должно быть немного, но не тут-то было! Мы уменьшили датасет ещё на целых **~850к строк**!"
   ]
  },
  {
   "cell_type": "markdown",
   "id": "2f1fca9e",
   "metadata": {},
   "source": [
    "Посмотрим теперь сколько мусорных значений мы ещё не откинули в `year`."
   ]
  },
  {
   "cell_type": "code",
   "execution_count": 8,
   "id": "c4fe4139",
   "metadata": {},
   "outputs": [],
   "source": [
    "clean_df = clean_df.where(clean_df.year <= 2022)"
   ]
  },
  {
   "cell_type": "code",
   "execution_count": 14,
   "id": "a6cc4ba7",
   "metadata": {},
   "outputs": [
    {
     "data": {
      "text/plain": [
       "3549322"
      ]
     },
     "execution_count": 14,
     "metadata": {},
     "output_type": "execute_result"
    }
   ],
   "source": [
    "clean_df.count()"
   ]
  },
  {
   "cell_type": "markdown",
   "id": "570801be",
   "metadata": {},
   "source": [
    "Что ж, таких немного."
   ]
  },
  {
   "cell_type": "markdown",
   "id": "0a5ca0e2",
   "metadata": {},
   "source": [
    "Выбросим ещё поля с указанным китайским языком."
   ]
  },
  {
   "cell_type": "code",
   "execution_count": 9,
   "id": "ddaec50c",
   "metadata": {},
   "outputs": [],
   "source": [
    "clean_df = clean_df.where(clean_df.lang != 'zh')"
   ]
  },
  {
   "cell_type": "code",
   "execution_count": 16,
   "id": "e77adc77",
   "metadata": {},
   "outputs": [
    {
     "data": {
      "text/plain": [
       "3479592"
      ]
     },
     "execution_count": 16,
     "metadata": {},
     "output_type": "execute_result"
    }
   ],
   "source": [
    "clean_df.count()"
   ]
  },
  {
   "cell_type": "markdown",
   "id": "4bb4078d",
   "metadata": {},
   "source": [
    "Поля с пустым тайтлом также можно убрать - это лицо статьи, а класть туда `abstract` может быть не очень хорошо, т.к. по нему сходу может быть непонятно, о чём статья.\n",
    "Помимо мусорных значений, которые были обнаружены для `abstract`, в `title` также много названий `Foreword`, их следует убрать."
   ]
  },
  {
   "cell_type": "code",
   "execution_count": 10,
   "id": "60654cb6",
   "metadata": {},
   "outputs": [],
   "source": [
    "clean_df = clean_df.where(\n",
    "        ~(f.lower(f.trim(clean_df.title)).isin(['', '\\xa0', '\\xa0\\xa0', 'N/A', 'none', 'none.', 'foreword', 'foreword.']))\n",
    ")"
   ]
  },
  {
   "cell_type": "code",
   "execution_count": 12,
   "id": "a045f7c1",
   "metadata": {},
   "outputs": [
    {
     "data": {
      "text/plain": [
       "3479540"
      ]
     },
     "execution_count": 12,
     "metadata": {},
     "output_type": "execute_result"
    }
   ],
   "source": [
    "clean_df.count()"
   ]
  },
  {
   "cell_type": "markdown",
   "id": "42e87ef9",
   "metadata": {},
   "source": [
    "Выбросим теперь поля со слишком длинными `abstract` и `title`. Предварительно проведём небольшой анализ для того, чтобы понимать, что значит \"слишком длинными\"."
   ]
  },
  {
   "cell_type": "code",
   "execution_count": 13,
   "id": "47bbee23",
   "metadata": {},
   "outputs": [],
   "source": [
    "df = clean_df.withColumn(\"length\", f.length(\"title\"))"
   ]
  },
  {
   "cell_type": "code",
   "execution_count": 34,
   "id": "03c2656f",
   "metadata": {},
   "outputs": [],
   "source": [
    "pd_df = df.select(\"length\").toPandas()"
   ]
  },
  {
   "cell_type": "code",
   "execution_count": 35,
   "id": "2f29fa30",
   "metadata": {},
   "outputs": [
    {
     "data": {
      "text/html": [
       "<div>\n",
       "<style scoped>\n",
       "    .dataframe tbody tr th:only-of-type {\n",
       "        vertical-align: middle;\n",
       "    }\n",
       "\n",
       "    .dataframe tbody tr th {\n",
       "        vertical-align: top;\n",
       "    }\n",
       "\n",
       "    .dataframe thead th {\n",
       "        text-align: right;\n",
       "    }\n",
       "</style>\n",
       "<table border=\"1\" class=\"dataframe\">\n",
       "  <thead>\n",
       "    <tr style=\"text-align: right;\">\n",
       "      <th></th>\n",
       "      <th>length</th>\n",
       "    </tr>\n",
       "  </thead>\n",
       "  <tbody>\n",
       "    <tr>\n",
       "      <th>0</th>\n",
       "      <td>104</td>\n",
       "    </tr>\n",
       "    <tr>\n",
       "      <th>1</th>\n",
       "      <td>89</td>\n",
       "    </tr>\n",
       "    <tr>\n",
       "      <th>2</th>\n",
       "      <td>67</td>\n",
       "    </tr>\n",
       "    <tr>\n",
       "      <th>3</th>\n",
       "      <td>68</td>\n",
       "    </tr>\n",
       "    <tr>\n",
       "      <th>4</th>\n",
       "      <td>80</td>\n",
       "    </tr>\n",
       "  </tbody>\n",
       "</table>\n",
       "</div>"
      ],
      "text/plain": [
       "   length\n",
       "0     104\n",
       "1      89\n",
       "2      67\n",
       "3      68\n",
       "4      80"
      ]
     },
     "execution_count": 35,
     "metadata": {},
     "output_type": "execute_result"
    }
   ],
   "source": [
    "pd_df.head()"
   ]
  },
  {
   "cell_type": "code",
   "execution_count": 43,
   "id": "242e7884",
   "metadata": {},
   "outputs": [
    {
     "data": {
      "text/plain": [
       "<AxesSubplot:>"
      ]
     },
     "execution_count": 43,
     "metadata": {},
     "output_type": "execute_result"
    },
    {
     "data": {
      "image/png": "[encoded data removed]",
      "text/plain": [
       "<Figure size 432x288 with 1 Axes>"
      ]
     },
     "metadata": {
      "needs_background": "light"
     },
     "output_type": "display_data"
    }
   ],
   "source": [
    "import seaborn as sns\n",
    "sns.boxplot(pd_df, orient='h', showfliers=False)"
   ]
  },
  {
   "cell_type": "code",
   "execution_count": 46,
   "id": "9734c9c1",
   "metadata": {},
   "outputs": [
    {
     "data": {
      "text/html": [
       "<div>\n",
       "<style scoped>\n",
       "    .dataframe tbody tr th:only-of-type {\n",
       "        vertical-align: middle;\n",
       "    }\n",
       "\n",
       "    .dataframe tbody tr th {\n",
       "        vertical-align: top;\n",
       "    }\n",
       "\n",
       "    .dataframe thead th {\n",
       "        text-align: right;\n",
       "    }\n",
       "</style>\n",
       "<table border=\"1\" class=\"dataframe\">\n",
       "  <thead>\n",
       "    <tr style=\"text-align: right;\">\n",
       "      <th></th>\n",
       "      <th>length</th>\n",
       "    </tr>\n",
       "  </thead>\n",
       "  <tbody>\n",
       "    <tr>\n",
       "      <th>count</th>\n",
       "      <td>1670.000000</td>\n",
       "    </tr>\n",
       "    <tr>\n",
       "      <th>mean</th>\n",
       "      <td>228.400599</td>\n",
       "    </tr>\n",
       "    <tr>\n",
       "      <th>std</th>\n",
       "      <td>72.983419</td>\n",
       "    </tr>\n",
       "    <tr>\n",
       "      <th>min</th>\n",
       "      <td>201.000000</td>\n",
       "    </tr>\n",
       "    <tr>\n",
       "      <th>25%</th>\n",
       "      <td>206.000000</td>\n",
       "    </tr>\n",
       "    <tr>\n",
       "      <th>50%</th>\n",
       "      <td>215.000000</td>\n",
       "    </tr>\n",
       "    <tr>\n",
       "      <th>75%</th>\n",
       "      <td>230.000000</td>\n",
       "    </tr>\n",
       "    <tr>\n",
       "      <th>max</th>\n",
       "      <td>1926.000000</td>\n",
       "    </tr>\n",
       "  </tbody>\n",
       "</table>\n",
       "</div>"
      ],
      "text/plain": [
       "            length\n",
       "count  1670.000000\n",
       "mean    228.400599\n",
       "std      72.983419\n",
       "min     201.000000\n",
       "25%     206.000000\n",
       "50%     215.000000\n",
       "75%     230.000000\n",
       "max    1926.000000"
      ]
     },
     "execution_count": 46,
     "metadata": {},
     "output_type": "execute_result"
    }
   ],
   "source": [
    "pd_df[pd_df > 200].describe()"
   ]
  },
  {
   "cell_type": "code",
   "execution_count": 47,
   "id": "4a70079b",
   "metadata": {},
   "outputs": [],
   "source": [
    "df = df.withColumn(\"a_length\", f.length('abstract'))"
   ]
  },
  {
   "cell_type": "code",
   "execution_count": 52,
   "id": "31758457",
   "metadata": {},
   "outputs": [],
   "source": [
    "pd_df = df.select(\"a_length\").toPandas()"
   ]
  },
  {
   "cell_type": "code",
   "execution_count": 53,
   "id": "54a057bb",
   "metadata": {},
   "outputs": [
    {
     "data": {
      "text/html": [
       "<div>\n",
       "<style scoped>\n",
       "    .dataframe tbody tr th:only-of-type {\n",
       "        vertical-align: middle;\n",
       "    }\n",
       "\n",
       "    .dataframe tbody tr th {\n",
       "        vertical-align: top;\n",
       "    }\n",
       "\n",
       "    .dataframe thead th {\n",
       "        text-align: right;\n",
       "    }\n",
       "</style>\n",
       "<table border=\"1\" class=\"dataframe\">\n",
       "  <thead>\n",
       "    <tr style=\"text-align: right;\">\n",
       "      <th></th>\n",
       "      <th>a_length</th>\n",
       "    </tr>\n",
       "  </thead>\n",
       "  <tbody>\n",
       "    <tr>\n",
       "      <th>count</th>\n",
       "      <td>3.479515e+06</td>\n",
       "    </tr>\n",
       "    <tr>\n",
       "      <th>mean</th>\n",
       "      <td>9.351087e+02</td>\n",
       "    </tr>\n",
       "    <tr>\n",
       "      <th>std</th>\n",
       "      <td>5.200197e+02</td>\n",
       "    </tr>\n",
       "    <tr>\n",
       "      <th>min</th>\n",
       "      <td>1.000000e+00</td>\n",
       "    </tr>\n",
       "    <tr>\n",
       "      <th>25%</th>\n",
       "      <td>6.370000e+02</td>\n",
       "    </tr>\n",
       "    <tr>\n",
       "      <th>50%</th>\n",
       "      <td>8.960000e+02</td>\n",
       "    </tr>\n",
       "    <tr>\n",
       "      <th>75%</th>\n",
       "      <td>1.169000e+03</td>\n",
       "    </tr>\n",
       "    <tr>\n",
       "      <th>max</th>\n",
       "      <td>1.376490e+05</td>\n",
       "    </tr>\n",
       "  </tbody>\n",
       "</table>\n",
       "</div>"
      ],
      "text/plain": [
       "           a_length\n",
       "count  3.479515e+06\n",
       "mean   9.351087e+02\n",
       "std    5.200197e+02\n",
       "min    1.000000e+00\n",
       "25%    6.370000e+02\n",
       "50%    8.960000e+02\n",
       "75%    1.169000e+03\n",
       "max    1.376490e+05"
      ]
     },
     "execution_count": 53,
     "metadata": {},
     "output_type": "execute_result"
    }
   ],
   "source": [
    "pd_df.describe()"
   ]
  },
  {
   "cell_type": "code",
   "execution_count": 58,
   "id": "0b0c2989",
   "metadata": {},
   "outputs": [
    {
     "data": {
      "text/plain": [
       "<AxesSubplot:>"
      ]
     },
     "execution_count": 58,
     "metadata": {},
     "output_type": "execute_result"
    },
    {
     "data": {
      "image/png": "[encoded data removed]",
      "text/plain": [
       "<Figure size 432x288 with 1 Axes>"
      ]
     },
     "metadata": {
      "needs_background": "light"
     },
     "output_type": "display_data"
    }
   ],
   "source": [
    "sns.boxplot(pd_df, orient='h', showfliers=True)"
   ]
  },
  {
   "cell_type": "code",
   "execution_count": 67,
   "id": "3f460a12",
   "metadata": {},
   "outputs": [
    {
     "data": {
      "text/html": [
       "<div>\n",
       "<style scoped>\n",
       "    .dataframe tbody tr th:only-of-type {\n",
       "        vertical-align: middle;\n",
       "    }\n",
       "\n",
       "    .dataframe tbody tr th {\n",
       "        vertical-align: top;\n",
       "    }\n",
       "\n",
       "    .dataframe thead th {\n",
       "        text-align: right;\n",
       "    }\n",
       "</style>\n",
       "<table border=\"1\" class=\"dataframe\">\n",
       "  <thead>\n",
       "    <tr style=\"text-align: right;\">\n",
       "      <th></th>\n",
       "      <th>a_length</th>\n",
       "    </tr>\n",
       "  </thead>\n",
       "  <tbody>\n",
       "    <tr>\n",
       "      <th>count</th>\n",
       "      <td>331.000000</td>\n",
       "    </tr>\n",
       "    <tr>\n",
       "      <th>mean</th>\n",
       "      <td>27182.468278</td>\n",
       "    </tr>\n",
       "    <tr>\n",
       "      <th>std</th>\n",
       "      <td>15231.774959</td>\n",
       "    </tr>\n",
       "    <tr>\n",
       "      <th>min</th>\n",
       "      <td>10054.000000</td>\n",
       "    </tr>\n",
       "    <tr>\n",
       "      <th>25%</th>\n",
       "      <td>15216.500000</td>\n",
       "    </tr>\n",
       "    <tr>\n",
       "      <th>50%</th>\n",
       "      <td>24062.000000</td>\n",
       "    </tr>\n",
       "    <tr>\n",
       "      <th>75%</th>\n",
       "      <td>34271.500000</td>\n",
       "    </tr>\n",
       "    <tr>\n",
       "      <th>max</th>\n",
       "      <td>137649.000000</td>\n",
       "    </tr>\n",
       "  </tbody>\n",
       "</table>\n",
       "</div>"
      ],
      "text/plain": [
       "            a_length\n",
       "count     331.000000\n",
       "mean    27182.468278\n",
       "std     15231.774959\n",
       "min     10054.000000\n",
       "25%     15216.500000\n",
       "50%     24062.000000\n",
       "75%     34271.500000\n",
       "max    137649.000000"
      ]
     },
     "execution_count": 67,
     "metadata": {},
     "output_type": "execute_result"
    }
   ],
   "source": [
    "pd_df[pd_df > 10000].describe()"
   ]
  },
  {
   "cell_type": "markdown",
   "id": "a4b9ae01",
   "metadata": {},
   "source": [
    "Готово! Теперь уберём поля со слишком длинными строками."
   ]
  },
  {
   "cell_type": "code",
   "execution_count": 11,
   "id": "5858dc24",
   "metadata": {},
   "outputs": [],
   "source": [
    "clean_df_ = clean_df.where((f.length(clean_df.abstract) < 10000) & (f.length(clean_df.title) < 200))"
   ]
  },
  {
   "cell_type": "code",
   "execution_count": 12,
   "id": "4e21d706",
   "metadata": {},
   "outputs": [
    {
     "data": {
      "text/plain": [
       "3477442"
      ]
     },
     "execution_count": 12,
     "metadata": {},
     "output_type": "execute_result"
    }
   ],
   "source": [
    "clean_df_.count()"
   ]
  },
  {
   "cell_type": "markdown",
   "id": "119165fe",
   "metadata": {},
   "source": [
    "Т.к. после такой уборки мы всё ещё далеки от требуемых цифр - давайте станем более привередливыми."
   ]
  },
  {
   "cell_type": "markdown",
   "id": "683cf7b0",
   "metadata": {},
   "source": [
    "При проведении `EDA` были обнаружены статьи на немецком языке. Типичными для немецкого (и нетипичными для английского) языка являются умляуты и ß. Давайте удалим все абстракты с подобными буквами."
   ]
  },
  {
   "cell_type": "code",
   "execution_count": 13,
   "id": "cb3ff634",
   "metadata": {},
   "outputs": [],
   "source": [
    "regex_pattern = \"|\".join(['ä', 'ö', 'ü', 'ß'])\n",
    "clean_df_ = clean_df_.filter(\n",
    "    ~f.col(\"abstract\").rlike(regex_pattern)\n",
    ")"
   ]
  },
  {
   "cell_type": "code",
   "execution_count": 23,
   "id": "d3a5a86d",
   "metadata": {},
   "outputs": [
    {
     "data": {
      "text/plain": [
       "3462594"
      ]
     },
     "execution_count": 23,
     "metadata": {},
     "output_type": "execute_result"
    }
   ],
   "source": [
    "clean_df_.count()"
   ]
  },
  {
   "cell_type": "code",
   "execution_count": 14,
   "id": "5bf7d684",
   "metadata": {},
   "outputs": [],
   "source": [
    "clean_df_ = clean_df_.na.drop(subset=['fos', 'keywords'])"
   ]
  },
  {
   "cell_type": "code",
   "execution_count": 26,
   "id": "89aaf2f7",
   "metadata": {},
   "outputs": [
    {
     "data": {
      "text/plain": [
       "2699241"
      ]
     },
     "execution_count": 26,
     "metadata": {},
     "output_type": "execute_result"
    }
   ],
   "source": [
    "clean_df_.count()"
   ]
  },
  {
   "cell_type": "markdown",
   "id": "345ebc7b",
   "metadata": {},
   "source": [
    "Можно заметить, что процент очищенных значений не совпадает с тем, что заявляется в `EDA`. Конечно, отчасти это из-за того, что `EDA` проводился не на всём датасете - приведённые числа там могут (несильно) отличаться от действительных. К тому же мы уже удалили более половины данных. Однако, даже без учёта этого в результатах нет ничего необычного - мы ещё не удалили все мусорные значения из этих полей! На самом деле что в `fos`, что в `keywords` (да и, вообще говоря, в большинстве списковых полей датасета) очень успешно хранятся списки, содержащие только мусорные (`null`) значения, которые таким простым методом не убрать."
   ]
  },
  {
   "cell_type": "code",
   "execution_count": 15,
   "id": "84d11986",
   "metadata": {},
   "outputs": [],
   "source": [
    "clean_df_ = clean_df_.na.drop(subset=['issn', 'isbn'])"
   ]
  },
  {
   "cell_type": "code",
   "execution_count": 28,
   "id": "c4849214",
   "metadata": {},
   "outputs": [
    {
     "data": {
      "text/plain": [
       "2574159"
      ]
     },
     "execution_count": 28,
     "metadata": {},
     "output_type": "execute_result"
    }
   ],
   "source": [
    "clean_df_.count()"
   ]
  },
  {
   "cell_type": "markdown",
   "id": "8bb27a0e",
   "metadata": {},
   "source": [
    "Посмотрим на длину статьи (в страницах) для того, чтобы выяснить, можно ли что-то очистить по этому признаку."
   ]
  },
  {
   "cell_type": "code",
   "execution_count": 30,
   "id": "a042ddb4",
   "metadata": {},
   "outputs": [
    {
     "name": "stderr",
     "output_type": "stream",
     "text": [
      "/home/ippk93/anaconda3/envs/made_1/lib/python3.10/site-packages/pyspark/sql/dataframe.py:3313: FutureWarning: DataFrame.to_pandas_on_spark is deprecated. Use DataFrame.pandas_api instead.\n",
      "  warnings.warn(\n",
      "WARNING:root:'PYARROW_IGNORE_TIMEZONE' environment variable was not set. It is required to set this environment variable to '1' in both driver and executor sides if you use pyarrow>=2.0.0. pandas-on-Spark will set it for you but it does not work if there is a Spark context already launched.\n"
     ]
    },
    {
     "data": {
      "text/html": [
       "<div>\n",
       "<style scoped>\n",
       "    .dataframe tbody tr th:only-of-type {\n",
       "        vertical-align: middle;\n",
       "    }\n",
       "\n",
       "    .dataframe tbody tr th {\n",
       "        vertical-align: top;\n",
       "    }\n",
       "\n",
       "    .dataframe thead th {\n",
       "        text-align: right;\n",
       "    }\n",
       "</style>\n",
       "<table border=\"1\" class=\"dataframe\">\n",
       "  <thead>\n",
       "    <tr style=\"text-align: right;\">\n",
       "      <th></th>\n",
       "      <th>article_len</th>\n",
       "    </tr>\n",
       "  </thead>\n",
       "  <tbody>\n",
       "    <tr>\n",
       "      <th>count</th>\n",
       "      <td>2.228974e+06</td>\n",
       "    </tr>\n",
       "    <tr>\n",
       "      <th>mean</th>\n",
       "      <td>-4.640207e+02</td>\n",
       "    </tr>\n",
       "    <tr>\n",
       "      <th>std</th>\n",
       "      <td>7.567330e+05</td>\n",
       "    </tr>\n",
       "    <tr>\n",
       "      <th>min</th>\n",
       "      <td>-1.127502e+09</td>\n",
       "    </tr>\n",
       "    <tr>\n",
       "      <th>25%</th>\n",
       "      <td>6.000000e+00</td>\n",
       "    </tr>\n",
       "    <tr>\n",
       "      <th>50%</th>\n",
       "      <td>9.000000e+00</td>\n",
       "    </tr>\n",
       "    <tr>\n",
       "      <th>75%</th>\n",
       "      <td>1.300000e+01</td>\n",
       "    </tr>\n",
       "    <tr>\n",
       "      <th>max</th>\n",
       "      <td>7.166233e+07</td>\n",
       "    </tr>\n",
       "  </tbody>\n",
       "</table>\n",
       "</div>"
      ],
      "text/plain": [
       "        article_len\n",
       "count  2.228974e+06\n",
       "mean  -4.640207e+02\n",
       "std    7.567330e+05\n",
       "min   -1.127502e+09\n",
       "25%    6.000000e+00\n",
       "50%    9.000000e+00\n",
       "75%    1.300000e+01\n",
       "max    7.166233e+07"
      ]
     },
     "execution_count": 30,
     "metadata": {},
     "output_type": "execute_result"
    }
   ],
   "source": [
    "clean_df_.select('article_len').to_pandas_on_spark().describe()"
   ]
  },
  {
   "cell_type": "markdown",
   "id": "a59e271a",
   "metadata": {},
   "source": [
    "Напомним, `article_len` = `page_end` - `page_start` (из начального датасета). Очищаем..."
   ]
  },
  {
   "cell_type": "code",
   "execution_count": 16,
   "id": "3007808b",
   "metadata": {},
   "outputs": [],
   "source": [
    "clean_df_ = clean_df_.na.drop(subset=['article_len']).where(clean_df_.article_len >= 0)"
   ]
  },
  {
   "cell_type": "code",
   "execution_count": 20,
   "id": "ac28bd15",
   "metadata": {},
   "outputs": [
    {
     "data": {
      "text/plain": [
       "2227883"
      ]
     },
     "execution_count": 20,
     "metadata": {},
     "output_type": "execute_result"
    }
   ],
   "source": [
    "clean_df_.count()"
   ]
  },
  {
   "cell_type": "markdown",
   "id": "a3a9ffce",
   "metadata": {},
   "source": [
    "Однако, ситуация всё ещё не в нашу сторону. Давайте попробуем убрать пустые списки из `keywords`."
   ]
  },
  {
   "cell_type": "code",
   "execution_count": 17,
   "id": "d1bd4747",
   "metadata": {},
   "outputs": [],
   "source": [
    "def get_clean_pairs(df, col_name):\n",
    "    clean_colname = col_name + '_cleaned'\n",
    "    clean_df = df.withColumn(clean_colname, f.expr(f'filter({col_name}, x -> x is not null)'))\n",
    "    clean_df = clean_df.na.drop(subset=[clean_colname]).where(f.col(clean_colname) != f.array())\n",
    "    \n",
    "    id_col = clean_df.select(f.col('old_id'), f.explode(f.col(clean_colname)))\n",
    "\n",
    "    numbers_regex = '|'.join(map(str, range(10)))\n",
    "    id_col = id_col.where(~id_col.col.rlike(numbers_regex))\n",
    "\n",
    "    id_col = id_col.na.drop(subset=['col']).where(\n",
    "        (f.length(id_col.col) < 100) & \n",
    "        ~f.lower(f.trim(id_col.col)).isin('', 'none', 'null')\n",
    "    )\n",
    "\n",
    "    id_col = id_col.groupby('old_id').agg(f.collect_set('col').alias(col_name))\n",
    "    \n",
    "    return id_col"
   ]
  },
  {
   "cell_type": "code",
   "execution_count": 18,
   "id": "4737d135",
   "metadata": {},
   "outputs": [],
   "source": [
    "id_kws = get_clean_pairs(clean_df_, 'keywords')"
   ]
  },
  {
   "cell_type": "code",
   "execution_count": 20,
   "id": "54bd71ed",
   "metadata": {},
   "outputs": [
    {
     "data": {
      "text/plain": [
       "2216306"
      ]
     },
     "execution_count": 20,
     "metadata": {},
     "output_type": "execute_result"
    }
   ],
   "source": [
    "id_kws.count()"
   ]
  },
  {
   "cell_type": "code",
   "execution_count": 82,
   "id": "7715b8f2",
   "metadata": {},
   "outputs": [
    {
     "name": "stdout",
     "output_type": "stream",
     "text": [
      "+--------------------+--------------------+\n",
      "|              old_id|            keywords|\n",
      "+--------------------+--------------------+\n",
      "|53e99796b7602d970...|[Dynamic scheduli...|\n",
      "|53e99796b7602d970...|[diagnostic test,...|\n",
      "|53e997cbb7602d970...|[semi-supervised ...|\n",
      "|53e997cbb7602d970...|[direct volume re...|\n",
      "|53e997cbb7602d970...|[human-computer s...|\n",
      "|53e997cbb7602d970...|[thk analysis, pr...|\n",
      "|53e997cbb7602d970...|[natural deductio...|\n",
      "|53e997ccb7602d970...|[Snapshots, Combi...|\n",
      "|53e997ccb7602d970...|[software perform...|\n",
      "|53e997ccb7602d970...|[Reachability and...|\n",
      "|53e997ccb7602d970...|[Cellular frustra...|\n",
      "|53e997ccb7602d970...|[MIMO, SpaceÂ¿tim...|\n",
      "|53e997ccb7602d970...|[protein sequence...|\n",
      "|53e997ccb7602d970...|[additional opini...|\n",
      "|53e997ccb7602d970...|[Convex Domain, C...|\n",
      "|53e997ccb7602d970...|[fuzzy logic, ext...|\n",
      "|53e997ccb7602d970...|[Minimal spanning...|\n",
      "|53e997ccb7602d970...|[opportunistic sp...|\n",
      "|53e997ccb7602d970...|[software perform...|\n",
      "|53e997ccb7602d970...|[data type, relat...|\n",
      "+--------------------+--------------------+\n",
      "only showing top 20 rows\n",
      "\n"
     ]
    }
   ],
   "source": [
    "id_kws.show()"
   ]
  },
  {
   "cell_type": "code",
   "execution_count": 19,
   "id": "85018f21",
   "metadata": {},
   "outputs": [],
   "source": [
    "def join_tables(df, df_other, col_name):\n",
    "    df_ = df.drop(col_name)\n",
    "    \n",
    "    df_ = df_.alias('df')\n",
    "    df_other_ = df_other.alias('df_other')\n",
    "    \n",
    "    df_ = df_.join(df_other_, df_.old_id == df_other_.old_id).select('df.*', f'df_other.{col_name}')\n",
    "    \n",
    "    return df_"
   ]
  },
  {
   "cell_type": "code",
   "execution_count": 20,
   "id": "eece5c06",
   "metadata": {},
   "outputs": [],
   "source": [
    "clean_df_ = join_tables(clean_df_, id_kws, 'keywords')"
   ]
  },
  {
   "cell_type": "code",
   "execution_count": 23,
   "id": "d9d840c1",
   "metadata": {},
   "outputs": [
    {
     "data": {
      "text/plain": [
       "2216306"
      ]
     },
     "execution_count": 23,
     "metadata": {},
     "output_type": "execute_result"
    }
   ],
   "source": [
    "clean_df_.count()"
   ]
  },
  {
   "cell_type": "code",
   "execution_count": 21,
   "id": "fe1fb079",
   "metadata": {},
   "outputs": [],
   "source": [
    "id_fos = get_clean_pairs(clean_df_, 'fos')"
   ]
  },
  {
   "cell_type": "code",
   "execution_count": 22,
   "id": "53a12226",
   "metadata": {},
   "outputs": [],
   "source": [
    "clean_df_ = join_tables(clean_df_, id_fos, 'fos')"
   ]
  },
  {
   "cell_type": "code",
   "execution_count": 23,
   "id": "504bfb78",
   "metadata": {},
   "outputs": [
    {
     "data": {
      "text/plain": [
       "2216306"
      ]
     },
     "execution_count": 23,
     "metadata": {},
     "output_type": "execute_result"
    }
   ],
   "source": [
    "clean_df_.count()"
   ]
  },
  {
   "cell_type": "code",
   "execution_count": 27,
   "id": "1ba797b9",
   "metadata": {},
   "outputs": [],
   "source": [
    "kw_lengths = id_kws.select(f.explode('keywords'))\n",
    "kw_lengths = kw_lengths.select(f.length('col').alias('kw_len'))"
   ]
  },
  {
   "cell_type": "code",
   "execution_count": 28,
   "id": "a6f836ab",
   "metadata": {},
   "outputs": [
    {
     "name": "stderr",
     "output_type": "stream",
     "text": [
      "/home/ippk93/anaconda3/envs/made_1/lib/python3.10/site-packages/pyspark/sql/dataframe.py:3313: FutureWarning: DataFrame.to_pandas_on_spark is deprecated. Use DataFrame.pandas_api instead.\n",
      "  warnings.warn(\n",
      "WARNING:root:'PYARROW_IGNORE_TIMEZONE' environment variable was not set. It is required to set this environment variable to '1' in both driver and executor sides if you use pyarrow>=2.0.0. pandas-on-Spark will set it for you but it does not work if there is a Spark context already launched.\n"
     ]
    },
    {
     "data": {
      "text/html": [
       "<div>\n",
       "<style scoped>\n",
       "    .dataframe tbody tr th:only-of-type {\n",
       "        vertical-align: middle;\n",
       "    }\n",
       "\n",
       "    .dataframe tbody tr th {\n",
       "        vertical-align: top;\n",
       "    }\n",
       "\n",
       "    .dataframe thead th {\n",
       "        text-align: right;\n",
       "    }\n",
       "</style>\n",
       "<table border=\"1\" class=\"dataframe\">\n",
       "  <thead>\n",
       "    <tr style=\"text-align: right;\">\n",
       "      <th></th>\n",
       "      <th>kw_len</th>\n",
       "    </tr>\n",
       "  </thead>\n",
       "  <tbody>\n",
       "    <tr>\n",
       "      <th>count</th>\n",
       "      <td>2.433472e+07</td>\n",
       "    </tr>\n",
       "    <tr>\n",
       "      <th>mean</th>\n",
       "      <td>1.873100e+01</td>\n",
       "    </tr>\n",
       "    <tr>\n",
       "      <th>std</th>\n",
       "      <td>8.006507e+00</td>\n",
       "    </tr>\n",
       "    <tr>\n",
       "      <th>min</th>\n",
       "      <td>1.000000e+00</td>\n",
       "    </tr>\n",
       "    <tr>\n",
       "      <th>25%</th>\n",
       "      <td>1.400000e+01</td>\n",
       "    </tr>\n",
       "    <tr>\n",
       "      <th>50%</th>\n",
       "      <td>1.800000e+01</td>\n",
       "    </tr>\n",
       "    <tr>\n",
       "      <th>75%</th>\n",
       "      <td>2.300000e+01</td>\n",
       "    </tr>\n",
       "    <tr>\n",
       "      <th>max</th>\n",
       "      <td>9.900000e+01</td>\n",
       "    </tr>\n",
       "  </tbody>\n",
       "</table>\n",
       "</div>"
      ],
      "text/plain": [
       "             kw_len\n",
       "count  2.433472e+07\n",
       "mean   1.873100e+01\n",
       "std    8.006507e+00\n",
       "min    1.000000e+00\n",
       "25%    1.400000e+01\n",
       "50%    1.800000e+01\n",
       "75%    2.300000e+01\n",
       "max    9.900000e+01"
      ]
     },
     "execution_count": 28,
     "metadata": {},
     "output_type": "execute_result"
    }
   ],
   "source": [
    "kw_lengths.select('kw_len').to_pandas_on_spark().describe()"
   ]
  },
  {
   "cell_type": "markdown",
   "id": "bba2d374",
   "metadata": {},
   "source": [
    "На текущем уровне датасет очищен достаточно. Дальнейшую очистку будем проводить по `references` и `authors`, как и требуется в оставшихся задачах. Это будет сделано уже в следующем ноутбуке."
   ]
  },
  {
   "cell_type": "code",
   "execution_count": 29,
   "id": "5e6f19d3",
   "metadata": {},
   "outputs": [],
   "source": [
    "clean_df_.write.parquet('ref_authors_process.parquet')"
   ]
  },
  {
   "cell_type": "code",
   "execution_count": null,
   "id": "f5225d3d",
   "metadata": {},
   "outputs": [],
   "source": []
  }
 ],
 "metadata": {
  "kernelspec": {
   "display_name": "Python 3 (ipykernel)",
   "language": "python",
   "name": "python3"
  },
  "language_info": {
   "codemirror_mode": {
    "name": "ipython",
    "version": 3
   },
   "file_extension": ".py",
   "mimetype": "text/x-python",
   "name": "python",
   "nbconvert_exporter": "python",
   "pygments_lexer": "ipython3",
   "version": "3.9.12"
  }
 },
 "nbformat": 4,
 "nbformat_minor": 5
}
