{
 "cells": [
  {
   "cell_type": "code",
   "execution_count": 1,
   "id": "4f76b4bb",
   "metadata": {},
   "outputs": [],
   "source": [
    "import pandas as pd"
   ]
  },
  {
   "cell_type": "code",
   "execution_count": 2,
   "id": "095ae862",
   "metadata": {},
   "outputs": [],
   "source": [
    "from pyspark.sql import SparkSession\n",
    "from pyspark.sql import functions as f"
   ]
  },
  {
   "cell_type": "code",
   "execution_count": 3,
   "id": "ed11676d",
   "metadata": {},
   "outputs": [],
   "source": [
    "spark = SparkSession.builder \\\n",
    "        .master('local[*]') \\\n",
    "        .appName(\"Data extractor\") \\\n",
    "        .config(\"spark.executor.memory\", \"8g\") \\\n",
    "        .config(\"spark.driver.memory\", \"6g\") \\\n",
    "        .getOrCreate()"
   ]
  },
  {
   "cell_type": "code",
   "execution_count": 4,
   "id": "dfe4f95d",
   "metadata": {},
   "outputs": [],
   "source": [
    "DATA_PATH = './ref_authors_process.parquet/'"
   ]
  },
  {
   "cell_type": "code",
   "execution_count": 5,
   "id": "6e321177",
   "metadata": {},
   "outputs": [],
   "source": [
    "spark_df = spark.read.parquet(DATA_PATH)"
   ]
  },
  {
   "cell_type": "code",
   "execution_count": 6,
   "id": "fc0b6d34",
   "metadata": {},
   "outputs": [
    {
     "name": "stdout",
     "output_type": "stream",
     "text": [
      "root\n",
      " |-- old_id: string (nullable = true)\n",
      " |-- title: string (nullable = true)\n",
      " |-- abstract: string (nullable = true)\n",
      " |-- has_doi: boolean (nullable = true)\n",
      " |-- issn: string (nullable = true)\n",
      " |-- isbn: string (nullable = true)\n",
      " |-- article_len: integer (nullable = true)\n",
      " |-- n_citation: double (nullable = true)\n",
      " |-- lang: string (nullable = true)\n",
      " |-- year: double (nullable = true)\n",
      " |-- references: array (nullable = true)\n",
      " |    |-- element: string (containsNull = true)\n",
      " |-- authors: array (nullable = true)\n",
      " |    |-- element: struct (containsNull = true)\n",
      " |    |    |-- email: string (nullable = true)\n",
      " |    |    |-- gid: string (nullable = true)\n",
      " |    |    |-- name: string (nullable = true)\n",
      " |    |    |-- org: string (nullable = true)\n",
      " |    |    |-- orgid: string (nullable = true)\n",
      " |    |    |-- sid: string (nullable = true)\n",
      " |    |    |-- old_id: string (nullable = true)\n",
      " |    |    |-- orgs_count: integer (nullable = true)\n",
      " |-- venue: struct (nullable = true)\n",
      " |    |-- name_d: string (nullable = true)\n",
      " |    |-- raw: string (nullable = true)\n",
      " |    |-- sid: string (nullable = true)\n",
      " |    |-- type: long (nullable = true)\n",
      " |    |-- old_id: string (nullable = true)\n",
      " |-- keywords: array (nullable = true)\n",
      " |    |-- element: string (containsNull = true)\n",
      " |-- fos: array (nullable = true)\n",
      " |    |-- element: string (containsNull = true)\n",
      "\n"
     ]
    }
   ],
   "source": [
    "spark_df.printSchema()"
   ]
  },
  {
   "cell_type": "code",
   "execution_count": 7,
   "id": "4900af04",
   "metadata": {},
   "outputs": [
    {
     "data": {
      "text/plain": [
       "2216306"
      ]
     },
     "execution_count": 7,
     "metadata": {},
     "output_type": "execute_result"
    }
   ],
   "source": [
    "spark_df.count()"
   ]
  },
  {
   "cell_type": "code",
   "execution_count": 8,
   "id": "7f67af89",
   "metadata": {},
   "outputs": [],
   "source": [
    "id_authors = spark_df.withColumn('authors_clean_', f.expr(f'filter(authors, x -> x is not null)')) \\\n",
    "                    .withColumn('authors_clean', f.expr(f'filter(authors, x -> x.name is not null)'))"
   ]
  },
  {
   "cell_type": "code",
   "execution_count": 9,
   "id": "230b46f6",
   "metadata": {},
   "outputs": [
    {
     "data": {
      "text/plain": [
       "(6647988, 6643461)"
      ]
     },
     "execution_count": 9,
     "metadata": {},
     "output_type": "execute_result"
    }
   ],
   "source": [
    "id_authors.select(f.explode('authors').alias('author')).count(), \\\n",
    "id_authors.select(f.explode('authors_clean').alias('author')).count()"
   ]
  },
  {
   "cell_type": "code",
   "execution_count": 10,
   "id": "78869b1d",
   "metadata": {},
   "outputs": [],
   "source": [
    "id_authors = id_authors.drop('authors', 'authors_clean_')"
   ]
  },
  {
   "cell_type": "code",
   "execution_count": 11,
   "id": "7798d907",
   "metadata": {},
   "outputs": [],
   "source": [
    "id_authors = id_authors.withColumnRenamed('authors_clean', 'authors')"
   ]
  },
  {
   "cell_type": "code",
   "execution_count": 12,
   "id": "9e031b5c",
   "metadata": {},
   "outputs": [
    {
     "name": "stdout",
     "output_type": "stream",
     "text": [
      "root\n",
      " |-- old_id: string (nullable = true)\n",
      " |-- title: string (nullable = true)\n",
      " |-- abstract: string (nullable = true)\n",
      " |-- has_doi: boolean (nullable = true)\n",
      " |-- issn: string (nullable = true)\n",
      " |-- isbn: string (nullable = true)\n",
      " |-- article_len: integer (nullable = true)\n",
      " |-- n_citation: double (nullable = true)\n",
      " |-- lang: string (nullable = true)\n",
      " |-- year: double (nullable = true)\n",
      " |-- references: array (nullable = true)\n",
      " |    |-- element: string (containsNull = true)\n",
      " |-- venue: struct (nullable = true)\n",
      " |    |-- name_d: string (nullable = true)\n",
      " |    |-- raw: string (nullable = true)\n",
      " |    |-- sid: string (nullable = true)\n",
      " |    |-- type: long (nullable = true)\n",
      " |    |-- old_id: string (nullable = true)\n",
      " |-- keywords: array (nullable = true)\n",
      " |    |-- element: string (containsNull = true)\n",
      " |-- fos: array (nullable = true)\n",
      " |    |-- element: string (containsNull = true)\n",
      " |-- authors: array (nullable = true)\n",
      " |    |-- element: struct (containsNull = true)\n",
      " |    |    |-- email: string (nullable = true)\n",
      " |    |    |-- gid: string (nullable = true)\n",
      " |    |    |-- name: string (nullable = true)\n",
      " |    |    |-- org: string (nullable = true)\n",
      " |    |    |-- orgid: string (nullable = true)\n",
      " |    |    |-- sid: string (nullable = true)\n",
      " |    |    |-- old_id: string (nullable = true)\n",
      " |    |    |-- orgs_count: integer (nullable = true)\n",
      "\n"
     ]
    }
   ],
   "source": [
    "id_authors.printSchema()"
   ]
  },
  {
   "cell_type": "code",
   "execution_count": 28,
   "id": "54d14b1e",
   "metadata": {},
   "outputs": [],
   "source": [
    "def get_clean_pairs(df, col_name):\n",
    "    clean_colname = col_name + '_cleaned'\n",
    "    clean_df = df.withColumn(clean_colname, f.expr(f'filter({col_name}, x -> x is not null)'))\n",
    "    clean_df = clean_df.na.drop(subset=[clean_colname]).where(f.col(clean_colname) != f.array())\n",
    "    \n",
    "    id_col = clean_df.select(f.col('old_id'), f.explode(f.col(clean_colname)))\n",
    "    \n",
    "    id_col = id_col.join(clean_df.select(f.col('old_id').alias('col')), ['col'], 'leftsemi')\n",
    "\n",
    "    id_col = id_col.groupby('old_id').agg(f.collect_list('col').alias(col_name))\n",
    "    \n",
    "    return id_col"
   ]
  },
  {
   "cell_type": "code",
   "execution_count": 29,
   "id": "1fee82db",
   "metadata": {},
   "outputs": [],
   "source": [
    "id_authors_ref = get_clean_pairs(id_authors, 'references')"
   ]
  },
  {
   "cell_type": "code",
   "execution_count": 30,
   "id": "f9e36436",
   "metadata": {},
   "outputs": [
    {
     "data": {
      "text/plain": [
       "17572755"
      ]
     },
     "execution_count": 30,
     "metadata": {},
     "output_type": "execute_result"
    }
   ],
   "source": [
    "id_authors_ref.select(f.explode('references')).count()"
   ]
  },
  {
   "cell_type": "code",
   "execution_count": 31,
   "id": "9c81ee8f",
   "metadata": {},
   "outputs": [
    {
     "name": "stderr",
     "output_type": "stream",
     "text": [
      "/home/ippk93/anaconda3/envs/made_1/lib/python3.10/site-packages/pyspark/sql/dataframe.py:3313: FutureWarning: DataFrame.to_pandas_on_spark is deprecated. Use DataFrame.pandas_api instead.\n",
      "  warnings.warn(\n",
      "/home/ippk93/anaconda3/envs/made_1/lib/python3.10/site-packages/pyspark/pandas/internal.py:1573: FutureWarning: iteritems is deprecated and will be removed in a future version. Use .items instead.\n",
      "  fields = [\n",
      "/home/ippk93/anaconda3/envs/made_1/lib/python3.10/site-packages/pyspark/sql/pandas/conversion.py:486: FutureWarning: iteritems is deprecated and will be removed in a future version. Use .items instead.\n",
      "  for column, series in pdf.iteritems():\n"
     ]
    },
    {
     "data": {
      "text/html": [
       "<div>\n",
       "<style scoped>\n",
       "    .dataframe tbody tr th:only-of-type {\n",
       "        vertical-align: middle;\n",
       "    }\n",
       "\n",
       "    .dataframe tbody tr th {\n",
       "        vertical-align: top;\n",
       "    }\n",
       "\n",
       "    .dataframe thead th {\n",
       "        text-align: right;\n",
       "    }\n",
       "</style>\n",
       "<table border=\"1\" class=\"dataframe\">\n",
       "  <thead>\n",
       "    <tr style=\"text-align: right;\">\n",
       "      <th></th>\n",
       "      <th>col</th>\n",
       "    </tr>\n",
       "  </thead>\n",
       "  <tbody>\n",
       "    <tr>\n",
       "      <th>count</th>\n",
       "      <td>17572755</td>\n",
       "    </tr>\n",
       "    <tr>\n",
       "      <th>unique</th>\n",
       "      <td>1399561</td>\n",
       "    </tr>\n",
       "    <tr>\n",
       "      <th>top</th>\n",
       "      <td>53e9986eb7602d97020ab93b</td>\n",
       "    </tr>\n",
       "    <tr>\n",
       "      <th>freq</th>\n",
       "      <td>12293</td>\n",
       "    </tr>\n",
       "  </tbody>\n",
       "</table>\n",
       "</div>"
      ],
      "text/plain": [
       "                             col\n",
       "count                   17572755\n",
       "unique                   1399561\n",
       "top     53e9986eb7602d97020ab93b\n",
       "freq                       12293"
      ]
     },
     "execution_count": 31,
     "metadata": {},
     "output_type": "execute_result"
    }
   ],
   "source": [
    "id_authors_ref.select(f.explode('references')).to_pandas_on_spark().describe()"
   ]
  },
  {
   "cell_type": "code",
   "execution_count": 32,
   "id": "cec9d925",
   "metadata": {},
   "outputs": [
    {
     "data": {
      "text/plain": [
       "1888307"
      ]
     },
     "execution_count": 32,
     "metadata": {},
     "output_type": "execute_result"
    }
   ],
   "source": [
    "id_authors_ref.count()"
   ]
  },
  {
   "cell_type": "code",
   "execution_count": 33,
   "id": "4ec3131a",
   "metadata": {},
   "outputs": [
    {
     "name": "stdout",
     "output_type": "stream",
     "text": [
      "root\n",
      " |-- old_id: string (nullable = true)\n",
      " |-- references: array (nullable = false)\n",
      " |    |-- element: string (containsNull = false)\n",
      "\n"
     ]
    }
   ],
   "source": [
    "id_authors_ref.printSchema()"
   ]
  },
  {
   "cell_type": "markdown",
   "id": "9d1e21cc",
   "metadata": {},
   "source": [
    "Эти данные терять уже не хочется, но текущий размер значительно больше ожидаемого, поэтому отсемплируем от него 60%."
   ]
  },
  {
   "cell_type": "code",
   "execution_count": 34,
   "id": "804b90b3",
   "metadata": {},
   "outputs": [],
   "source": [
    "sampled = id_authors_ref.sample(withReplacement=False, fraction=0.6, seed=42)"
   ]
  },
  {
   "cell_type": "code",
   "execution_count": 35,
   "id": "73824983",
   "metadata": {},
   "outputs": [
    {
     "data": {
      "text/plain": [
       "1134093"
      ]
     },
     "execution_count": 35,
     "metadata": {},
     "output_type": "execute_result"
    }
   ],
   "source": [
    "sampled.count()"
   ]
  },
  {
   "cell_type": "markdown",
   "id": "c4f34bf5",
   "metadata": {},
   "source": [
    "Отлично. **Но!** Теперь надо снова убрать лишние референсы, которые остались в семпле."
   ]
  },
  {
   "cell_type": "code",
   "execution_count": 36,
   "id": "a49ff320",
   "metadata": {},
   "outputs": [
    {
     "name": "stdout",
     "output_type": "stream",
     "text": [
      "root\n",
      " |-- old_id: string (nullable = true)\n",
      " |-- references: array (nullable = false)\n",
      " |    |-- element: string (containsNull = false)\n",
      "\n"
     ]
    }
   ],
   "source": [
    "sampled.printSchema()"
   ]
  },
  {
   "cell_type": "code",
   "execution_count": 37,
   "id": "ffe92c23",
   "metadata": {},
   "outputs": [],
   "source": [
    "id_refs = get_clean_pairs(sampled, 'references')"
   ]
  },
  {
   "cell_type": "code",
   "execution_count": 38,
   "id": "237c10ed",
   "metadata": {},
   "outputs": [
    {
     "name": "stdout",
     "output_type": "stream",
     "text": [
      "root\n",
      " |-- old_id: string (nullable = true)\n",
      " |-- references: array (nullable = false)\n",
      " |    |-- element: string (containsNull = false)\n",
      "\n"
     ]
    }
   ],
   "source": [
    "id_refs.printSchema()"
   ]
  },
  {
   "cell_type": "code",
   "execution_count": 39,
   "id": "e7254875",
   "metadata": {},
   "outputs": [
    {
     "data": {
      "text/plain": [
       "1048031"
      ]
     },
     "execution_count": 39,
     "metadata": {},
     "output_type": "execute_result"
    }
   ],
   "source": [
    "id_refs.count()"
   ]
  },
  {
   "cell_type": "code",
   "execution_count": 41,
   "id": "944fb21e",
   "metadata": {},
   "outputs": [
    {
     "data": {
      "text/plain": [
       "6197933"
      ]
     },
     "execution_count": 41,
     "metadata": {},
     "output_type": "execute_result"
    }
   ],
   "source": [
    "id_refs.select(f.explode('references')).count()"
   ]
  },
  {
   "cell_type": "code",
   "execution_count": 46,
   "id": "d5419b53",
   "metadata": {},
   "outputs": [
    {
     "name": "stderr",
     "output_type": "stream",
     "text": [
      "/home/ippk93/anaconda3/envs/made_1/lib/python3.10/site-packages/pyspark/sql/dataframe.py:3313: FutureWarning: DataFrame.to_pandas_on_spark is deprecated. Use DataFrame.pandas_api instead.\n",
      "  warnings.warn(\n",
      "/home/ippk93/anaconda3/envs/made_1/lib/python3.10/site-packages/pyspark/pandas/internal.py:1573: FutureWarning: iteritems is deprecated and will be removed in a future version. Use .items instead.\n",
      "  fields = [\n",
      "/home/ippk93/anaconda3/envs/made_1/lib/python3.10/site-packages/pyspark/sql/pandas/conversion.py:486: FutureWarning: iteritems is deprecated and will be removed in a future version. Use .items instead.\n",
      "  for column, series in pdf.iteritems():\n"
     ]
    },
    {
     "data": {
      "text/html": [
       "<div>\n",
       "<style scoped>\n",
       "    .dataframe tbody tr th:only-of-type {\n",
       "        vertical-align: middle;\n",
       "    }\n",
       "\n",
       "    .dataframe tbody tr th {\n",
       "        vertical-align: top;\n",
       "    }\n",
       "\n",
       "    .dataframe thead th {\n",
       "        text-align: right;\n",
       "    }\n",
       "</style>\n",
       "<table border=\"1\" class=\"dataframe\">\n",
       "  <thead>\n",
       "    <tr style=\"text-align: right;\">\n",
       "      <th></th>\n",
       "      <th>col</th>\n",
       "    </tr>\n",
       "  </thead>\n",
       "  <tbody>\n",
       "    <tr>\n",
       "      <th>count</th>\n",
       "      <td>6197933</td>\n",
       "    </tr>\n",
       "    <tr>\n",
       "      <th>unique</th>\n",
       "      <td>716605</td>\n",
       "    </tr>\n",
       "    <tr>\n",
       "      <th>top</th>\n",
       "      <td>53e9986eb7602d97020ab93b</td>\n",
       "    </tr>\n",
       "    <tr>\n",
       "      <th>freq</th>\n",
       "      <td>7400</td>\n",
       "    </tr>\n",
       "  </tbody>\n",
       "</table>\n",
       "</div>"
      ],
      "text/plain": [
       "                             col\n",
       "count                    6197933\n",
       "unique                    716605\n",
       "top     53e9986eb7602d97020ab93b\n",
       "freq                        7400"
      ]
     },
     "execution_count": 46,
     "metadata": {},
     "output_type": "execute_result"
    }
   ],
   "source": [
    "id_refs.select(f.explode('references')).to_pandas_on_spark().describe()"
   ]
  },
  {
   "cell_type": "code",
   "execution_count": 40,
   "id": "18c17344",
   "metadata": {},
   "outputs": [],
   "source": [
    "def join_tables(df, df_other, col_name):\n",
    "    df_ = df.drop(col_name)\n",
    "    \n",
    "    df_ = df_.alias('df')\n",
    "    df_other_ = df_other.alias('df_other')\n",
    "    \n",
    "    df_ = df_.join(df_other_, df_.old_id == df_other_.old_id).select('df.*', f'df_other.{col_name}')\n",
    "    \n",
    "    return df_"
   ]
  },
  {
   "cell_type": "code",
   "execution_count": 42,
   "id": "523d6f9c",
   "metadata": {},
   "outputs": [],
   "source": [
    "joined = join_tables(id_authors, id_refs, 'references')"
   ]
  },
  {
   "cell_type": "code",
   "execution_count": 43,
   "id": "772f16ab",
   "metadata": {},
   "outputs": [
    {
     "name": "stdout",
     "output_type": "stream",
     "text": [
      "root\n",
      " |-- old_id: string (nullable = true)\n",
      " |-- title: string (nullable = true)\n",
      " |-- abstract: string (nullable = true)\n",
      " |-- has_doi: boolean (nullable = true)\n",
      " |-- issn: string (nullable = true)\n",
      " |-- isbn: string (nullable = true)\n",
      " |-- article_len: integer (nullable = true)\n",
      " |-- n_citation: double (nullable = true)\n",
      " |-- lang: string (nullable = true)\n",
      " |-- year: double (nullable = true)\n",
      " |-- venue: struct (nullable = true)\n",
      " |    |-- name_d: string (nullable = true)\n",
      " |    |-- raw: string (nullable = true)\n",
      " |    |-- sid: string (nullable = true)\n",
      " |    |-- type: long (nullable = true)\n",
      " |    |-- old_id: string (nullable = true)\n",
      " |-- keywords: array (nullable = true)\n",
      " |    |-- element: string (containsNull = true)\n",
      " |-- fos: array (nullable = true)\n",
      " |    |-- element: string (containsNull = true)\n",
      " |-- authors: array (nullable = true)\n",
      " |    |-- element: struct (containsNull = true)\n",
      " |    |    |-- email: string (nullable = true)\n",
      " |    |    |-- gid: string (nullable = true)\n",
      " |    |    |-- name: string (nullable = true)\n",
      " |    |    |-- org: string (nullable = true)\n",
      " |    |    |-- orgid: string (nullable = true)\n",
      " |    |    |-- sid: string (nullable = true)\n",
      " |    |    |-- old_id: string (nullable = true)\n",
      " |    |    |-- orgs_count: integer (nullable = true)\n",
      " |-- references: array (nullable = false)\n",
      " |    |-- element: string (containsNull = false)\n",
      "\n"
     ]
    }
   ],
   "source": [
    "joined.printSchema()"
   ]
  },
  {
   "cell_type": "code",
   "execution_count": 44,
   "id": "a4663512",
   "metadata": {},
   "outputs": [
    {
     "data": {
      "text/plain": [
       "1048031"
      ]
     },
     "execution_count": 44,
     "metadata": {},
     "output_type": "execute_result"
    }
   ],
   "source": [
    "joined.count()"
   ]
  },
  {
   "cell_type": "code",
   "execution_count": 45,
   "id": "11221cc4",
   "metadata": {},
   "outputs": [
    {
     "data": {
      "text/plain": [
       "6197933"
      ]
     },
     "execution_count": 45,
     "metadata": {},
     "output_type": "execute_result"
    }
   ],
   "source": [
    "joined.select(f.explode('references')).count()"
   ]
  },
  {
   "cell_type": "markdown",
   "id": "e4820701",
   "metadata": {},
   "source": [
    "Сохраним этот датасет."
   ]
  },
  {
   "cell_type": "code",
   "execution_count": 47,
   "id": "2aa72bb9",
   "metadata": {},
   "outputs": [],
   "source": [
    "joined.write.parquet('fin_dataset.parquet')"
   ]
  },
  {
   "cell_type": "code",
   "execution_count": null,
   "id": "87291c73",
   "metadata": {},
   "outputs": [],
   "source": []
  },
  {
   "cell_type": "code",
   "execution_count": 48,
   "id": "4e6c3197",
   "metadata": {},
   "outputs": [],
   "source": [
    "fin_ds = spark.read.parquet('fin_dataset.parquet')"
   ]
  },
  {
   "cell_type": "code",
   "execution_count": 49,
   "id": "3ca038d7",
   "metadata": {},
   "outputs": [
    {
     "name": "stdout",
     "output_type": "stream",
     "text": [
      "root\n",
      " |-- old_id: string (nullable = true)\n",
      " |-- title: string (nullable = true)\n",
      " |-- abstract: string (nullable = true)\n",
      " |-- has_doi: boolean (nullable = true)\n",
      " |-- issn: string (nullable = true)\n",
      " |-- isbn: string (nullable = true)\n",
      " |-- article_len: integer (nullable = true)\n",
      " |-- n_citation: double (nullable = true)\n",
      " |-- lang: string (nullable = true)\n",
      " |-- year: double (nullable = true)\n",
      " |-- venue: struct (nullable = true)\n",
      " |    |-- name_d: string (nullable = true)\n",
      " |    |-- raw: string (nullable = true)\n",
      " |    |-- sid: string (nullable = true)\n",
      " |    |-- type: long (nullable = true)\n",
      " |    |-- old_id: string (nullable = true)\n",
      " |-- keywords: array (nullable = true)\n",
      " |    |-- element: string (containsNull = true)\n",
      " |-- fos: array (nullable = true)\n",
      " |    |-- element: string (containsNull = true)\n",
      " |-- authors: array (nullable = true)\n",
      " |    |-- element: struct (containsNull = true)\n",
      " |    |    |-- email: string (nullable = true)\n",
      " |    |    |-- gid: string (nullable = true)\n",
      " |    |    |-- name: string (nullable = true)\n",
      " |    |    |-- org: string (nullable = true)\n",
      " |    |    |-- orgid: string (nullable = true)\n",
      " |    |    |-- sid: string (nullable = true)\n",
      " |    |    |-- old_id: string (nullable = true)\n",
      " |    |    |-- orgs_count: integer (nullable = true)\n",
      " |-- references: array (nullable = true)\n",
      " |    |-- element: string (containsNull = true)\n",
      "\n"
     ]
    }
   ],
   "source": [
    "fin_ds.printSchema()"
   ]
  },
  {
   "cell_type": "code",
   "execution_count": 50,
   "id": "6dbdde93",
   "metadata": {},
   "outputs": [
    {
     "data": {
      "text/plain": [
       "1048031"
      ]
     },
     "execution_count": 50,
     "metadata": {},
     "output_type": "execute_result"
    }
   ],
   "source": [
    "fin_ds.count()"
   ]
  },
  {
   "cell_type": "code",
   "execution_count": null,
   "id": "32fc55c6",
   "metadata": {},
   "outputs": [],
   "source": []
  }
 ],
 "metadata": {
  "kernelspec": {
   "display_name": "Python 3 (ipykernel)",
   "language": "python",
   "name": "python3"
  },
  "language_info": {
   "codemirror_mode": {
    "name": "ipython",
    "version": 3
   },
   "file_extension": ".py",
   "mimetype": "text/x-python",
   "name": "python",
   "nbconvert_exporter": "python",
   "pygments_lexer": "ipython3",
   "version": "3.9.12"
  }
 },
 "nbformat": 4,
 "nbformat_minor": 5
}
