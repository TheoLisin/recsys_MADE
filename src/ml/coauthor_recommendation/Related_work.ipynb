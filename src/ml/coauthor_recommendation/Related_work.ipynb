{
 "cells": [
  {
   "cell_type": "code",
   "execution_count": 2,
   "id": "7a1c34e7",
   "metadata": {},
   "outputs": [],
   "source": [
    "from pyspark.sql import SparkSession, functions as F"
   ]
  },
  {
   "cell_type": "code",
   "execution_count": 3,
   "id": "6de7f915",
   "metadata": {},
   "outputs": [],
   "source": [
    "spark = SparkSession \\\n",
    "        .builder \\\n",
    "        .master('local[*]') \\\n",
    "        .appName(\"for recommender\") \\\n",
    "        .config(\"spark.driver.memory\", \"4g\") \\\n",
    "        .config(\"spark.executor.memory\", \"4g\") \\\n",
    "        .config(\"spark.driver.maxResultSize\", \"3g\") \\\n",
    "        .getOrCreate()"
   ]
  },
  {
   "cell_type": "code",
   "execution_count": 4,
   "id": "d5db6f98",
   "metadata": {},
   "outputs": [
    {
     "name": "stdout",
     "output_type": "stream",
     "text": [
      "root\n",
      " |-- gid: string (nullable = true)\n",
      " |-- sid: string (nullable = true)\n",
      " |-- name: string (nullable = true)\n",
      " |-- orgid: string (nullable = true)\n",
      " |-- orgs_count: integer (nullable = true)\n",
      " |-- email: string (nullable = true)\n",
      " |-- organisation: string (nullable = true)\n",
      " |-- id: integer (nullable = true)\n",
      " |-- id_user: integer (nullable = true)\n",
      "\n"
     ]
    }
   ],
   "source": [
    "authors = spark.read.parquet('./fin_authors.parquet/')\n",
    "authors.printSchema()"
   ]
  },
  {
   "cell_type": "code",
   "execution_count": 5,
   "id": "35488648",
   "metadata": {},
   "outputs": [
    {
     "name": "stdout",
     "output_type": "stream",
     "text": [
      "root\n",
      " |-- id_author: integer (nullable = true)\n",
      " |-- id_coauth: integer (nullable = true)\n",
      "\n"
     ]
    }
   ],
   "source": [
    "coauthors = spark.read.parquet('./fin_coauths.parquet/')\n",
    "coauthors.printSchema()"
   ]
  },
  {
   "cell_type": "code",
   "execution_count": 6,
   "id": "e89372b9",
   "metadata": {},
   "outputs": [
    {
     "name": "stdout",
     "output_type": "stream",
     "text": [
      "root\n",
      " |-- id: integer (nullable = true)\n",
      " |-- tags: string (nullable = true)\n",
      " |-- __index_level_0__: long (nullable = true)\n",
      "\n"
     ]
    }
   ],
   "source": [
    "tags = spark.read.parquet('./id_tags.parquet')\n",
    "tags.printSchema()"
   ]
  },
  {
   "cell_type": "code",
   "execution_count": 7,
   "id": "ea910179",
   "metadata": {},
   "outputs": [
    {
     "name": "stdout",
     "output_type": "stream",
     "text": [
      "root\n",
      " |-- id_author: integer (nullable = true)\n",
      " |-- id_article: integer (nullable = true)\n",
      "\n"
     ]
    }
   ],
   "source": [
    "auth_article = spark.read.parquet('./fin_auth_article.parquet/')\n",
    "auth_article.printSchema()"
   ]
  },
  {
   "cell_type": "code",
   "execution_count": 8,
   "id": "9b26bd7b",
   "metadata": {},
   "outputs": [
    {
     "ename": "SyntaxError",
     "evalue": "invalid syntax (<ipython-input-8-c8595ec638a7>, line 1)",
     "output_type": "error",
     "traceback": [
      "\u001b[0;36m  File \u001b[0;32m\"<ipython-input-8-c8595ec638a7>\"\u001b[0;36m, line \u001b[0;32m1\u001b[0m\n\u001b[0;31m    auth_article.\u001b[0m\n\u001b[0m                 ^\u001b[0m\n\u001b[0;31mSyntaxError\u001b[0m\u001b[0;31m:\u001b[0m invalid syntax\n"
     ]
    }
   ],
   "source": [
    "auth_article."
   ]
  },
  {
   "cell_type": "code",
   "execution_count": 9,
   "id": "a4b3c33c",
   "metadata": {},
   "outputs": [
    {
     "name": "stdout",
     "output_type": "stream",
     "text": [
      "+---------+-----+\n",
      "|id_author|count|\n",
      "+---------+-----+\n",
      "|   951934|  239|\n",
      "|   952532|  190|\n",
      "|   531679|  162|\n",
      "|   521932|  160|\n",
      "|   574013|  157|\n",
      "|   951203|  155|\n",
      "|   530113|  150|\n",
      "|   956989|  142|\n",
      "|   529762|  141|\n",
      "|   998379|  138|\n",
      "|   469894|  131|\n",
      "|   984235|  128|\n",
      "|   646624|  126|\n",
      "|   951375|  125|\n",
      "|   428802|  122|\n",
      "|   433651|  119|\n",
      "|   470343|  115|\n",
      "|   996987|  114|\n",
      "|   258450|  114|\n",
      "|   998918|  111|\n",
      "+---------+-----+\n",
      "only showing top 20 rows\n",
      "\n"
     ]
    }
   ],
   "source": [
    "auth_article.groupBy('id_author').count().orderBy(F.col('count').desc()).show()"
   ]
  },
  {
   "cell_type": "code",
   "execution_count": 42,
   "id": "1a2e4036",
   "metadata": {},
   "outputs": [],
   "source": [
    "author_tag = tags.where(F.col('tags') != '').join(\n",
    "    auth_article,\n",
    "    (auth_article.id_article == tags.id),\n",
    "    \"inner\"\n",
    ").select('tags', 'id_author').distinct()"
   ]
  },
  {
   "cell_type": "code",
   "execution_count": 43,
   "id": "a51e6752",
   "metadata": {},
   "outputs": [
    {
     "data": {
      "text/plain": [
       "29418687"
      ]
     },
     "execution_count": 43,
     "metadata": {},
     "output_type": "execute_result"
    }
   ],
   "source": [
    "author_tag.count()"
   ]
  },
  {
   "cell_type": "code",
   "execution_count": 48,
   "id": "48479d18",
   "metadata": {},
   "outputs": [],
   "source": [
    "auth_num_articles = auth_article \\\n",
    "                        .groupBy('id_author') \\\n",
    "                        .count() \\\n",
    "                        .orderBy(F.col('count').desc()) \\\n",
    "                        .withColumnRenamed('id_author', 'id_auth') \\\n",
    "                        .withColumnRenamed('count', 'num_articles') \\\n",
    "                        .distinct()"
   ]
  },
  {
   "cell_type": "code",
   "execution_count": 49,
   "id": "abbf3c29",
   "metadata": {},
   "outputs": [],
   "source": [
    "author_tag_nums = author_tag.join(\n",
    "    auth_num_articles,\n",
    "    auth_num_articles.id_auth == author_tag.id_author,\n",
    "    \"inner\"\n",
    ").drop('id_auth').orderBy(F.col('num_articles').desc())  # This is the last normalized version"
   ]
  },
  {
   "cell_type": "code",
   "execution_count": 50,
   "id": "37880783",
   "metadata": {},
   "outputs": [
    {
     "name": "stdout",
     "output_type": "stream",
     "text": [
      "+----------------+--------------------+\n",
      "|            tags|          author_ids|\n",
      "+----------------+--------------------+\n",
      "|          access|[951934, 952532, ...|\n",
      "|          affect|[393927, 2047937,...|\n",
      "|           agent|[951934, 952532, ...|\n",
      "|       algorithm|[662204, 960207, ...|\n",
      "|     alternative|[748586, 576419, ...|\n",
      "|             art|[1991181, 1975163...|\n",
      "|      assignment|[531679, 574013, ...|\n",
      "|        baseline|[530113, 535163, ...|\n",
      "|        becoming|[835313, 850156, ...|\n",
      "|          blocks|[1025245, 469366,...|\n",
      "|         bounded|[984505, 972606, ...|\n",
      "|       broadcast|[531679, 984235, ...|\n",
      "|         capable|[1029026, 351468,...|\n",
      "|           carlo|[365790, 381530, ...|\n",
      "|            cell|[36069, 94856, 12...|\n",
      "|       character|[60627, 115978, 1...|\n",
      "|characterization|[1725145, 251047,...|\n",
      "|        circuits|[529762, 951375, ...|\n",
      "|         classes|[506862, 599089, ...|\n",
      "|     classifiers|[42546, 143032, 2...|\n",
      "+----------------+--------------------+\n",
      "only showing top 20 rows\n",
      "\n"
     ]
    }
   ],
   "source": [
    "author_tag_nums.groupBy('tags').agg(F.collect_list(F.col('id_author')).alias('author_ids')).show()"
   ]
  },
  {
   "cell_type": "code",
   "execution_count": 51,
   "id": "689745e6",
   "metadata": {},
   "outputs": [],
   "source": [
    "denormalized_tag_author = author_tag_nums.groupBy('tags').agg(F.collect_list(F.col('id_author')).alias('author_ids'))"
   ]
  },
  {
   "cell_type": "code",
   "execution_count": 83,
   "id": "c85eda9f",
   "metadata": {},
   "outputs": [
    {
     "name": "stdout",
     "output_type": "stream",
     "text": [
      "root\n",
      " |-- tags: string (nullable = true)\n",
      " |-- author_ids: array (nullable = false)\n",
      " |    |-- element: integer (containsNull = false)\n",
      "\n"
     ]
    }
   ],
   "source": [
    "denormalized_tag_author.printSchema()"
   ]
  },
  {
   "cell_type": "code",
   "execution_count": 78,
   "id": "90135522",
   "metadata": {},
   "outputs": [
    {
     "data": {
      "text/plain": [
       "0    1016434\n",
       "0     844007\n",
       "0     289514\n",
       "0     680350\n",
       "0     438400\n",
       "      ...   \n",
       "0    2115335\n",
       "0    1629341\n",
       "0    1018343\n",
       "0    1531472\n",
       "0    2424261\n",
       "Name: author_ids, Length: 228, dtype: object"
      ]
     },
     "execution_count": 78,
     "metadata": {},
     "output_type": "execute_result"
    }
   ],
   "source": [
    "pd_df = denormalized_tag_author.where(F.col('tags') == 'art').toPandas()\n",
    "pd_df['author_ids'].explode()"
   ]
  },
  {
   "cell_type": "code",
   "execution_count": 82,
   "id": "48eaf8ff",
   "metadata": {},
   "outputs": [
    {
     "name": "stdout",
     "output_type": "stream",
     "text": [
      "+--------------+---------+------------+\n",
      "|          tags|id_author|num_articles|\n",
      "+--------------+---------+------------+\n",
      "|classification|  1016434|          57|\n",
      "|        fading|  1016434|          57|\n",
      "|         radio|  1016434|          57|\n",
      "|    ubiquitous|  1016434|          57|\n",
      "|           snr|  1016434|          57|\n",
      "|     broadcast|  1016434|          57|\n",
      "|     detection|  1016434|          57|\n",
      "|   cooperative|  1016434|          57|\n",
      "|     transform|  1016434|          57|\n",
      "|        traces|  1016434|          57|\n",
      "|  technologies|  1016434|          57|\n",
      "|    classifier|  1016434|          57|\n",
      "|         clock|  1016434|          57|\n",
      "|      students|  1016434|          57|\n",
      "|   predictions|  1016434|          57|\n",
      "|      ensemble|  1016434|          57|\n",
      "|      delivery|  1016434|          57|\n",
      "|        filter|  1016434|          57|\n",
      "|        images|  1016434|          57|\n",
      "|       problem|  1016434|          57|\n",
      "|      learning|  1016434|          57|\n",
      "|  coefficients|  1016434|          57|\n",
      "|         video|  1016434|          57|\n",
      "|     diversity|  1016434|          57|\n",
      "|          time|  1016434|          57|\n",
      "|           use|  1016434|          57|\n",
      "|        buffer|  1016434|          57|\n",
      "|      classify|  1016434|          57|\n",
      "|   compression|  1016434|          57|\n",
      "|         flows|  1016434|          57|\n",
      "|        mobile|  1016434|          57|\n",
      "|      services|  1016434|          57|\n",
      "|          cmos|  1016434|          57|\n",
      "|       circuit|  1016434|          57|\n",
      "|      capacity|  1016434|          57|\n",
      "|identification|  1016434|          57|\n",
      "|generalization|  1016434|          57|\n",
      "|         reuse|  1016434|          57|\n",
      "|       medical|  1016434|          57|\n",
      "|       student|  1016434|          57|\n",
      "|        source|  1016434|          57|\n",
      "|          base|  1016434|          57|\n",
      "|        system|  1016434|          57|\n",
      "|       streams|  1016434|          57|\n",
      "|        server|  1016434|          57|\n",
      "|         power|  1016434|          57|\n",
      "|        health|  1016434|          57|\n",
      "|      discrete|  1016434|          57|\n",
      "|       systems|  1016434|          57|\n",
      "|           hop|  1016434|          57|\n",
      "|          flow|  1016434|          57|\n",
      "|        course|  1016434|          57|\n",
      "|       quality|  1016434|          57|\n",
      "|       control|  1016434|          57|\n",
      "|         cells|  1016434|          57|\n",
      "|       station|  1016434|          57|\n",
      "|       devices|  1016434|          57|\n",
      "|      transmit|  1016434|          57|\n",
      "|            db|  1016434|          57|\n",
      "| decomposition|  1016434|          57|\n",
      "|       forward|  1016434|          57|\n",
      "|   correlation|  1016434|          57|\n",
      "|          cell|  1016434|          57|\n",
      "|    multimedia|  1016434|          57|\n",
      "|  applications|  1016434|          57|\n",
      "|     streaming|  1016434|          57|\n",
      "|     treatment|  1016434|          57|\n",
      "|   destination|  1016434|          57|\n",
      "|       patient|  1016434|          57|\n",
      "|      receiver|  1016434|          57|\n",
      "|     bandwidth|  1016434|          57|\n",
      "|       wavelet|  1016434|          57|\n",
      "|   transmitter|  1016434|          57|\n",
      "|  architecture|  1016434|          57|\n",
      "|          care|  1016434|          57|\n",
      "|        design|  1016434|          57|\n",
      "|        client|  1016434|          57|\n",
      "|         users|  1016434|          57|\n",
      "|       traffic|  1016434|          57|\n",
      "|   information|  1016434|          57|\n",
      "|         model|  1016434|          57|\n",
      "|         relay|  1016434|          57|\n",
      "|          data|  1016434|          57|\n",
      "|   classifiers|  1016434|          57|\n",
      "|         image|  1016434|          57|\n",
      "|        policy|  1016434|          57|\n",
      "|          chip|  1016434|          57|\n",
      "|      coverage|  1016434|          57|\n",
      "|       channel|  1016434|          57|\n",
      "|   utilization|  1016434|          57|\n",
      "|        analog|  1016434|          57|\n",
      "|     knowledge|  1016434|          57|\n",
      "|   consumption|  1016434|          57|\n",
      "|      policies|  1016434|          57|\n",
      "|    activities|  1016434|          57|\n",
      "|  interference|  1016434|          57|\n",
      "|    attributes|  1016434|          57|\n",
      "|         learn|  1016434|          57|\n",
      "|approximations|  1016434|          57|\n",
      "|      encoding|  1016434|          57|\n",
      "|         plane|  1016434|          57|\n",
      "|     providers|  1016434|          57|\n",
      "|      vehicles|  1016434|          57|\n",
      "|       sensors|  1016434|          57|\n",
      "|      oriented|  1016434|          57|\n",
      "|           art|  1016434|          57|\n",
      "|        camera|  1016434|          57|\n",
      "|           map|  1016434|          57|\n",
      "|   observation|  1016434|          57|\n",
      "|        sensor|  1016434|          57|\n",
      "|           bit|  1016434|          57|\n",
      "|     awareness|  1016434|          57|\n",
      "|    autonomous|  1016434|          57|\n",
      "|         human|  1016434|          57|\n",
      "|         rough|  1016434|          57|\n",
      "|    navigation|  1016434|          57|\n",
      "|        vision|  1016434|          57|\n",
      "|         frame|  1016434|          57|\n",
      "|      decision|  1016434|          57|\n",
      "|      deployed|  1016434|          57|\n",
      "|        theory|  1016434|          57|\n",
      "|    appearance|  1016434|          57|\n",
      "|       spatial|  1016434|          57|\n",
      "|          mode|  1016434|          57|\n",
      "|    monitoring|  1016434|          57|\n",
      "|        motion|  1016434|          57|\n",
      "|         fuzzy|  1016434|          57|\n",
      "|   orientation|  1016434|          57|\n",
      "|           web|  1016434|          57|\n",
      "|   calibration|  1016434|          57|\n",
      "|       context|  1016434|          57|\n",
      "|       cameras|  1016434|          57|\n",
      "|         parts|  1016434|          57|\n",
      "|          pose|  1016434|          57|\n",
      "|   integration|  1016434|          57|\n",
      "|        frames|  1016434|          57|\n",
      "|      semantic|  1016434|          57|\n",
      "|      business|  1016434|          57|\n",
      "|     computing|  1016434|          57|\n",
      "|           qos|  1016434|          57|\n",
      "| heterogeneous|  1016434|          57|\n",
      "|      position|  1016434|          57|\n",
      "|         aware|  1016434|          57|\n",
      "|       service|  1016434|          57|\n",
      "|   composition|  1016434|          57|\n",
      "|      contexts|  1016434|          57|\n",
      "|          sets|  1016434|          57|\n",
      "|       dataset|  1016434|          57|\n",
      "|        coding|  1016434|          57|\n",
      "|          home|  1016434|          57|\n",
      "|     attribute|  1016434|          57|\n",
      "|     discovery|  1016434|          57|\n",
      "|       vehicle|  1016434|          57|\n",
      "|     reduction|  1016434|          57|\n",
      "|  localization|  1016434|          57|\n",
      "|reconstruction|  1016434|          57|\n",
      "|         scene|  1016434|          57|\n",
      "|         block|  1016434|          57|\n",
      "|    projection|  1016434|          57|\n",
      "|          body|  1016434|          57|\n",
      "|    distortion|  1016434|          57|\n",
      "|         smart|  1016434|          57|\n",
      "| approximation|  1016434|          57|\n",
      "|   challenging|  1016434|          57|\n",
      "|    estimation|  1016434|          57|\n",
      "|      patients|  1016434|          57|\n",
      "|      cellular|  1016434|          57|\n",
      "|    throughput|  1016434|          57|\n",
      "|        packet|  1016434|          57|\n",
      "|         pixel|  1016434|          57|\n",
      "|          peer|  1016434|          57|\n",
      "|    allocation|  1016434|          57|\n",
      "|    scheduling|  1016434|          57|\n",
      "| architectures|  1016434|          57|\n",
      "|       packets|  1016434|          57|\n",
      "|  transmission|  1016434|          57|\n",
      "|     education|  1016434|          57|\n",
      "|      spectral|  1016434|          57|\n",
      "|       voltage|  1016434|          57|\n",
      "|    resolution|  1016434|          57|\n",
      "|        fusion|  1016434|          57|\n",
      "|        stream|  1016434|          57|\n",
      "|       dataset|   844007|          49|\n",
      "|       queries|   844007|          49|\n",
      "|          time|   844007|          49|\n",
      "|        images|   844007|          49|\n",
      "|        person|   844007|          49|\n",
      "|           low|   844007|          49|\n",
      "|        kernel|   844007|          49|\n",
      "|          pose|   844007|          49|\n",
      "|  applications|   844007|          49|\n",
      "|    resolution|   844007|          49|\n",
      "|      features|   844007|          49|\n",
      "|    appearance|   844007|          49|\n",
      "|    extraction|   844007|          49|\n",
      "|       problem|   844007|          49|\n",
      "|    preserving|   844007|          49|\n",
      "|       details|   844007|          49|\n",
      "|   dimensional|   844007|          49|\n",
      "|        camera|   844007|          49|\n",
      "+--------------+---------+------------+\n",
      "only showing top 200 rows\n",
      "\n"
     ]
    }
   ],
   "source": [
    "author_tag_nums.where(F.col('id_author').isin([1016434, 844007, 289514, 680350])).show(200)"
   ]
  },
  {
   "cell_type": "markdown",
   "id": "45b9003c",
   "metadata": {},
   "source": [
    "Seems that the list is sorted as needed. That's good, but I have some suspicions whether this will hold..."
   ]
  },
  {
   "cell_type": "markdown",
   "id": "d768aef2",
   "metadata": {},
   "source": [
    "Now for tag-authors table"
   ]
  },
  {
   "cell_type": "code",
   "execution_count": 85,
   "id": "291f94ef",
   "metadata": {},
   "outputs": [
    {
     "data": {
      "text/plain": [
       "29418687"
      ]
     },
     "execution_count": 85,
     "metadata": {},
     "output_type": "execute_result"
    }
   ],
   "source": [
    "author_tag_nums.count()"
   ]
  },
  {
   "cell_type": "code",
   "execution_count": 150,
   "id": "cf04037f",
   "metadata": {},
   "outputs": [],
   "source": [
    "def get_recommendations(author_id: int):\n",
    "    tags = author_tag_nums.where(F.col('id_author') == author_id).select('tags').toPandas()['tags'].tolist()\n",
    "    local_authors = denormalized_tag_author \\\n",
    "                        .where(F.col('tags').isin(tags)) \\\n",
    "                        .select(F.slice(F.col('author_ids'), 1, 10).alias('author_ids')) \\\n",
    "                        .select(F.explode('author_ids'))\n",
    "    return local_authors \\\n",
    "                .where(F.col('col') != author_id) \\\n",
    "                .sample(False, 1.0) \\\n",
    "                .limit(10) \\\n",
    "                .toPandas() \\\n",
    "                .rename(columns={'col': 'id_author'})"
   ]
  },
  {
   "cell_type": "code",
   "execution_count": 151,
   "id": "13c65447",
   "metadata": {},
   "outputs": [],
   "source": [
    "recs = get_recommendations(844007)"
   ]
  },
  {
   "cell_type": "code",
   "execution_count": 152,
   "id": "a95f755d",
   "metadata": {
    "scrolled": true
   },
   "outputs": [
    {
     "data": {
      "text/html": [
       "<div>\n",
       "<style scoped>\n",
       "    .dataframe tbody tr th:only-of-type {\n",
       "        vertical-align: middle;\n",
       "    }\n",
       "\n",
       "    .dataframe tbody tr th {\n",
       "        vertical-align: top;\n",
       "    }\n",
       "\n",
       "    .dataframe thead th {\n",
       "        text-align: right;\n",
       "    }\n",
       "</style>\n",
       "<table border=\"1\" class=\"dataframe\">\n",
       "  <thead>\n",
       "    <tr style=\"text-align: right;\">\n",
       "      <th></th>\n",
       "      <th>0</th>\n",
       "      <th>1</th>\n",
       "      <th>2</th>\n",
       "      <th>3</th>\n",
       "      <th>4</th>\n",
       "      <th>5</th>\n",
       "      <th>6</th>\n",
       "      <th>7</th>\n",
       "      <th>8</th>\n",
       "      <th>9</th>\n",
       "    </tr>\n",
       "  </thead>\n",
       "  <tbody>\n",
       "    <tr>\n",
       "      <th>id_author</th>\n",
       "      <td>1016434</td>\n",
       "      <td>289514</td>\n",
       "      <td>680350</td>\n",
       "      <td>438400</td>\n",
       "      <td>919052</td>\n",
       "      <td>739584</td>\n",
       "      <td>823727</td>\n",
       "      <td>2268485</td>\n",
       "      <td>683367</td>\n",
       "      <td>951375</td>\n",
       "    </tr>\n",
       "  </tbody>\n",
       "</table>\n",
       "</div>"
      ],
      "text/plain": [
       "                 0       1       2       3       4       5       6        7  \\\n",
       "id_author  1016434  289514  680350  438400  919052  739584  823727  2268485   \n",
       "\n",
       "                8       9  \n",
       "id_author  683367  951375  "
      ]
     },
     "execution_count": 152,
     "metadata": {},
     "output_type": "execute_result"
    }
   ],
   "source": [
    "recs.T"
   ]
  },
  {
   "cell_type": "code",
   "execution_count": 153,
   "id": "70d7a07d",
   "metadata": {},
   "outputs": [],
   "source": [
    "pd_df = author_tag_nums.where(F.col('id_author').isin(recs['id_author'].tolist())).dropDuplicates(['id_author']).toPandas()"
   ]
  },
  {
   "cell_type": "code",
   "execution_count": 154,
   "id": "a806bfd2",
   "metadata": {},
   "outputs": [
    {
     "data": {
      "text/html": [
       "<div>\n",
       "<style scoped>\n",
       "    .dataframe tbody tr th:only-of-type {\n",
       "        vertical-align: middle;\n",
       "    }\n",
       "\n",
       "    .dataframe tbody tr th {\n",
       "        vertical-align: top;\n",
       "    }\n",
       "\n",
       "    .dataframe thead th {\n",
       "        text-align: right;\n",
       "    }\n",
       "</style>\n",
       "<table border=\"1\" class=\"dataframe\">\n",
       "  <thead>\n",
       "    <tr style=\"text-align: right;\">\n",
       "      <th></th>\n",
       "      <th>id_author</th>\n",
       "      <th>tags</th>\n",
       "      <th>num_articles</th>\n",
       "    </tr>\n",
       "  </thead>\n",
       "  <tbody>\n",
       "    <tr>\n",
       "      <th>0</th>\n",
       "      <td>1016434</td>\n",
       "      <td>identification</td>\n",
       "      <td>57</td>\n",
       "    </tr>\n",
       "    <tr>\n",
       "      <th>1</th>\n",
       "      <td>289514</td>\n",
       "      <td>task</td>\n",
       "      <td>44</td>\n",
       "    </tr>\n",
       "    <tr>\n",
       "      <th>2</th>\n",
       "      <td>680350</td>\n",
       "      <td>consumption</td>\n",
       "      <td>35</td>\n",
       "    </tr>\n",
       "    <tr>\n",
       "      <th>3</th>\n",
       "      <td>438400</td>\n",
       "      <td>recovery</td>\n",
       "      <td>31</td>\n",
       "    </tr>\n",
       "    <tr>\n",
       "      <th>4</th>\n",
       "      <td>919052</td>\n",
       "      <td>head</td>\n",
       "      <td>28</td>\n",
       "    </tr>\n",
       "    <tr>\n",
       "      <th>5</th>\n",
       "      <td>739584</td>\n",
       "      <td>decoding</td>\n",
       "      <td>24</td>\n",
       "    </tr>\n",
       "    <tr>\n",
       "      <th>6</th>\n",
       "      <td>823727</td>\n",
       "      <td>expressions</td>\n",
       "      <td>22</td>\n",
       "    </tr>\n",
       "    <tr>\n",
       "      <th>7</th>\n",
       "      <td>2268485</td>\n",
       "      <td>data</td>\n",
       "      <td>18</td>\n",
       "    </tr>\n",
       "    <tr>\n",
       "      <th>8</th>\n",
       "      <td>683367</td>\n",
       "      <td>interaction</td>\n",
       "      <td>18</td>\n",
       "    </tr>\n",
       "    <tr>\n",
       "      <th>9</th>\n",
       "      <td>951375</td>\n",
       "      <td>prediction</td>\n",
       "      <td>125</td>\n",
       "    </tr>\n",
       "  </tbody>\n",
       "</table>\n",
       "</div>"
      ],
      "text/plain": [
       "   id_author            tags  num_articles\n",
       "0    1016434  identification            57\n",
       "1     289514            task            44\n",
       "2     680350     consumption            35\n",
       "3     438400        recovery            31\n",
       "4     919052            head            28\n",
       "5     739584        decoding            24\n",
       "6     823727     expressions            22\n",
       "7    2268485            data            18\n",
       "8     683367     interaction            18\n",
       "9     951375      prediction           125"
      ]
     },
     "execution_count": 154,
     "metadata": {},
     "output_type": "execute_result"
    }
   ],
   "source": [
    "recs.merge(pd_df, on='id_author')"
   ]
  },
  {
   "cell_type": "code",
   "execution_count": 144,
   "id": "3a40e45a",
   "metadata": {},
   "outputs": [
    {
     "data": {
      "text/html": [
       "<div>\n",
       "<style scoped>\n",
       "    .dataframe tbody tr th:only-of-type {\n",
       "        vertical-align: middle;\n",
       "    }\n",
       "\n",
       "    .dataframe tbody tr th {\n",
       "        vertical-align: top;\n",
       "    }\n",
       "\n",
       "    .dataframe thead th {\n",
       "        text-align: right;\n",
       "    }\n",
       "</style>\n",
       "<table border=\"1\" class=\"dataframe\">\n",
       "  <thead>\n",
       "    <tr style=\"text-align: right;\">\n",
       "      <th></th>\n",
       "      <th>id_author</th>\n",
       "      <th>tags</th>\n",
       "      <th>num_articles</th>\n",
       "    </tr>\n",
       "  </thead>\n",
       "  <tbody>\n",
       "    <tr>\n",
       "      <th>0</th>\n",
       "      <td>844007</td>\n",
       "      <td>temporal</td>\n",
       "      <td>49</td>\n",
       "    </tr>\n",
       "    <tr>\n",
       "      <th>1</th>\n",
       "      <td>289514</td>\n",
       "      <td>task</td>\n",
       "      <td>44</td>\n",
       "    </tr>\n",
       "    <tr>\n",
       "      <th>2</th>\n",
       "      <td>680350</td>\n",
       "      <td>consumption</td>\n",
       "      <td>35</td>\n",
       "    </tr>\n",
       "    <tr>\n",
       "      <th>3</th>\n",
       "      <td>438400</td>\n",
       "      <td>recovery</td>\n",
       "      <td>31</td>\n",
       "    </tr>\n",
       "    <tr>\n",
       "      <th>4</th>\n",
       "      <td>919052</td>\n",
       "      <td>head</td>\n",
       "      <td>28</td>\n",
       "    </tr>\n",
       "    <tr>\n",
       "      <th>5</th>\n",
       "      <td>739584</td>\n",
       "      <td>decoding</td>\n",
       "      <td>24</td>\n",
       "    </tr>\n",
       "    <tr>\n",
       "      <th>6</th>\n",
       "      <td>823727</td>\n",
       "      <td>expressions</td>\n",
       "      <td>22</td>\n",
       "    </tr>\n",
       "    <tr>\n",
       "      <th>7</th>\n",
       "      <td>2268485</td>\n",
       "      <td>data</td>\n",
       "      <td>18</td>\n",
       "    </tr>\n",
       "    <tr>\n",
       "      <th>8</th>\n",
       "      <td>683367</td>\n",
       "      <td>interaction</td>\n",
       "      <td>18</td>\n",
       "    </tr>\n",
       "    <tr>\n",
       "      <th>9</th>\n",
       "      <td>863939</td>\n",
       "      <td>systems</td>\n",
       "      <td>16</td>\n",
       "    </tr>\n",
       "  </tbody>\n",
       "</table>\n",
       "</div>"
      ],
      "text/plain": [
       "   id_author         tags  num_articles\n",
       "0     844007     temporal            49\n",
       "1     289514         task            44\n",
       "2     680350  consumption            35\n",
       "3     438400     recovery            31\n",
       "4     919052         head            28\n",
       "5     739584     decoding            24\n",
       "6     823727  expressions            22\n",
       "7    2268485         data            18\n",
       "8     683367  interaction            18\n",
       "9     863939      systems            16"
      ]
     },
     "execution_count": 144,
     "metadata": {},
     "output_type": "execute_result"
    }
   ],
   "source": [
    "recs.merge(pd_df, on='id_author')"
   ]
  },
  {
   "cell_type": "code",
   "execution_count": 124,
   "id": "833dcb70",
   "metadata": {},
   "outputs": [
    {
     "data": {
      "text/plain": [
       "0     289514\n",
       "1     438400\n",
       "2     680350\n",
       "3     683367\n",
       "4     739584\n",
       "5     823727\n",
       "6     844007\n",
       "7     863939\n",
       "8     919052\n",
       "9    2268485\n",
       "Name: id_author, dtype: int32"
      ]
     },
     "execution_count": 124,
     "metadata": {},
     "output_type": "execute_result"
    }
   ],
   "source": [
    "p"
   ]
  },
  {
   "cell_type": "code",
   "execution_count": 157,
   "id": "08c6aaab",
   "metadata": {},
   "outputs": [],
   "source": [
    "author_tag_nums.write.parquet('./author_tag_articlenum.parquet')"
   ]
  },
  {
   "cell_type": "code",
   "execution_count": 158,
   "id": "1d6b263f",
   "metadata": {},
   "outputs": [],
   "source": [
    "denormalized_tag_author.write.parquet('./denormalized_tag_authors.parquet')"
   ]
  },
  {
   "cell_type": "code",
   "execution_count": null,
   "id": "4dd2cce9",
   "metadata": {},
   "outputs": [],
   "source": []
  }
 ],
 "metadata": {
  "kernelspec": {
   "display_name": "Python 3",
   "language": "python",
   "name": "python3"
  },
  "language_info": {
   "codemirror_mode": {
    "name": "ipython",
    "version": 3
   },
   "file_extension": ".py",
   "mimetype": "text/x-python",
   "name": "python",
   "nbconvert_exporter": "python",
   "pygments_lexer": "ipython3",
   "version": "3.10.4"
  }
 },
 "nbformat": 4,
 "nbformat_minor": 5
}
