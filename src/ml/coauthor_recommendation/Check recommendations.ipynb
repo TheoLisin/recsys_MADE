{
 "cells": [
  {
   "cell_type": "code",
   "execution_count": 1,
   "id": "ef9a13d5",
   "metadata": {},
   "outputs": [],
   "source": [
    "from tqdm import tqdm\n",
    "\n",
    "import numpy as np\n",
    "import pandas as pd\n",
    "\n",
    "import matplotlib.pyplot as plt\n",
    "import seaborn as sns\n",
    "plt.rcParams['figure.figsize'] = (26, 8)"
   ]
  },
  {
   "cell_type": "code",
   "execution_count": 2,
   "id": "1b6a1759",
   "metadata": {},
   "outputs": [],
   "source": [
    "from pyspark.sql import SparkSession, functions as F"
   ]
  },
  {
   "cell_type": "code",
   "execution_count": 3,
   "id": "b34ae909",
   "metadata": {},
   "outputs": [],
   "source": [
    "spark = SparkSession \\\n",
    "        .builder \\\n",
    "        .master('local[*]') \\\n",
    "        .appName(\"for recommender\") \\\n",
    "        .config(\"spark.driver.memory\", \"4g\") \\\n",
    "        .config(\"spark.executor.memory\", \"4g\") \\\n",
    "        .config(\"spark.driver.maxResultSize\", \"3g\") \\\n",
    "        .getOrCreate()"
   ]
  },
  {
   "cell_type": "code",
   "execution_count": 4,
   "id": "e3b26951",
   "metadata": {},
   "outputs": [],
   "source": [
    "author_tag_nums = spark.read.parquet('./author_tag_articlenum.parquet/')  # Path to the given parquet\n",
    "denormalized_tag_author = spark.read.parquet('./denormalized_tag_authors.parquet/')  # Path to the given parquet"
   ]
  },
  {
   "cell_type": "code",
   "execution_count": 33,
   "id": "1bc2f1dd",
   "metadata": {},
   "outputs": [],
   "source": [
    "def get_recommendations(author_id: int):\n",
    "    tags = author_tag_nums.where(F.col('id_author') == author_id).select('tags').toPandas()['tags'].tolist()\n",
    "    local_authors = denormalized_tag_author \\\n",
    "                        .where(F.col('tags').isin(tags)) \\\n",
    "                        .select(F.slice(F.col('author_ids'), 1, 10).alias('author_ids')) \\\n",
    "                        .select(F.explode('author_ids'))\n",
    "    return local_authors \\\n",
    "                .where(F.col('col') != author_id) \\\n",
    "                .distinct() \\\n",
    "                .limit(10) \\\n",
    "                .toPandas() \\\n",
    "                .rename(columns={'col': 'id_author'})"
   ]
  },
  {
   "cell_type": "markdown",
   "id": "b9095851",
   "metadata": {},
   "source": [
    "### Metric: \n",
    "$$\n",
    "Jaccard(X, Recs(X)) = \\frac{|X \\wedge Recs(X)|}{|X \\lor Recs(X)|} = \\frac{\\sum_{T \\in Recs(X)} |tags(X) \\wedge tags(T)|}{\\sum_{T \\in Recs(X)} |tags(X) \\lor tags(T)|}\n",
    "$$"
   ]
  },
  {
   "cell_type": "code",
   "execution_count": 76,
   "id": "9a961e99",
   "metadata": {},
   "outputs": [],
   "source": [
    "recs = get_recommendations(469894)"
   ]
  },
  {
   "cell_type": "code",
   "execution_count": 77,
   "id": "51bc760d",
   "metadata": {},
   "outputs": [
    {
     "data": {
      "text/html": [
       "<div>\n",
       "<style scoped>\n",
       "    .dataframe tbody tr th:only-of-type {\n",
       "        vertical-align: middle;\n",
       "    }\n",
       "\n",
       "    .dataframe tbody tr th {\n",
       "        vertical-align: top;\n",
       "    }\n",
       "\n",
       "    .dataframe thead th {\n",
       "        text-align: right;\n",
       "    }\n",
       "</style>\n",
       "<table border=\"1\" class=\"dataframe\">\n",
       "  <thead>\n",
       "    <tr style=\"text-align: right;\">\n",
       "      <th></th>\n",
       "      <th>id_author</th>\n",
       "    </tr>\n",
       "  </thead>\n",
       "  <tbody>\n",
       "    <tr>\n",
       "      <th>0</th>\n",
       "      <td>530113</td>\n",
       "    </tr>\n",
       "    <tr>\n",
       "      <th>1</th>\n",
       "      <td>521932</td>\n",
       "    </tr>\n",
       "    <tr>\n",
       "      <th>2</th>\n",
       "      <td>1025474</td>\n",
       "    </tr>\n",
       "    <tr>\n",
       "      <th>3</th>\n",
       "      <td>542855</td>\n",
       "    </tr>\n",
       "    <tr>\n",
       "      <th>4</th>\n",
       "      <td>428925</td>\n",
       "    </tr>\n",
       "    <tr>\n",
       "      <th>5</th>\n",
       "      <td>952532</td>\n",
       "    </tr>\n",
       "    <tr>\n",
       "      <th>6</th>\n",
       "      <td>998320</td>\n",
       "    </tr>\n",
       "    <tr>\n",
       "      <th>7</th>\n",
       "      <td>425451</td>\n",
       "    </tr>\n",
       "    <tr>\n",
       "      <th>8</th>\n",
       "      <td>421139</td>\n",
       "    </tr>\n",
       "    <tr>\n",
       "      <th>9</th>\n",
       "      <td>428802</td>\n",
       "    </tr>\n",
       "  </tbody>\n",
       "</table>\n",
       "</div>"
      ],
      "text/plain": [
       "   id_author\n",
       "0     530113\n",
       "1     521932\n",
       "2    1025474\n",
       "3     542855\n",
       "4     428925\n",
       "5     952532\n",
       "6     998320\n",
       "7     425451\n",
       "8     421139\n",
       "9     428802"
      ]
     },
     "execution_count": 77,
     "metadata": {},
     "output_type": "execute_result"
    }
   ],
   "source": [
    "recs"
   ]
  },
  {
   "cell_type": "code",
   "execution_count": 7,
   "id": "29871066",
   "metadata": {},
   "outputs": [],
   "source": [
    "pd_df = author_tag_nums.where(F.col('id_author').isin(recs['id_author'].tolist())).dropDuplicates(['id_author']).toPandas()"
   ]
  },
  {
   "cell_type": "code",
   "execution_count": 8,
   "id": "127bd098",
   "metadata": {},
   "outputs": [
    {
     "data": {
      "text/html": [
       "<div>\n",
       "<style scoped>\n",
       "    .dataframe tbody tr th:only-of-type {\n",
       "        vertical-align: middle;\n",
       "    }\n",
       "\n",
       "    .dataframe tbody tr th {\n",
       "        vertical-align: top;\n",
       "    }\n",
       "\n",
       "    .dataframe thead th {\n",
       "        text-align: right;\n",
       "    }\n",
       "</style>\n",
       "<table border=\"1\" class=\"dataframe\">\n",
       "  <thead>\n",
       "    <tr style=\"text-align: right;\">\n",
       "      <th></th>\n",
       "      <th>id_author</th>\n",
       "      <th>tags</th>\n",
       "      <th>num_articles</th>\n",
       "    </tr>\n",
       "  </thead>\n",
       "  <tbody>\n",
       "    <tr>\n",
       "      <th>0</th>\n",
       "      <td>530113</td>\n",
       "      <td>angle</td>\n",
       "      <td>150</td>\n",
       "    </tr>\n",
       "    <tr>\n",
       "      <th>1</th>\n",
       "      <td>521932</td>\n",
       "      <td>client</td>\n",
       "      <td>160</td>\n",
       "    </tr>\n",
       "    <tr>\n",
       "      <th>2</th>\n",
       "      <td>1025474</td>\n",
       "      <td>agents</td>\n",
       "      <td>108</td>\n",
       "    </tr>\n",
       "    <tr>\n",
       "      <th>3</th>\n",
       "      <td>542855</td>\n",
       "      <td>document</td>\n",
       "      <td>59</td>\n",
       "    </tr>\n",
       "    <tr>\n",
       "      <th>4</th>\n",
       "      <td>428925</td>\n",
       "      <td>alignment</td>\n",
       "      <td>81</td>\n",
       "    </tr>\n",
       "    <tr>\n",
       "      <th>5</th>\n",
       "      <td>952532</td>\n",
       "      <td>bits</td>\n",
       "      <td>190</td>\n",
       "    </tr>\n",
       "    <tr>\n",
       "      <th>6</th>\n",
       "      <td>998320</td>\n",
       "      <td>check</td>\n",
       "      <td>86</td>\n",
       "    </tr>\n",
       "    <tr>\n",
       "      <th>7</th>\n",
       "      <td>425451</td>\n",
       "      <td>activities</td>\n",
       "      <td>80</td>\n",
       "    </tr>\n",
       "    <tr>\n",
       "      <th>8</th>\n",
       "      <td>421139</td>\n",
       "      <td>architectures</td>\n",
       "      <td>91</td>\n",
       "    </tr>\n",
       "    <tr>\n",
       "      <th>9</th>\n",
       "      <td>428802</td>\n",
       "      <td>bandwidth</td>\n",
       "      <td>122</td>\n",
       "    </tr>\n",
       "  </tbody>\n",
       "</table>\n",
       "</div>"
      ],
      "text/plain": [
       "   id_author           tags  num_articles\n",
       "0     530113          angle           150\n",
       "1     521932         client           160\n",
       "2    1025474         agents           108\n",
       "3     542855       document            59\n",
       "4     428925      alignment            81\n",
       "5     952532           bits           190\n",
       "6     998320          check            86\n",
       "7     425451     activities            80\n",
       "8     421139  architectures            91\n",
       "9     428802      bandwidth           122"
      ]
     },
     "execution_count": 8,
     "metadata": {},
     "output_type": "execute_result"
    }
   ],
   "source": [
    "recs.merge(pd_df, on='id_author')"
   ]
  },
  {
   "cell_type": "code",
   "execution_count": 8,
   "id": "74118ba9",
   "metadata": {},
   "outputs": [],
   "source": [
    "df = spark.read.parquet('./test.parquet/')\n",
    "# test_auth = df.select(F.explode('authors.name'))"
   ]
  },
  {
   "cell_type": "code",
   "execution_count": 9,
   "id": "990c1d54",
   "metadata": {},
   "outputs": [],
   "source": [
    "fin_articles = spark.read.parquet('./fin_articles.parquet/')"
   ]
  },
  {
   "cell_type": "code",
   "execution_count": 10,
   "id": "eb6c079d",
   "metadata": {},
   "outputs": [
    {
     "name": "stderr",
     "output_type": "stream",
     "text": [
      "/home/ippk93/anaconda3/envs/made_1/lib/python3.10/site-packages/pyspark/sql/dataframe.py:3313: FutureWarning: DataFrame.to_pandas_on_spark is deprecated. Use DataFrame.pandas_api instead.\n",
      "  warnings.warn(\n",
      "WARNING:root:'PYARROW_IGNORE_TIMEZONE' environment variable was not set. It is required to set this environment variable to '1' in both driver and executor sides if you use pyarrow>=2.0.0. pandas-on-Spark will set it for you but it does not work if there is a Spark context already launched.\n"
     ]
    },
    {
     "data": {
      "text/html": [
       "<div>\n",
       "<style scoped>\n",
       "    .dataframe tbody tr th:only-of-type {\n",
       "        vertical-align: middle;\n",
       "    }\n",
       "\n",
       "    .dataframe tbody tr th {\n",
       "        vertical-align: top;\n",
       "    }\n",
       "\n",
       "    .dataframe thead th {\n",
       "        text-align: right;\n",
       "    }\n",
       "</style>\n",
       "<table border=\"1\" class=\"dataframe\">\n",
       "  <thead>\n",
       "    <tr style=\"text-align: right;\">\n",
       "      <th></th>\n",
       "      <th>id</th>\n",
       "      <th>old_id</th>\n",
       "      <th>title</th>\n",
       "      <th>year</th>\n",
       "      <th>n_citation</th>\n",
       "      <th>article_len</th>\n",
       "      <th>lang</th>\n",
       "      <th>issn</th>\n",
       "      <th>keywords</th>\n",
       "      <th>isbn</th>\n",
       "      <th>abstract</th>\n",
       "      <th>has_doi</th>\n",
       "      <th>fos</th>\n",
       "      <th>id_venue</th>\n",
       "    </tr>\n",
       "  </thead>\n",
       "  <tbody>\n",
       "    <tr>\n",
       "      <th>0</th>\n",
       "      <td>6</td>\n",
       "      <td>53e997ddb7602d9701fd7420</td>\n",
       "      <td>Minimum sum multicoloring on the edges of trees</td>\n",
       "      <td>2006.0</td>\n",
       "      <td>15.0</td>\n",
       "      <td>17</td>\n",
       "      <td>en</td>\n",
       "      <td>Theoretical Computer Science</td>\n",
       "      <td>finish time, main result, integer demand, poly...</td>\n",
       "      <td></td>\n",
       "      <td>The edge multicoloring problem is that given a...</td>\n",
       "      <td>False</td>\n",
       "      <td>Disjoint sets, Discrete mathematics, Graph, Po...</td>\n",
       "      <td>29777</td>\n",
       "    </tr>\n",
       "    <tr>\n",
       "      <th>1</th>\n",
       "      <td>9</td>\n",
       "      <td>53e997e4b7602d9701fdad4b</td>\n",
       "      <td>Research on development and application of OWL...</td>\n",
       "      <td>2013.0</td>\n",
       "      <td>4.0</td>\n",
       "      <td>5</td>\n",
       "      <td>en</td>\n",
       "      <td>0895-7177</td>\n",
       "      <td>Ontology query, Middleware, OWL ontology, Onto...</td>\n",
       "      <td></td>\n",
       "      <td>This paper introduces an OWL ontology search m...</td>\n",
       "      <td>False</td>\n",
       "      <td>Ontology (information science), Upper ontology...</td>\n",
       "      <td>6062</td>\n",
       "    </tr>\n",
       "    <tr>\n",
       "      <th>2</th>\n",
       "      <td>27</td>\n",
       "      <td>53e997f1b7602d9701ff223f</td>\n",
       "      <td>Automated Profile Mapping</td>\n",
       "      <td>2006.0</td>\n",
       "      <td>0.0</td>\n",
       "      <td>6</td>\n",
       "      <td>en</td>\n",
       "      <td></td>\n",
       "      <td>different profile format, increase profile int...</td>\n",
       "      <td>0-88986-560-4</td>\n",
       "      <td>Profiles have a wide range of applications (e....</td>\n",
       "      <td>True</td>\n",
       "      <td>Interoperability, Personalization, Database, C...</td>\n",
       "      <td>15115</td>\n",
       "    </tr>\n",
       "    <tr>\n",
       "      <th>3</th>\n",
       "      <td>51</td>\n",
       "      <td>53e99804b7602d97020164c0</td>\n",
       "      <td>Forward image mapping</td>\n",
       "      <td>1999.0</td>\n",
       "      <td>37.0</td>\n",
       "      <td>8</td>\n",
       "      <td>en</td>\n",
       "      <td></td>\n",
       "      <td>memory bandwidth, hardware, gouraud shading, a...</td>\n",
       "      <td>0-7803-5897-X</td>\n",
       "      <td>We present a new forward image mapping algorit...</td>\n",
       "      <td>False</td>\n",
       "      <td>Artificial intelligence, Scanline rendering, S...</td>\n",
       "      <td>10254</td>\n",
       "    </tr>\n",
       "    <tr>\n",
       "      <th>4</th>\n",
       "      <td>56</td>\n",
       "      <td>53e99808b7602d970201bd20</td>\n",
       "      <td>Computational modeling systems</td>\n",
       "      <td>1995.0</td>\n",
       "      <td>39.0</td>\n",
       "      <td>27</td>\n",
       "      <td>en</td>\n",
       "      <td>Information Systems</td>\n",
       "      <td>data model, computational modeling systems, sc...</td>\n",
       "      <td></td>\n",
       "      <td>A computational modeling system (CMS) provides...</td>\n",
       "      <td>False</td>\n",
       "      <td>Modeling language, Scientific modelling, Progr...</td>\n",
       "      <td>31677</td>\n",
       "    </tr>\n",
       "  </tbody>\n",
       "</table>\n",
       "</div>"
      ],
      "text/plain": [
       "   id                    old_id                                                                       title    year  n_citation  article_len lang                          issn                                                                                                                                                                                                                                                                                                                                                                                                                                                                                                                                                                                                                        keywords           isbn                                                                                                                                                                                                                                                                                                                                                                                                                                                                                                                                                                                                                                                                                                                                                                                                                                                                                                                                                                                                                                                                                                                                                                                                                                                                                                                                                                                                                                                                                                                                                                                                                                                                                                                                                                                                                                                                                                                                                                                    abstract  has_doi                                                                                                                                                                                                                                                  fos  id_venue\n",
       "0   6  53e997ddb7602d9701fd7420                             Minimum sum multicoloring on the edges of trees  2006.0        15.0           17   en  Theoretical Computer Science                                                                                                                                                                                                                                                                                                                                                                                                                                                              finish time, main result, integer demand, polynomial-time approximation scheme, graph g, minimum sum edge, disjoint set, adjacent edge, minimum sum, highest color                                                                                                                                                                                                                                                                                                                                                                                                                                                                                                                                                                                                                                                                                                                                                                                                                                                                                                                                                                                                                                                                                                                                                                                                                                                                                                                                                                                                 The edge multicoloring problem is that given a graph G and integer demands x (e) for every edge e, assign a set of x(e) colors to edge e, such that adjacent edges have disjoint sets of colors. In the minimum sum edge multicoloring problem the finish time of an edge is defined to be the highest color assigned to it. The goal is to minimize the sum of the finish times. The main result of the paper is a polynomial-time approximation scheme for minimum sum multicoloring the edges of trees. We also show that the problem is strongly NP-hard for trees, even if every demand is at most 2.    False                                                                                    Disjoint sets, Discrete mathematics, Graph, Polynomial-time approximation scheme, Combinatorics, Time complexity, Edge cover, Edge coloring, Mathematics, Integer     29777\n",
       "1   9  53e997e4b7602d9701fdad4b  Research on development and application of OWL ontology search middleware.  2013.0         4.0            5   en                     0895-7177                                                                                                                                                                                                                                                                                                                                                                                                                                                                                                                                                                       Ontology query, Middleware, OWL ontology, Ontology search                                                                                                                                                                                                                                                                                                                                                                                                                                                                                                                                                                                                                                                                                                                                                                                                                                                                                                                                                                                                                                                                                                                                                                                                                                                                                                                                                                                                                                                                                                     This paper introduces an OWL ontology search middleware and an ontology search service system to demonstrate the functions of the middleware. The middleware can be used to search multiple ontologies at same time, with complex query conditions. Without a deep understanding of ontology’s structure knowledge and ontology query language, a general user can search ontologies just by inputting keywords with the help of the system. The middleware provides an easy way to search ontologies.    False  Ontology (information science), Upper ontology, Ontology-based data integration, World Wide Web, Process ontology, Information retrieval, Open Biomedical Ontologies, Computer science, Suggested Upper Merged Ontology, OWL-S, Ontology components      6062\n",
       "2  27  53e997f1b7602d9701ff223f                                                   Automated Profile Mapping  2006.0         0.0            6   en                                                                                                                                                                                                                                                                                                                                                                                  different profile format, increase profile interoperability, multiple information system, profile information, content customization, automated profile mapping, information system, device ability profile, manual mapping work, common solution, multiple different format  0-88986-560-4                                                                                                                                                                                                                                                                                                                                                                                                                                                                                                                                                                                                                                                                                                                                                                                                                                                                                                                                                                                                                                                                                                                                          Profiles have a wide range of applications (e.g. user preference and device ability profiles for content customization). There exist multiple different formats for describing profiles. Profiles, which are established in an information system, might be stored in a format different from in other systems. Therefore, profile information can not be shared and re-used by multiple independently developed systems. A common solution is that profiles are mapped manually from one format into another. In this paper, we present a mechanism to automatically map different profile formats into each other based on a minimal set of given mapping definitions. The goals of our approach are to reduce manual mapping work, increase profile interoperability and allow free exchange and share of data in multiple information systems.     True                                                                                                                                                                    Interoperability, Personalization, Database, Computer science, Information system     15115\n",
       "3  51  53e99804b7602d97020164c0                                                       Forward image mapping  1999.0        37.0            8   en                                memory bandwidth, hardware, gouraud shading, accurate antialiasing conic filter, thesource image, target image, forward image mapping, complexity, perspective distortion, forward mapping, perspective distortionin gouraud, image texture, texture mapping, divisionper scanline, special scanline order, perspective-correct image warpingby, antialiasing, thespecial scanline order, normalraster scanline order, anisotropic filtering, source image, computational complexity, special scanline, image warping, normal raster scanline order, new forward image mapping, perspective-correct image, perspective warping  0-7803-5897-X                                                                                                                                                                                                                                                                                                                                                                                                                                                                                                                                                                                                                                                                                                                                                                                                                                                                                                                                                                                                                                                             We present a new forward image mapping algorithm, which speeds up perspective warping — as in texture mapping. It processes the source image in a special scanline order instead of the normal raster scanline order. This special scanline has the property of preserving parallelism when projecting to the target image. The algorithm reduces the complexity of perspective-correct image warping by eliminating the division per pixel and replacing it with a division per scanline. The method also corrects the perspective distortion in Gouraud shading with negligible overhead. Furthermore, the special scanline order is suitable for antialiasing using a more accurate antialiasing conic filter, with minimum additional cost. The algorithm is highlighted by incremental calculations and optimized memory bandwidth by reading each source pixel only once, suggesting a potential hardware implementation.    False                                                             Artificial intelligence, Scanline rendering, Scan line, Texture mapping, Computer vision, Pixel, Ray tracing (graphics), Gouraud shading, Image warping, Image texture, Computer science     10254\n",
       "4  56  53e99808b7602d970201bd20                                              Computational modeling systems  1995.0        39.0           27   en           Information Systems                                                                                                                                                                                                                                                                                                                                                                                                                                                                        data model, computational modeling systems, scientific research, computer model, scientific database systems, data models, computational modeling system                 A computational modeling system (CMS) provides scientific investigators with a unified computational environment and easy access to a broad range of modeling tools. The goal of a CMS is to provide computational support that increases the efficiency of scientists in the iterative process of modeling. A CMS consists of a computational modeling environment and transparent computational support for the environment. The modeling environment is based on a characterization of scientific modeling activities that is focussed on the manner in which scientific concepts are represented, manipulated, and evaluated, in the scientific modeling process. Based on a formalization of the representation for a concept as representational structures (or “R-structures”), the process of scientific modeling may be viewed as one in which (1) extensible collections R-structures are constructed, evaluated and applied in modeling both the phenomena in specific application domains and the phenomena of the modeling process itself; and (2) instances of the domain elements of R-structures are created and sequences of transformations are applied to the instances. R-structures provide a “complete” and consistent foundation for both the modeling environment of a CMS and its associated, high-level computational modeling language (CML). CML may be employed in creating, accessing, and manipulating R-structures and their components in a simple, uniform manner. A CMS provides a unifying framework for the integration of existing tools, such as DBMS and mathematical software modules, and a distributed modeling environment. Based on the general specification of a CMS, we have designed and implemented a specific CMS, Amazonia , which supports earth science applications in terms of a specific set of R-structures and a “seamlessly” integrated and extendable collection of computational modules, including an object-oriented DBMS.    False                 Modeling language, Scientific modelling, Programming language, Scientific method, Iterative and incremental development, Software engineering, Computer science, Extensibility, Data modeling, Mathematical software, Knowledge base     31677"
      ]
     },
     "execution_count": 10,
     "metadata": {},
     "output_type": "execute_result"
    }
   ],
   "source": [
    "fin_articles.limit(5).to_pandas_on_spark()"
   ]
  },
  {
   "cell_type": "code",
   "execution_count": 11,
   "id": "be0f85be",
   "metadata": {},
   "outputs": [],
   "source": [
    "auth_art = spark.read.parquet('./fin_auth_article.parquet/')"
   ]
  },
  {
   "cell_type": "code",
   "execution_count": 12,
   "id": "87622f95",
   "metadata": {},
   "outputs": [],
   "source": [
    "test_ids = df.select('old_id')\n",
    "test_ids = test_ids.join(fin_articles, fin_articles.old_id == test_ids.old_id).select('id')"
   ]
  },
  {
   "cell_type": "code",
   "execution_count": 13,
   "id": "71defe7b",
   "metadata": {},
   "outputs": [
    {
     "name": "stdout",
     "output_type": "stream",
     "text": [
      "+----+\n",
      "|  id|\n",
      "+----+\n",
      "|   9|\n",
      "| 215|\n",
      "| 912|\n",
      "| 920|\n",
      "|1149|\n",
      "|1150|\n",
      "|1395|\n",
      "|1739|\n",
      "|1858|\n",
      "|2170|\n",
      "|2297|\n",
      "|2818|\n",
      "|2879|\n",
      "|3481|\n",
      "|3541|\n",
      "|3733|\n",
      "|3779|\n",
      "|4251|\n",
      "|4632|\n",
      "|4863|\n",
      "+----+\n",
      "only showing top 20 rows\n",
      "\n"
     ]
    }
   ],
   "source": [
    "test_ids.show()"
   ]
  },
  {
   "cell_type": "code",
   "execution_count": 14,
   "id": "7ff73c9d",
   "metadata": {},
   "outputs": [
    {
     "name": "stdout",
     "output_type": "stream",
     "text": [
      "+---------+----------+\n",
      "|id_author|id_article|\n",
      "+---------+----------+\n",
      "|        1|    867327|\n",
      "|        2|    121653|\n",
      "|        3|    825184|\n",
      "|        3|    842284|\n",
      "|        3|   1001088|\n",
      "|        4|    370529|\n",
      "|        5|    598949|\n",
      "|        6|    281983|\n",
      "|        7|    116302|\n",
      "|        8|     23992|\n",
      "|        9|    733026|\n",
      "|       10|    127746|\n",
      "|       11|    428531|\n",
      "|       11|    538599|\n",
      "|       12|    743830|\n",
      "|       13|    971539|\n",
      "|       14|     94588|\n",
      "|       15|    719499|\n",
      "|       16|    795106|\n",
      "|       17|    727383|\n",
      "+---------+----------+\n",
      "only showing top 20 rows\n",
      "\n"
     ]
    }
   ],
   "source": [
    "auth_art.show()"
   ]
  },
  {
   "cell_type": "code",
   "execution_count": 15,
   "id": "4a8f945c",
   "metadata": {},
   "outputs": [],
   "source": [
    "auth_art_test = auth_art.join(test_ids, auth_art.id_article == test_ids.id).select('id_author', 'id_article')"
   ]
  },
  {
   "cell_type": "code",
   "execution_count": 16,
   "id": "f025c83e",
   "metadata": {},
   "outputs": [
    {
     "name": "stdout",
     "output_type": "stream",
     "text": [
      "+---------+----------+\n",
      "|id_author|id_article|\n",
      "+---------+----------+\n",
      "|     1489|    409092|\n",
      "|     1543|    409092|\n",
      "|     3142|    460123|\n",
      "|     4615|    743061|\n",
      "|     4624|     11033|\n",
      "|     5845|    839814|\n",
      "|     6503|    611726|\n",
      "|     6730|    450801|\n",
      "|     7014|    108221|\n",
      "|     8651|    716590|\n",
      "|     9229|    284829|\n",
      "|    10669|    597388|\n",
      "|    13063|    829115|\n",
      "|    15045|    155510|\n",
      "|    15047|    627610|\n",
      "|    15435|    171723|\n",
      "|    16945|    564376|\n",
      "|    17449|    463850|\n",
      "|    18834|    250934|\n",
      "|    20539|    835106|\n",
      "+---------+----------+\n",
      "only showing top 20 rows\n",
      "\n"
     ]
    }
   ],
   "source": [
    "auth_art_test.show()"
   ]
  },
  {
   "cell_type": "code",
   "execution_count": 17,
   "id": "dbef410f",
   "metadata": {},
   "outputs": [],
   "source": [
    "authors_test = auth_art_test.select('id_author')"
   ]
  },
  {
   "cell_type": "code",
   "execution_count": 18,
   "id": "6d9b6e01",
   "metadata": {},
   "outputs": [
    {
     "name": "stderr",
     "output_type": "stream",
     "text": [
      "/home/ippk93/anaconda3/envs/made_1/lib/python3.10/site-packages/pyspark/sql/dataframe.py:3313: FutureWarning: DataFrame.to_pandas_on_spark is deprecated. Use DataFrame.pandas_api instead.\n",
      "  warnings.warn(\n"
     ]
    }
   ],
   "source": [
    "pd_test = authors_test.to_pandas_on_spark()"
   ]
  },
  {
   "cell_type": "code",
   "execution_count": 19,
   "id": "5670b2f9",
   "metadata": {},
   "outputs": [
    {
     "data": {
      "text/html": [
       "<div>\n",
       "<style scoped>\n",
       "    .dataframe tbody tr th:only-of-type {\n",
       "        vertical-align: middle;\n",
       "    }\n",
       "\n",
       "    .dataframe tbody tr th {\n",
       "        vertical-align: top;\n",
       "    }\n",
       "\n",
       "    .dataframe thead th {\n",
       "        text-align: right;\n",
       "    }\n",
       "</style>\n",
       "<table border=\"1\" class=\"dataframe\">\n",
       "  <thead>\n",
       "    <tr style=\"text-align: right;\">\n",
       "      <th></th>\n",
       "      <th>id_author</th>\n",
       "    </tr>\n",
       "  </thead>\n",
       "  <tbody>\n",
       "    <tr>\n",
       "      <th>0</th>\n",
       "      <td>1489</td>\n",
       "    </tr>\n",
       "    <tr>\n",
       "      <th>1</th>\n",
       "      <td>1543</td>\n",
       "    </tr>\n",
       "    <tr>\n",
       "      <th>2</th>\n",
       "      <td>3142</td>\n",
       "    </tr>\n",
       "    <tr>\n",
       "      <th>3</th>\n",
       "      <td>4615</td>\n",
       "    </tr>\n",
       "    <tr>\n",
       "      <th>4</th>\n",
       "      <td>4624</td>\n",
       "    </tr>\n",
       "  </tbody>\n",
       "</table>\n",
       "</div>"
      ],
      "text/plain": [
       "   id_author\n",
       "0       1489\n",
       "1       1543\n",
       "2       3142\n",
       "3       4615\n",
       "4       4624"
      ]
     },
     "execution_count": 19,
     "metadata": {},
     "output_type": "execute_result"
    }
   ],
   "source": [
    "pd_test.head()"
   ]
  },
  {
   "cell_type": "code",
   "execution_count": 20,
   "id": "c99933b5",
   "metadata": {},
   "outputs": [
    {
     "name": "stderr",
     "output_type": "stream",
     "text": [
      "/home/ippk93/anaconda3/envs/made_1/lib/python3.10/site-packages/pyspark/pandas/utils.py:975: PandasAPIOnSparkAdviceWarning: `to_numpy` loads all data into the driver's memory. It should only be used if the resulting NumPy ndarray is expected to be small.\n",
      "  warnings.warn(message, PandasAPIOnSparkAdviceWarning)\n"
     ]
    }
   ],
   "source": [
    "temp_ids = pd_test['id_author'].to_numpy()"
   ]
  },
  {
   "cell_type": "code",
   "execution_count": 21,
   "id": "9a35564a",
   "metadata": {},
   "outputs": [],
   "source": [
    "author_tag_pd = author_tag_nums.select('id_author', 'tags').toPandas()"
   ]
  },
  {
   "cell_type": "code",
   "execution_count": 22,
   "id": "9ce8d1b8",
   "metadata": {},
   "outputs": [
    {
     "data": {
      "text/html": [
       "<div>\n",
       "<style scoped>\n",
       "    .dataframe tbody tr th:only-of-type {\n",
       "        vertical-align: middle;\n",
       "    }\n",
       "\n",
       "    .dataframe tbody tr th {\n",
       "        vertical-align: top;\n",
       "    }\n",
       "\n",
       "    .dataframe thead th {\n",
       "        text-align: right;\n",
       "    }\n",
       "</style>\n",
       "<table border=\"1\" class=\"dataframe\">\n",
       "  <thead>\n",
       "    <tr style=\"text-align: right;\">\n",
       "      <th></th>\n",
       "      <th>id_author</th>\n",
       "      <th>tags</th>\n",
       "    </tr>\n",
       "  </thead>\n",
       "  <tbody>\n",
       "    <tr>\n",
       "      <th>0</th>\n",
       "      <td>53</td>\n",
       "      <td>bit</td>\n",
       "    </tr>\n",
       "    <tr>\n",
       "      <th>1</th>\n",
       "      <td>53</td>\n",
       "      <td>frame</td>\n",
       "    </tr>\n",
       "    <tr>\n",
       "      <th>2</th>\n",
       "      <td>53</td>\n",
       "      <td>encoding</td>\n",
       "    </tr>\n",
       "    <tr>\n",
       "      <th>3</th>\n",
       "      <td>53</td>\n",
       "      <td>location</td>\n",
       "    </tr>\n",
       "    <tr>\n",
       "      <th>4</th>\n",
       "      <td>53</td>\n",
       "      <td>mode</td>\n",
       "    </tr>\n",
       "  </tbody>\n",
       "</table>\n",
       "</div>"
      ],
      "text/plain": [
       "   id_author      tags\n",
       "0         53       bit\n",
       "1         53     frame\n",
       "2         53  encoding\n",
       "3         53  location\n",
       "4         53      mode"
      ]
     },
     "execution_count": 22,
     "metadata": {},
     "output_type": "execute_result"
    }
   ],
   "source": [
    "author_tag_pd.head()"
   ]
  },
  {
   "cell_type": "code",
   "execution_count": 43,
   "id": "c47c54f7",
   "metadata": {},
   "outputs": [],
   "source": [
    "jaccard_measures = []"
   ]
  },
  {
   "cell_type": "code",
   "execution_count": null,
   "id": "e2c7e827",
   "metadata": {
    "scrolled": false
   },
   "outputs": [],
   "source": [
    "for id_ in tqdm(temp_ids):\n",
    "    int_id = int(id_)\n",
    "    res = get_recommendations(int_id)\n",
    "\n",
    "    tags_author = set(author_tag_pd[author_tag_pd['id_author'] == int_id]['tags'])\n",
    "    \n",
    "    jac_num = 0\n",
    "    jac_denom = 0\n",
    "    for author_id in res['id_author']:\n",
    "        tags_coauthor = set(author_tag_pd[author_tag_pd['id_author'] == author_id]['tags'])\n",
    "        \n",
    "        jac_num += len(tags_author.intersection(tags_coauthor))\n",
    "        jac_denom += len(tags_author.union(tags_coauthor))\n",
    "        \n",
    "    if jac_num != jac_denom:\n",
    "        jaccard_measures.append(jac_num / jac_denom)"
   ]
  },
  {
   "cell_type": "code",
   "execution_count": 57,
   "id": "4619ddb0",
   "metadata": {},
   "outputs": [],
   "source": [
    "jac_numpy = np.array(jaccard_measures)"
   ]
  },
  {
   "cell_type": "code",
   "execution_count": 61,
   "id": "a972a564",
   "metadata": {},
   "outputs": [
    {
     "name": "stdout",
     "output_type": "stream",
     "text": [
      "Median: 0.045271049596309114\n",
      "Mean: 0.05732289293591393\n"
     ]
    }
   ],
   "source": [
    "print(\"Median:\", np.median(jac_numpy))\n",
    "print(\"Mean:\", np.mean(jac_numpy))"
   ]
  },
  {
   "cell_type": "code",
   "execution_count": null,
   "id": "e76d35b1",
   "metadata": {},
   "outputs": [],
   "source": []
  },
  {
   "cell_type": "code",
   "execution_count": 96,
   "id": "0a0db256",
   "metadata": {},
   "outputs": [
    {
     "data": {
      "image/png": "[encoded data removed]",
      "text/plain": [
       "<Figure size 1872x576 with 1 Axes>"
      ]
     },
     "metadata": {
      "needs_background": "light"
     },
     "output_type": "display_data"
    }
   ],
   "source": [
    "sns.histplot(jaccard_measures, kde=True, common_bins=True, stat='density', bins=100)\n",
    "plt.grid()"
   ]
  },
  {
   "cell_type": "code",
   "execution_count": null,
   "id": "f117bb7f",
   "metadata": {},
   "outputs": [],
   "source": []
  },
  {
   "cell_type": "code",
   "execution_count": 90,
   "id": "6c32d3e3",
   "metadata": {},
   "outputs": [],
   "source": [
    "jaccard_measures_random = []"
   ]
  },
  {
   "cell_type": "code",
   "execution_count": null,
   "id": "335844dc",
   "metadata": {},
   "outputs": [],
   "source": [
    "for id_ in tqdm(temp_ids):\n",
    "    int_id = int(id_)\n",
    "    \n",
    "    tags_author = set(author_tag_pd[author_tag_pd['id_author'] == int_id]['tags'])\n",
    "\n",
    "    jac_num = 0\n",
    "    jac_denom = 0\n",
    "    for author_id in author_tag_pd['id_author'].sample(n=10):\n",
    "        tags_coauthor = set(author_tag_pd[author_tag_pd['id_author'] == author_id]['tags'])\n",
    "        \n",
    "        jac_num += len(tags_author.intersection(tags_coauthor))\n",
    "        jac_denom += len(tags_author.union(tags_coauthor))\n",
    "        \n",
    "    if jac_num != jac_denom:\n",
    "        jaccard_measures_random.append(jac_num / jac_denom)"
   ]
  },
  {
   "cell_type": "code",
   "execution_count": null,
   "id": "9aa4b8f3",
   "metadata": {},
   "outputs": [],
   "source": []
  },
  {
   "cell_type": "code",
   "execution_count": 92,
   "id": "0692fd2a",
   "metadata": {},
   "outputs": [
    {
     "name": "stdout",
     "output_type": "stream",
     "text": [
      "Median: 0.0\n",
      "Mean: 0.030833509906638825\n"
     ]
    }
   ],
   "source": [
    "print(\"Median:\", np.median(np.array(jaccard_measures_random)))\n",
    "print(\"Mean:\", np.mean(np.array(jaccard_measures_random)))"
   ]
  },
  {
   "cell_type": "code",
   "execution_count": 97,
   "id": "3931f315",
   "metadata": {},
   "outputs": [
    {
     "data": {
      "image/png": "[encoded data removed]",
      "text/plain": [
       "<Figure size 1872x576 with 1 Axes>"
      ]
     },
     "metadata": {
      "needs_background": "light"
     },
     "output_type": "display_data"
    }
   ],
   "source": [
    "sns.histplot(jaccard_measures_random, kde=True, common_bins=True, stat='density', bins=100)\n",
    "plt.grid()"
   ]
  },
  {
   "cell_type": "markdown",
   "id": "fc811caa",
   "metadata": {},
   "source": [
    "## Conclusion"
   ]
  },
  {
   "cell_type": "markdown",
   "id": "425b0eb5",
   "metadata": {},
   "source": [
    "Наша модель существенно превосходит бейзлайн (у которого медиана распределения метрики находится в 0). \n",
    "\n",
    "Из смысла медианы - не менее половины предсказаний у бейзлайна дают метрику == 0 (против 0.045 у нашей модели)."
   ]
  },
  {
   "cell_type": "code",
   "execution_count": null,
   "id": "7b8da9ac",
   "metadata": {},
   "outputs": [],
   "source": []
  }
 ],
 "metadata": {
  "kernelspec": {
   "display_name": "Python 3",
   "language": "python",
   "name": "python3"
  },
  "language_info": {
   "codemirror_mode": {
    "name": "ipython",
    "version": 3
   },
   "file_extension": ".py",
   "mimetype": "text/x-python",
   "name": "python",
   "nbconvert_exporter": "python",
   "pygments_lexer": "ipython3",
   "version": "3.10.4"
  }
 },
 "nbformat": 4,
 "nbformat_minor": 5
}
